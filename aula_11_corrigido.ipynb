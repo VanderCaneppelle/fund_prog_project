{
 "cells": [
  {
   "cell_type": "markdown",
   "id": "f66f5ab2",
   "metadata": {},
   "source": [
    "# COMANDOS AUXILIARES"
   ]
  },
  {
   "cell_type": "markdown",
   "id": "6a0edcdf",
   "metadata": {},
   "source": [
    "## Inserção de imagens"
   ]
  },
  {
   "cell_type": "code",
   "execution_count": 1,
   "id": "fa4c2e60",
   "metadata": {
    "ExecuteTime": {
     "end_time": "2022-07-18T22:55:07.340621Z",
     "start_time": "2022-07-18T22:55:07.337519Z"
    }
   },
   "outputs": [],
   "source": [
    "from IPython.display import Image"
   ]
  },
  {
   "cell_type": "markdown",
   "id": "4596b7c0",
   "metadata": {},
   "source": [
    "## Imports"
   ]
  },
  {
   "cell_type": "code",
   "execution_count": 2,
   "id": "d10145d2",
   "metadata": {
    "ExecuteTime": {
     "end_time": "2022-07-18T22:55:10.212408Z",
     "start_time": "2022-07-18T22:55:08.865530Z"
    }
   },
   "outputs": [],
   "source": [
    "import seaborn as sns\n",
    "import pandas  as pd\n",
    "import numpy   as np\n",
    "import math"
   ]
  },
  {
   "cell_type": "markdown",
   "id": "a7175ea5",
   "metadata": {},
   "source": [
    "# KICK OFF DO PROJETO!"
   ]
  },
  {
   "cell_type": "markdown",
   "id": "dadc7973",
   "metadata": {},
   "source": [
    "## Contexto do Problema de Negócio"
   ]
  },
  {
   "cell_type": "markdown",
   "id": "974c21fa",
   "metadata": {},
   "source": [
    "A Xtreme Groovy Bikes Sales é uma empresa de revenda de motocicletas. Seu modelo de nogócio é revender motocicletas usadas. Com a crescente do valor dos veículos usados, a XGB Sales, como é conhecida, deseja expandir os seus negócios. Você foi contratado como cientista de dados pela empresa XGB Sales para ajudá-los a encotrar as melhores motocicletas para revenda. \n",
    "\n",
    "Para isso, o CEO da empresa fez um estudo de mercado lhe entregou uma base de dados, obtida através desse estudo, para que você consiga auxiliá-lo a encontrar as melhores motocicletas para revenda, aumentando assim o lucro da empresa.\n",
    "\n",
    "Além disso, o CEO lhe fez algumas perguntas a cerca da base de dados que a empresa possui.\n",
    "Lembrando que o contexto, pessoas e perguntas são completamente fictícios e existem somente na minha imaginação."
   ]
  },
  {
   "cell_type": "markdown",
   "id": "03539e7c",
   "metadata": {},
   "source": [
    "## O Desafio"
   ]
  },
  {
   "cell_type": "markdown",
   "id": "2114574c",
   "metadata": {},
   "source": [
    "A empresa XGB Sales lhe contratou como cientista de dados pois ela deseja aumentar o seu lucro comprando e revendendo as melhores motos disponíveis dentro da base de dados que a empresa adquiriu através de um estudo de mercado. \n",
    "\n",
    "Dessa forma, o CEO da XGB Sales lhe fez as seguintes perguntas:\n",
    "\n",
    "1. Quantas motos temos dentro do Dataset?\n",
    "2. Qual é o ano da moto mais antiga da base de dados?\n",
    "3. Qual é o ano da moto mais nova da base de dados?\n",
    "4. Qual é o valor da moto mais cara da base de dados?\n",
    "5. Qual é o valor do hodômotro da moto com a maior quilometragem?\n",
    "6. Qual é o valor do hodômotro da moto com a menor quiilometragem?\n",
    "7. Das motocicletas que estão sendo expostas dentro de um Show Room, qual é o maior valor registrado na base de dados?\n",
    "8. Das motocicletas que estão sendo expostas dentro de um Show Room, qual é o menor valor registrado na base de dados?\n",
    "9. Quantas motocicletas estão sendo vendidades pelos seus donos e quantas estão sendo vendidas por outros revendedores?\n",
    "10. Qual é a média de valores das motos na base de dados?\n",
    "11. Qual é a média de ano das motos cadastradas dentro da base de dados?\n",
    "12. Qual é a média de quilometragem das motos cadastradas dentro da base de dados?\n",
    "13. Existem quantas motos dentro da base de dados que são motos de um único dono?\n",
    "14. As motos com menor quilometragem são as motos mais baratas do Dataset?"
   ]
  },
  {
   "cell_type": "markdown",
   "id": "bf69ae6d",
   "metadata": {},
   "source": [
    "## A Base de Dados"
   ]
  },
  {
   "cell_type": "markdown",
   "id": "5e9f4dbc",
   "metadata": {},
   "source": [
    "O conjunto de dados que representam o contexto está disponível na plataforma do Kaggle. O link para acesso aos dados:\n",
    "\n",
    "[Motorcycle Dataset](https://www.kaggle.com/datasets/nehalbirla/motorcycle-dataset)"
   ]
  },
  {
   "cell_type": "markdown",
   "id": "deb32456",
   "metadata": {},
   "source": [
    "## Como Solucionar Esse Desafio"
   ]
  },
  {
   "cell_type": "markdown",
   "id": "3cfbb8e3",
   "metadata": {},
   "source": [
    "Aqui vão algumas dicas para você começar a resolver esse problema:\n",
    "\n",
    "* **Tenha calma e não tenha medo:** Crie suposições e faça testes, dando um passo de cada vez para, a cada novo passo, estar mais próximo da resposta.\n",
    "\n",
    "* **Responda as perguntas antes de Codificar:** Como você faria, se não tivesse que programar, para responder as perguntas feitas? Pensando antes em como responder, facilitará no momento de codificar o algoritmo para achar a resposta, porque isso faz parte do planejamento da solução!\n",
    "\n",
    "* **Tenha Paciência e Resiliência:** Criar soluções e, principalmente, pensar e planejá-las leva tempo. Assuma uma postura resiliente e não desista! Afinal, você quer se tornar um Cientista de Dados, ganhar ótimos salários e trabalhar em ótimas empresas, certo?\n",
    "\n",
    "* **A Comunidade:** Caso você tenha tentado várias estratégias e não tenha chegado a uma solução ou não tenha avançado, peça ajuda dentro da Comunidade de DS! Estamos todos para nos ajudar nessa jornada que é a Ciência de Dados."
   ]
  },
  {
   "cell_type": "markdown",
   "id": "ee8d1c40",
   "metadata": {},
   "source": [
    "## Solucionando o Desafio"
   ]
  },
  {
   "cell_type": "markdown",
   "id": "40f31f75",
   "metadata": {},
   "source": [
    "### Carregamento dos Dados"
   ]
  },
  {
   "cell_type": "code",
   "execution_count": 3,
   "id": "aa06ea5c",
   "metadata": {
    "ExecuteTime": {
     "end_time": "2022-07-18T22:55:13.858556Z",
     "start_time": "2022-07-18T22:55:13.838715Z"
    }
   },
   "outputs": [
    {
     "data": {
      "text/html": [
       "<div>\n",
       "<style scoped>\n",
       "    .dataframe tbody tr th:only-of-type {\n",
       "        vertical-align: middle;\n",
       "    }\n",
       "\n",
       "    .dataframe tbody tr th {\n",
       "        vertical-align: top;\n",
       "    }\n",
       "\n",
       "    .dataframe thead th {\n",
       "        text-align: right;\n",
       "    }\n",
       "</style>\n",
       "<table border=\"1\" class=\"dataframe\">\n",
       "  <thead>\n",
       "    <tr style=\"text-align: right;\">\n",
       "      <th></th>\n",
       "      <th>name</th>\n",
       "      <th>selling_price</th>\n",
       "      <th>year</th>\n",
       "      <th>seller_type</th>\n",
       "      <th>owner</th>\n",
       "      <th>km_driven</th>\n",
       "      <th>ex_showroom_price</th>\n",
       "    </tr>\n",
       "  </thead>\n",
       "  <tbody>\n",
       "    <tr>\n",
       "      <th>0</th>\n",
       "      <td>Royal Enfield Classic 350</td>\n",
       "      <td>175000</td>\n",
       "      <td>2019</td>\n",
       "      <td>Individual</td>\n",
       "      <td>1st owner</td>\n",
       "      <td>350</td>\n",
       "      <td>NaN</td>\n",
       "    </tr>\n",
       "    <tr>\n",
       "      <th>1</th>\n",
       "      <td>Honda Dio</td>\n",
       "      <td>45000</td>\n",
       "      <td>2017</td>\n",
       "      <td>Individual</td>\n",
       "      <td>1st owner</td>\n",
       "      <td>5650</td>\n",
       "      <td>NaN</td>\n",
       "    </tr>\n",
       "    <tr>\n",
       "      <th>2</th>\n",
       "      <td>Royal Enfield Classic Gunmetal Grey</td>\n",
       "      <td>150000</td>\n",
       "      <td>2018</td>\n",
       "      <td>Individual</td>\n",
       "      <td>1st owner</td>\n",
       "      <td>12000</td>\n",
       "      <td>148114.0</td>\n",
       "    </tr>\n",
       "    <tr>\n",
       "      <th>3</th>\n",
       "      <td>Yamaha Fazer FI V 2.0 [2016-2018]</td>\n",
       "      <td>65000</td>\n",
       "      <td>2015</td>\n",
       "      <td>Individual</td>\n",
       "      <td>1st owner</td>\n",
       "      <td>23000</td>\n",
       "      <td>89643.0</td>\n",
       "    </tr>\n",
       "    <tr>\n",
       "      <th>4</th>\n",
       "      <td>Yamaha SZ [2013-2014]</td>\n",
       "      <td>20000</td>\n",
       "      <td>2011</td>\n",
       "      <td>Individual</td>\n",
       "      <td>2nd owner</td>\n",
       "      <td>21000</td>\n",
       "      <td>NaN</td>\n",
       "    </tr>\n",
       "  </tbody>\n",
       "</table>\n",
       "</div>"
      ],
      "text/plain": [
       "                                  name  selling_price  year seller_type  \\\n",
       "0            Royal Enfield Classic 350         175000  2019  Individual   \n",
       "1                            Honda Dio          45000  2017  Individual   \n",
       "2  Royal Enfield Classic Gunmetal Grey         150000  2018  Individual   \n",
       "3    Yamaha Fazer FI V 2.0 [2016-2018]          65000  2015  Individual   \n",
       "4                Yamaha SZ [2013-2014]          20000  2011  Individual   \n",
       "\n",
       "       owner  km_driven  ex_showroom_price  \n",
       "0  1st owner        350                NaN  \n",
       "1  1st owner       5650                NaN  \n",
       "2  1st owner      12000           148114.0  \n",
       "3  1st owner      23000            89643.0  \n",
       "4  2nd owner      21000                NaN  "
      ]
     },
     "execution_count": 3,
     "metadata": {},
     "output_type": "execute_result"
    }
   ],
   "source": [
    "df = pd.read_csv('csv/bike.csv')\n",
    "df.head()"
   ]
  },
  {
   "cell_type": "markdown",
   "id": "ffa0c007",
   "metadata": {},
   "source": [
    "### Verificação das Colunas"
   ]
  },
  {
   "cell_type": "code",
   "execution_count": 4,
   "id": "f374ffd9",
   "metadata": {
    "ExecuteTime": {
     "end_time": "2022-07-18T22:55:14.123509Z",
     "start_time": "2022-07-18T22:55:14.116993Z"
    }
   },
   "outputs": [
    {
     "data": {
      "text/plain": [
       "name                  object\n",
       "selling_price          int64\n",
       "year                   int64\n",
       "seller_type           object\n",
       "owner                 object\n",
       "km_driven              int64\n",
       "ex_showroom_price    float64\n",
       "dtype: object"
      ]
     },
     "execution_count": 4,
     "metadata": {},
     "output_type": "execute_result"
    }
   ],
   "source": [
    "df.dtypes"
   ]
  },
  {
   "cell_type": "markdown",
   "id": "edb5b1e6",
   "metadata": {},
   "source": [
    "### Ajuste dos tipos de dados das colunas"
   ]
  },
  {
   "cell_type": "code",
   "execution_count": 5,
   "id": "bd477e10",
   "metadata": {
    "ExecuteTime": {
     "end_time": "2022-07-18T22:55:14.419546Z",
     "start_time": "2022-07-18T22:55:14.408074Z"
    }
   },
   "outputs": [
    {
     "data": {
      "text/html": [
       "<div>\n",
       "<style scoped>\n",
       "    .dataframe tbody tr th:only-of-type {\n",
       "        vertical-align: middle;\n",
       "    }\n",
       "\n",
       "    .dataframe tbody tr th {\n",
       "        vertical-align: top;\n",
       "    }\n",
       "\n",
       "    .dataframe thead th {\n",
       "        text-align: right;\n",
       "    }\n",
       "</style>\n",
       "<table border=\"1\" class=\"dataframe\">\n",
       "  <thead>\n",
       "    <tr style=\"text-align: right;\">\n",
       "      <th></th>\n",
       "      <th>name</th>\n",
       "      <th>selling_price</th>\n",
       "      <th>year</th>\n",
       "      <th>seller_type</th>\n",
       "      <th>owner</th>\n",
       "      <th>km_driven</th>\n",
       "      <th>ex_showroom_price</th>\n",
       "    </tr>\n",
       "  </thead>\n",
       "  <tbody>\n",
       "    <tr>\n",
       "      <th>0</th>\n",
       "      <td>Royal Enfield Classic 350</td>\n",
       "      <td>175000</td>\n",
       "      <td>2019</td>\n",
       "      <td>Individual</td>\n",
       "      <td>1st owner</td>\n",
       "      <td>350</td>\n",
       "      <td>NaN</td>\n",
       "    </tr>\n",
       "    <tr>\n",
       "      <th>1</th>\n",
       "      <td>Honda Dio</td>\n",
       "      <td>45000</td>\n",
       "      <td>2017</td>\n",
       "      <td>Individual</td>\n",
       "      <td>1st owner</td>\n",
       "      <td>5650</td>\n",
       "      <td>NaN</td>\n",
       "    </tr>\n",
       "    <tr>\n",
       "      <th>2</th>\n",
       "      <td>Royal Enfield Classic Gunmetal Grey</td>\n",
       "      <td>150000</td>\n",
       "      <td>2018</td>\n",
       "      <td>Individual</td>\n",
       "      <td>1st owner</td>\n",
       "      <td>12000</td>\n",
       "      <td>148114.0</td>\n",
       "    </tr>\n",
       "    <tr>\n",
       "      <th>3</th>\n",
       "      <td>Yamaha Fazer FI V 2.0 [2016-2018]</td>\n",
       "      <td>65000</td>\n",
       "      <td>2015</td>\n",
       "      <td>Individual</td>\n",
       "      <td>1st owner</td>\n",
       "      <td>23000</td>\n",
       "      <td>89643.0</td>\n",
       "    </tr>\n",
       "    <tr>\n",
       "      <th>4</th>\n",
       "      <td>Yamaha SZ [2013-2014]</td>\n",
       "      <td>20000</td>\n",
       "      <td>2011</td>\n",
       "      <td>Individual</td>\n",
       "      <td>2nd owner</td>\n",
       "      <td>21000</td>\n",
       "      <td>NaN</td>\n",
       "    </tr>\n",
       "  </tbody>\n",
       "</table>\n",
       "</div>"
      ],
      "text/plain": [
       "                                  name  selling_price  year seller_type  \\\n",
       "0            Royal Enfield Classic 350         175000  2019  Individual   \n",
       "1                            Honda Dio          45000  2017  Individual   \n",
       "2  Royal Enfield Classic Gunmetal Grey         150000  2018  Individual   \n",
       "3    Yamaha Fazer FI V 2.0 [2016-2018]          65000  2015  Individual   \n",
       "4                Yamaha SZ [2013-2014]          20000  2011  Individual   \n",
       "\n",
       "       owner  km_driven  ex_showroom_price  \n",
       "0  1st owner        350                NaN  \n",
       "1  1st owner       5650                NaN  \n",
       "2  1st owner      12000           148114.0  \n",
       "3  1st owner      23000            89643.0  \n",
       "4  2nd owner      21000                NaN  "
      ]
     },
     "execution_count": 5,
     "metadata": {},
     "output_type": "execute_result"
    }
   ],
   "source": [
    "# Ajustando a coluna para Datetime\n",
    "df['year'] = pd.to_datetime(df['year'], format='%Y')\n",
    "\n",
    "# Recuperando somente o ano da coluna\n",
    "df['year'] = df['year'].dt.year\n",
    "\n",
    "df.head()"
   ]
  },
  {
   "cell_type": "code",
   "execution_count": 6,
   "id": "2e9eac00",
   "metadata": {
    "ExecuteTime": {
     "end_time": "2022-07-18T22:55:14.556374Z",
     "start_time": "2022-07-18T22:55:14.543981Z"
    }
   },
   "outputs": [
    {
     "data": {
      "text/html": [
       "<div>\n",
       "<style scoped>\n",
       "    .dataframe tbody tr th:only-of-type {\n",
       "        vertical-align: middle;\n",
       "    }\n",
       "\n",
       "    .dataframe tbody tr th {\n",
       "        vertical-align: top;\n",
       "    }\n",
       "\n",
       "    .dataframe thead th {\n",
       "        text-align: right;\n",
       "    }\n",
       "</style>\n",
       "<table border=\"1\" class=\"dataframe\">\n",
       "  <thead>\n",
       "    <tr style=\"text-align: right;\">\n",
       "      <th></th>\n",
       "      <th>id</th>\n",
       "      <th>name</th>\n",
       "      <th>selling_price</th>\n",
       "      <th>year</th>\n",
       "      <th>seller_type</th>\n",
       "      <th>owner</th>\n",
       "      <th>km_driven</th>\n",
       "      <th>ex_showroom_price</th>\n",
       "    </tr>\n",
       "  </thead>\n",
       "  <tbody>\n",
       "    <tr>\n",
       "      <th>0</th>\n",
       "      <td>0</td>\n",
       "      <td>Royal Enfield Classic 350</td>\n",
       "      <td>175000</td>\n",
       "      <td>2019</td>\n",
       "      <td>Individual</td>\n",
       "      <td>1st owner</td>\n",
       "      <td>350</td>\n",
       "      <td>NaN</td>\n",
       "    </tr>\n",
       "    <tr>\n",
       "      <th>1</th>\n",
       "      <td>1</td>\n",
       "      <td>Honda Dio</td>\n",
       "      <td>45000</td>\n",
       "      <td>2017</td>\n",
       "      <td>Individual</td>\n",
       "      <td>1st owner</td>\n",
       "      <td>5650</td>\n",
       "      <td>NaN</td>\n",
       "    </tr>\n",
       "    <tr>\n",
       "      <th>2</th>\n",
       "      <td>2</td>\n",
       "      <td>Royal Enfield Classic Gunmetal Grey</td>\n",
       "      <td>150000</td>\n",
       "      <td>2018</td>\n",
       "      <td>Individual</td>\n",
       "      <td>1st owner</td>\n",
       "      <td>12000</td>\n",
       "      <td>148114.0</td>\n",
       "    </tr>\n",
       "    <tr>\n",
       "      <th>3</th>\n",
       "      <td>3</td>\n",
       "      <td>Yamaha Fazer FI V 2.0 [2016-2018]</td>\n",
       "      <td>65000</td>\n",
       "      <td>2015</td>\n",
       "      <td>Individual</td>\n",
       "      <td>1st owner</td>\n",
       "      <td>23000</td>\n",
       "      <td>89643.0</td>\n",
       "    </tr>\n",
       "    <tr>\n",
       "      <th>4</th>\n",
       "      <td>4</td>\n",
       "      <td>Yamaha SZ [2013-2014]</td>\n",
       "      <td>20000</td>\n",
       "      <td>2011</td>\n",
       "      <td>Individual</td>\n",
       "      <td>2nd owner</td>\n",
       "      <td>21000</td>\n",
       "      <td>NaN</td>\n",
       "    </tr>\n",
       "  </tbody>\n",
       "</table>\n",
       "</div>"
      ],
      "text/plain": [
       "   id                                 name  selling_price  year seller_type  \\\n",
       "0   0            Royal Enfield Classic 350         175000  2019  Individual   \n",
       "1   1                            Honda Dio          45000  2017  Individual   \n",
       "2   2  Royal Enfield Classic Gunmetal Grey         150000  2018  Individual   \n",
       "3   3    Yamaha Fazer FI V 2.0 [2016-2018]          65000  2015  Individual   \n",
       "4   4                Yamaha SZ [2013-2014]          20000  2011  Individual   \n",
       "\n",
       "       owner  km_driven  ex_showroom_price  \n",
       "0  1st owner        350                NaN  \n",
       "1  1st owner       5650                NaN  \n",
       "2  1st owner      12000           148114.0  \n",
       "3  1st owner      23000            89643.0  \n",
       "4  2nd owner      21000                NaN  "
      ]
     },
     "execution_count": 6,
     "metadata": {},
     "output_type": "execute_result"
    }
   ],
   "source": [
    "# Criando a coluna Index para registrarmos\n",
    "df = df.reset_index()\n",
    "df = df.rename(columns={'index': 'id'})\n",
    "df.head()"
   ]
  },
  {
   "cell_type": "code",
   "execution_count": 7,
   "id": "cc7a477f",
   "metadata": {
    "ExecuteTime": {
     "end_time": "2022-07-18T22:55:14.908814Z",
     "start_time": "2022-07-18T22:55:14.896993Z"
    }
   },
   "outputs": [
    {
     "data": {
      "text/html": [
       "<div>\n",
       "<style scoped>\n",
       "    .dataframe tbody tr th:only-of-type {\n",
       "        vertical-align: middle;\n",
       "    }\n",
       "\n",
       "    .dataframe tbody tr th {\n",
       "        vertical-align: top;\n",
       "    }\n",
       "\n",
       "    .dataframe thead th {\n",
       "        text-align: right;\n",
       "    }\n",
       "</style>\n",
       "<table border=\"1\" class=\"dataframe\">\n",
       "  <thead>\n",
       "    <tr style=\"text-align: right;\">\n",
       "      <th></th>\n",
       "      <th>id</th>\n",
       "      <th>name</th>\n",
       "      <th>selling_price</th>\n",
       "      <th>year</th>\n",
       "      <th>seller_type</th>\n",
       "      <th>owner</th>\n",
       "      <th>km_driven</th>\n",
       "      <th>ex_showroom_price</th>\n",
       "    </tr>\n",
       "  </thead>\n",
       "  <tbody>\n",
       "    <tr>\n",
       "      <th>0</th>\n",
       "      <td>0</td>\n",
       "      <td>Royal Enfield Classic 350</td>\n",
       "      <td>175000.0</td>\n",
       "      <td>2019</td>\n",
       "      <td>Individual</td>\n",
       "      <td>1st owner</td>\n",
       "      <td>350</td>\n",
       "      <td>NaN</td>\n",
       "    </tr>\n",
       "    <tr>\n",
       "      <th>1</th>\n",
       "      <td>1</td>\n",
       "      <td>Honda Dio</td>\n",
       "      <td>45000.0</td>\n",
       "      <td>2017</td>\n",
       "      <td>Individual</td>\n",
       "      <td>1st owner</td>\n",
       "      <td>5650</td>\n",
       "      <td>NaN</td>\n",
       "    </tr>\n",
       "    <tr>\n",
       "      <th>2</th>\n",
       "      <td>2</td>\n",
       "      <td>Royal Enfield Classic Gunmetal Grey</td>\n",
       "      <td>150000.0</td>\n",
       "      <td>2018</td>\n",
       "      <td>Individual</td>\n",
       "      <td>1st owner</td>\n",
       "      <td>12000</td>\n",
       "      <td>148114.0</td>\n",
       "    </tr>\n",
       "    <tr>\n",
       "      <th>3</th>\n",
       "      <td>3</td>\n",
       "      <td>Yamaha Fazer FI V 2.0 [2016-2018]</td>\n",
       "      <td>65000.0</td>\n",
       "      <td>2015</td>\n",
       "      <td>Individual</td>\n",
       "      <td>1st owner</td>\n",
       "      <td>23000</td>\n",
       "      <td>89643.0</td>\n",
       "    </tr>\n",
       "    <tr>\n",
       "      <th>4</th>\n",
       "      <td>4</td>\n",
       "      <td>Yamaha SZ [2013-2014]</td>\n",
       "      <td>20000.0</td>\n",
       "      <td>2011</td>\n",
       "      <td>Individual</td>\n",
       "      <td>2nd owner</td>\n",
       "      <td>21000</td>\n",
       "      <td>NaN</td>\n",
       "    </tr>\n",
       "  </tbody>\n",
       "</table>\n",
       "</div>"
      ],
      "text/plain": [
       "   id                                 name  selling_price  year seller_type  \\\n",
       "0   0            Royal Enfield Classic 350       175000.0  2019  Individual   \n",
       "1   1                            Honda Dio        45000.0  2017  Individual   \n",
       "2   2  Royal Enfield Classic Gunmetal Grey       150000.0  2018  Individual   \n",
       "3   3    Yamaha Fazer FI V 2.0 [2016-2018]        65000.0  2015  Individual   \n",
       "4   4                Yamaha SZ [2013-2014]        20000.0  2011  Individual   \n",
       "\n",
       "       owner  km_driven  ex_showroom_price  \n",
       "0  1st owner        350                NaN  \n",
       "1  1st owner       5650                NaN  \n",
       "2  1st owner      12000           148114.0  \n",
       "3  1st owner      23000            89643.0  \n",
       "4  2nd owner      21000                NaN  "
      ]
     },
     "execution_count": 7,
     "metadata": {},
     "output_type": "execute_result"
    }
   ],
   "source": [
    "# Deixando a coluna ex_showroom_price e selling_price na mesma grandeza\n",
    "df['selling_price'] = df['selling_price'].astype(float)\n",
    "df.head()"
   ]
  },
  {
   "cell_type": "markdown",
   "id": "55364aad",
   "metadata": {},
   "source": [
    "### Descrição das Colunas"
   ]
  },
  {
   "cell_type": "markdown",
   "id": "33f0b47a",
   "metadata": {},
   "source": [
    "| Coluna | Descrição |\n",
    "| :----- | --------: |\n",
    "| ID | Identificador da linha/registro |\n",
    "| name | Fabricante e Modelo da Moto |\n",
    "| selling_price | Preço de Venda |\n",
    "| year | Ano de Fabricação da Moto |\n",
    "| seller_type | Tipo de Vendedor - Se é vendedor pessoal ou revendedor |\n",
    "| owner | Se é primeiro, segundo, terceiro ou quarto dono da moto |\n",
    "| km_driven | Quantidade de Quilometros percorrido pela moto |\n",
    "| ex_showroom_price | Preço da motocicleta sem as taxas de seguro e registro |"
   ]
  },
  {
   "cell_type": "markdown",
   "id": "695b72a0",
   "metadata": {},
   "source": [
    "### Perguntas"
   ]
  },
  {
   "cell_type": "markdown",
   "id": "b3cb9c69",
   "metadata": {},
   "source": [
    "#### 1. Quantas motos temos dentro do Dataset?"
   ]
  },
  {
   "cell_type": "markdown",
   "id": "74c76201",
   "metadata": {},
   "source": [
    "##### Planejamento"
   ]
  },
  {
   "cell_type": "markdown",
   "id": "00b3f049",
   "metadata": {},
   "source": [
    "A quantidade de motos é a quantidade de linhas que existem dentro do dataset"
   ]
  },
  {
   "cell_type": "markdown",
   "id": "0a414510",
   "metadata": {},
   "source": [
    "##### Resolução"
   ]
  },
  {
   "cell_type": "code",
   "execution_count": null,
   "id": "02d4edcc",
   "metadata": {},
   "outputs": [],
   "source": []
  },
  {
   "cell_type": "markdown",
   "id": "aba08194",
   "metadata": {},
   "source": [
    "##### Resposta"
   ]
  },
  {
   "cell_type": "code",
   "execution_count": 8,
   "id": "d8cc0791",
   "metadata": {},
   "outputs": [
    {
     "name": "stdout",
     "output_type": "stream",
     "text": [
      "A quantidade de motos registradas no Dataset é de 1061 motos\n"
     ]
    }
   ],
   "source": [
    "print(f'A quantidade de motos registradas no Dataset é de {df.shape[0]} motos')"
   ]
  },
  {
   "cell_type": "markdown",
   "id": "6aa6a5e9",
   "metadata": {},
   "source": [
    "#### 2. Qual é o ano da moto mais antiga da base de dados?"
   ]
  },
  {
   "cell_type": "markdown",
   "id": "6dacea3b",
   "metadata": {},
   "source": [
    "##### Planejamento"
   ]
  },
  {
   "cell_type": "markdown",
   "id": "62ef3781",
   "metadata": {},
   "source": [
    "Basta verificarmos qual o menor valor da coluna `year` da base de dados"
   ]
  },
  {
   "cell_type": "markdown",
   "id": "064176e1",
   "metadata": {},
   "source": [
    "##### Resolução"
   ]
  },
  {
   "cell_type": "code",
   "execution_count": null,
   "id": "08ebf6c8",
   "metadata": {},
   "outputs": [],
   "source": []
  },
  {
   "cell_type": "markdown",
   "id": "fd44ec4e",
   "metadata": {},
   "source": [
    "##### Resposta"
   ]
  },
  {
   "cell_type": "code",
   "execution_count": 9,
   "id": "699641a1",
   "metadata": {},
   "outputs": [
    {
     "data": {
      "text/plain": [
       "1988"
      ]
     },
     "execution_count": 9,
     "metadata": {},
     "output_type": "execute_result"
    }
   ],
   "source": [
    "antiga = df[df['year'] == df['year'].min()].iloc[0, 3]\n",
    "antiga"
   ]
  },
  {
   "cell_type": "code",
   "execution_count": 10,
   "id": "cbec2d7c",
   "metadata": {},
   "outputs": [
    {
     "name": "stdout",
     "output_type": "stream",
     "text": [
      "O ano da moto mais antiga é 1988\n"
     ]
    }
   ],
   "source": [
    "print(f'O ano da moto mais antiga é {antiga}')"
   ]
  },
  {
   "cell_type": "markdown",
   "id": "eb3a9242",
   "metadata": {},
   "source": [
    "#### 3. Qual é o ano da moto mais nova da base de dados?"
   ]
  },
  {
   "cell_type": "markdown",
   "id": "69aa7be7",
   "metadata": {},
   "source": [
    "##### Planejamento"
   ]
  },
  {
   "cell_type": "markdown",
   "id": "4c8991ed",
   "metadata": {},
   "source": [
    "Basta verificarmos qual é o maior valor da coluna `year`"
   ]
  },
  {
   "cell_type": "markdown",
   "id": "e4b03f2d",
   "metadata": {},
   "source": [
    "##### Resolução"
   ]
  },
  {
   "cell_type": "code",
   "execution_count": null,
   "id": "9151d12f",
   "metadata": {},
   "outputs": [],
   "source": []
  },
  {
   "cell_type": "markdown",
   "id": "579885de",
   "metadata": {},
   "source": [
    "##### Resposta"
   ]
  },
  {
   "cell_type": "code",
   "execution_count": 11,
   "id": "34820af1",
   "metadata": {},
   "outputs": [
    {
     "data": {
      "text/plain": [
       "2020"
      ]
     },
     "execution_count": 11,
     "metadata": {},
     "output_type": "execute_result"
    }
   ],
   "source": [
    "nova = df[df['year'] == df['year'].max()].iloc[0, 3]\n",
    "nova"
   ]
  },
  {
   "cell_type": "code",
   "execution_count": 12,
   "id": "da975530",
   "metadata": {},
   "outputs": [
    {
     "name": "stdout",
     "output_type": "stream",
     "text": [
      "O da moto mais nova é 2020\n"
     ]
    }
   ],
   "source": [
    "print(f'O da moto mais nova é {2020}')"
   ]
  },
  {
   "cell_type": "markdown",
   "id": "3ddd42ae",
   "metadata": {},
   "source": [
    "#### 4. Qual é o valor da moto mais cara da base de dados?"
   ]
  },
  {
   "cell_type": "markdown",
   "id": "aa37f289",
   "metadata": {},
   "source": [
    "##### Planejamento"
   ]
  },
  {
   "cell_type": "markdown",
   "id": "48e71e72",
   "metadata": {},
   "source": [
    "Basta verificarmos qual é o maior valor da coluna `selling_price`"
   ]
  },
  {
   "cell_type": "markdown",
   "id": "b9beefd4",
   "metadata": {},
   "source": [
    "##### Resolução"
   ]
  },
  {
   "cell_type": "code",
   "execution_count": null,
   "id": "5f0a13d2",
   "metadata": {},
   "outputs": [],
   "source": []
  },
  {
   "cell_type": "markdown",
   "id": "3d27e322",
   "metadata": {},
   "source": [
    "##### Resposta"
   ]
  },
  {
   "cell_type": "code",
   "execution_count": 13,
   "id": "19eb7906",
   "metadata": {},
   "outputs": [
    {
     "data": {
      "text/plain": [
       "760000.0"
      ]
     },
     "execution_count": 13,
     "metadata": {},
     "output_type": "execute_result"
    }
   ],
   "source": [
    "cara = df[df['selling_price'] == df['selling_price'].max()].iloc[0, 2]\n",
    "cara"
   ]
  },
  {
   "cell_type": "code",
   "execution_count": 14,
   "id": "6a34d040",
   "metadata": {},
   "outputs": [
    {
     "name": "stdout",
     "output_type": "stream",
     "text": [
      "O valor da mot mais cara da base de dados é U$ 760000.00\n"
     ]
    }
   ],
   "source": [
    "print(f'O valor da mot mais cara da base de dados é U$ {cara:.2f}')"
   ]
  },
  {
   "cell_type": "markdown",
   "id": "b1dd646b",
   "metadata": {},
   "source": [
    "#### 5. Qual é o valor do hodômotro da moto com a maior quilometragem?"
   ]
  },
  {
   "cell_type": "markdown",
   "id": "ded7908c",
   "metadata": {},
   "source": [
    "##### Planejamento"
   ]
  },
  {
   "cell_type": "markdown",
   "id": "ef3c4135",
   "metadata": {},
   "source": [
    "Basta verificarmos qual é o maior valor da coluna `km_driven`"
   ]
  },
  {
   "cell_type": "markdown",
   "id": "730dd381",
   "metadata": {},
   "source": [
    "##### Resolução"
   ]
  },
  {
   "cell_type": "code",
   "execution_count": null,
   "id": "df43e7f9",
   "metadata": {},
   "outputs": [],
   "source": []
  },
  {
   "cell_type": "markdown",
   "id": "3028d676",
   "metadata": {},
   "source": [
    "##### Resposta"
   ]
  },
  {
   "cell_type": "code",
   "execution_count": 15,
   "id": "16aa489f",
   "metadata": {},
   "outputs": [
    {
     "data": {
      "text/plain": [
       "880000"
      ]
     },
     "execution_count": 15,
     "metadata": {},
     "output_type": "execute_result"
    }
   ],
   "source": [
    "maior_km = df[df['km_driven'] == df['km_driven'].max()].iloc[0, 6]\n",
    "maior_km\n"
   ]
  },
  {
   "cell_type": "code",
   "execution_count": 16,
   "id": "71a1f902",
   "metadata": {},
   "outputs": [
    {
     "name": "stdout",
     "output_type": "stream",
     "text": [
      "A moto que possui a maior quilometragem da base de dados andou 880000 Km\n"
     ]
    }
   ],
   "source": [
    "print(f'A moto que possui a maior quilometragem da base de dados andou {maior_km} Km')"
   ]
  },
  {
   "cell_type": "markdown",
   "id": "f44b9ca8",
   "metadata": {},
   "source": [
    "#### 6. Qual é o valor do hodômotro da moto com a menor quiilometragem?"
   ]
  },
  {
   "cell_type": "markdown",
   "id": "195c9e9f",
   "metadata": {},
   "source": [
    "##### Planejamento"
   ]
  },
  {
   "cell_type": "markdown",
   "id": "7e75213f",
   "metadata": {},
   "source": [
    "Basta verificarmos qual é o menor valor da coluna `km_driven`"
   ]
  },
  {
   "cell_type": "markdown",
   "id": "592ea9b6",
   "metadata": {},
   "source": [
    "##### Resolução"
   ]
  },
  {
   "cell_type": "code",
   "execution_count": null,
   "id": "f18e0dea",
   "metadata": {},
   "outputs": [],
   "source": []
  },
  {
   "cell_type": "markdown",
   "id": "a2563bf9",
   "metadata": {},
   "source": [
    "##### Resposta"
   ]
  },
  {
   "cell_type": "code",
   "execution_count": 17,
   "id": "8af9ba86",
   "metadata": {},
   "outputs": [
    {
     "data": {
      "text/plain": [
       "350"
      ]
     },
     "execution_count": 17,
     "metadata": {},
     "output_type": "execute_result"
    }
   ],
   "source": [
    "menor_km = df[df['km_driven'] == df['km_driven'].min()].iloc[0, 6]\n",
    "menor_km"
   ]
  },
  {
   "cell_type": "code",
   "execution_count": 18,
   "id": "8ac703b2",
   "metadata": {},
   "outputs": [
    {
     "name": "stdout",
     "output_type": "stream",
     "text": [
      "A moto que possui a menor quilometragem da base de dados andou 350 Km\n"
     ]
    }
   ],
   "source": [
    "print(f'A moto que possui a menor quilometragem da base de dados andou {menor_km} Km')"
   ]
  },
  {
   "cell_type": "markdown",
   "id": "7c29cbd6",
   "metadata": {},
   "source": [
    "#### 7. Dos valores das motos que que possuem o valor de venda sem as taxas de registro e seguro, qual seria o maior valor registrado na base de dados?"
   ]
  },
  {
   "cell_type": "markdown",
   "id": "3c71b418",
   "metadata": {},
   "source": [
    "##### Planejamento"
   ]
  },
  {
   "cell_type": "markdown",
   "id": "ffd30eec",
   "metadata": {},
   "source": [
    "Basta verificarmos qual é o maior valor registrado na coluna `ex_showroom_price`"
   ]
  },
  {
   "cell_type": "markdown",
   "id": "f65bf8b9",
   "metadata": {},
   "source": [
    "##### Resolução"
   ]
  },
  {
   "cell_type": "code",
   "execution_count": null,
   "id": "7fa89756",
   "metadata": {},
   "outputs": [],
   "source": []
  },
  {
   "cell_type": "markdown",
   "id": "124d0974",
   "metadata": {},
   "source": [
    "##### Resposta"
   ]
  },
  {
   "cell_type": "code",
   "execution_count": 19,
   "id": "0c4a4d39",
   "metadata": {},
   "outputs": [
    {
     "data": {
      "text/plain": [
       "1278000.0"
      ]
     },
     "execution_count": 19,
     "metadata": {},
     "output_type": "execute_result"
    }
   ],
   "source": [
    "ex_cara = df[df['ex_showroom_price'] == df['ex_showroom_price'].max()].iloc[0, -1]\n",
    "ex_cara"
   ]
  },
  {
   "cell_type": "code",
   "execution_count": 20,
   "id": "f0c15623",
   "metadata": {},
   "outputs": [
    {
     "name": "stdout",
     "output_type": "stream",
     "text": [
      "O maior valor da moto sem as taxas de registro e seguro é de U$ 1278000.00\n"
     ]
    }
   ],
   "source": [
    "print(f'O maior valor da moto sem as taxas de registro e seguro é de U$ {ex_cara:.2f}')"
   ]
  },
  {
   "cell_type": "markdown",
   "id": "5f943211",
   "metadata": {},
   "source": [
    "#### 8. Dos valores das motos que que possuem o valor de venda sem as taxas de registro e seguro, qual seria o menor valor registrado na base de dados?"
   ]
  },
  {
   "cell_type": "markdown",
   "id": "b5677aa8",
   "metadata": {},
   "source": [
    "##### Planejamento"
   ]
  },
  {
   "cell_type": "markdown",
   "id": "ca0b2464",
   "metadata": {},
   "source": [
    "Basta verificarmos qual é o menor valor registrado na coluna `ex_showroom_price`"
   ]
  },
  {
   "cell_type": "markdown",
   "id": "df0098ef",
   "metadata": {},
   "source": [
    "##### Resolução"
   ]
  },
  {
   "cell_type": "code",
   "execution_count": null,
   "id": "e9295357",
   "metadata": {},
   "outputs": [],
   "source": []
  },
  {
   "cell_type": "markdown",
   "id": "ee639743",
   "metadata": {},
   "source": [
    "##### Resposta"
   ]
  },
  {
   "cell_type": "code",
   "execution_count": 21,
   "id": "129e88a0",
   "metadata": {},
   "outputs": [
    {
     "data": {
      "text/plain": [
       "30490.0"
      ]
     },
     "execution_count": 21,
     "metadata": {},
     "output_type": "execute_result"
    }
   ],
   "source": [
    "ex_barata = df[df['ex_showroom_price'] == df['ex_showroom_price'].min()].iloc[0, -1]\n",
    "ex_barata"
   ]
  },
  {
   "cell_type": "code",
   "execution_count": 22,
   "id": "fe5aa554",
   "metadata": {},
   "outputs": [
    {
     "name": "stdout",
     "output_type": "stream",
     "text": [
      "O maior valor da moto sem as taxas de registro e seguro é de U$ 30490.00\n"
     ]
    }
   ],
   "source": [
    "print(f'O maior valor da moto sem as taxas de registro e seguro é de U$ {ex_barata:.2f}')"
   ]
  },
  {
   "cell_type": "markdown",
   "id": "0037f51e",
   "metadata": {},
   "source": [
    "#### 9. Quantas motocicletas estão sendo vendidades pelos seus donos e quantas estão sendo vendidas por outros revendedores?"
   ]
  },
  {
   "cell_type": "markdown",
   "id": "9d8ad4e4",
   "metadata": {},
   "source": [
    "##### Planejamento"
   ]
  },
  {
   "cell_type": "markdown",
   "id": "6fe0461c",
   "metadata": {},
   "source": [
    "Temos que contar quantas linhas possuem a coluna `seller_type` preenchida com o conteúdo 'Individual' e quantas estão preenchdidas com o conteúdo 'Dealer'. Uma das maneiras de fazermos esse cálculo é agrupar os dados pela coluna `seller_type` e depois realizar uma contagem nos dados"
   ]
  },
  {
   "cell_type": "markdown",
   "id": "909aad12",
   "metadata": {},
   "source": [
    "##### Resolução"
   ]
  },
  {
   "cell_type": "code",
   "execution_count": null,
   "id": "7cac0fb3",
   "metadata": {},
   "outputs": [],
   "source": []
  },
  {
   "cell_type": "markdown",
   "id": "6f6dadcc",
   "metadata": {},
   "source": [
    "##### Resposta"
   ]
  },
  {
   "cell_type": "code",
   "execution_count": 23,
   "id": "7d47ece1",
   "metadata": {},
   "outputs": [
    {
     "data": {
      "text/html": [
       "<div>\n",
       "<style scoped>\n",
       "    .dataframe tbody tr th:only-of-type {\n",
       "        vertical-align: middle;\n",
       "    }\n",
       "\n",
       "    .dataframe tbody tr th {\n",
       "        vertical-align: top;\n",
       "    }\n",
       "\n",
       "    .dataframe thead th {\n",
       "        text-align: right;\n",
       "    }\n",
       "</style>\n",
       "<table border=\"1\" class=\"dataframe\">\n",
       "  <thead>\n",
       "    <tr style=\"text-align: right;\">\n",
       "      <th></th>\n",
       "      <th>seller_type</th>\n",
       "      <th>count</th>\n",
       "    </tr>\n",
       "  </thead>\n",
       "  <tbody>\n",
       "    <tr>\n",
       "      <th>0</th>\n",
       "      <td>Dealer</td>\n",
       "      <td>6</td>\n",
       "    </tr>\n",
       "    <tr>\n",
       "      <th>1</th>\n",
       "      <td>Individual</td>\n",
       "      <td>1055</td>\n",
       "    </tr>\n",
       "  </tbody>\n",
       "</table>\n",
       "</div>"
      ],
      "text/plain": [
       "  seller_type  count\n",
       "0      Dealer      6\n",
       "1  Individual   1055"
      ]
     },
     "execution_count": 23,
     "metadata": {},
     "output_type": "execute_result"
    }
   ],
   "source": [
    "df_grouped = df[['id', 'seller_type']].groupby('seller_type')\n",
    "\n",
    "df_grouped = df_grouped.count().reset_index()\n",
    "\n",
    "df_grouped = df_grouped.rename(columns={'id': 'count'})\n",
    "\n",
    "df_grouped"
   ]
  },
  {
   "cell_type": "code",
   "execution_count": 24,
   "id": "10517d54",
   "metadata": {},
   "outputs": [
    {
     "name": "stdout",
     "output_type": "stream",
     "text": [
      "Dessa forma, temos 6 motos sendo vendidas por revendedores\n",
      "E temos 1055 motos sendo vendidas por seus donos\n"
     ]
    }
   ],
   "source": [
    "print(f'Dessa forma, temos {df_grouped.loc[0, \"count\"]} motos sendo vendidas por revendedores')\n",
    "print(f'E temos {df_grouped.loc[1, \"count\"]} motos sendo vendidas por seus donos')"
   ]
  },
  {
   "cell_type": "markdown",
   "id": "6e259b99",
   "metadata": {},
   "source": [
    "#### 10. Qual é a média de valores das motos na base de dados?"
   ]
  },
  {
   "cell_type": "markdown",
   "id": "68a8b19a",
   "metadata": {},
   "source": [
    "##### Planejamento"
   ]
  },
  {
   "cell_type": "markdown",
   "id": "e07043f0",
   "metadata": {},
   "source": [
    "Basta calcularmos a média dos valores da coluna `selling_price`. Uma maneira de realizar esse cálculo é selecionar os dados da coluna `selling_price` e utilizar a função `mean()`."
   ]
  },
  {
   "cell_type": "markdown",
   "id": "2e654a63",
   "metadata": {},
   "source": [
    "##### Resolução"
   ]
  },
  {
   "cell_type": "code",
   "execution_count": null,
   "id": "54648a48",
   "metadata": {},
   "outputs": [],
   "source": []
  },
  {
   "cell_type": "markdown",
   "id": "e65339f0",
   "metadata": {},
   "source": [
    "##### Resposta"
   ]
  },
  {
   "cell_type": "code",
   "execution_count": 25,
   "id": "8510e6a2",
   "metadata": {},
   "outputs": [
    {
     "data": {
      "text/plain": [
       "59638.151743638075"
      ]
     },
     "execution_count": 25,
     "metadata": {},
     "output_type": "execute_result"
    }
   ],
   "source": [
    "media = df['selling_price'].mean()\n",
    "media"
   ]
  },
  {
   "cell_type": "code",
   "execution_count": 26,
   "id": "6b789de3",
   "metadata": {},
   "outputs": [
    {
     "name": "stdout",
     "output_type": "stream",
     "text": [
      "O valor média do preço de venda das motos é de U$ 59638.15\n"
     ]
    }
   ],
   "source": [
    "print(f'O valor média do preço de venda das motos é de U$ {media:.2f}')"
   ]
  },
  {
   "cell_type": "markdown",
   "id": "87c5d50c",
   "metadata": {},
   "source": [
    "#### 11. Qual é a média de ano das motos cadastradas dentro da base de dados?"
   ]
  },
  {
   "cell_type": "markdown",
   "id": "d7943b29",
   "metadata": {},
   "source": [
    "##### Planejamento"
   ]
  },
  {
   "cell_type": "markdown",
   "id": "b7ed6b5b",
   "metadata": {},
   "source": [
    "Basta calcularmos a média dos valores que estão na coluna `year`."
   ]
  },
  {
   "cell_type": "markdown",
   "id": "f6a3481b",
   "metadata": {},
   "source": [
    "##### Resolução"
   ]
  },
  {
   "cell_type": "code",
   "execution_count": null,
   "id": "6b24808a",
   "metadata": {},
   "outputs": [],
   "source": []
  },
  {
   "cell_type": "markdown",
   "id": "d5a90b72",
   "metadata": {},
   "source": [
    "##### Resposta"
   ]
  },
  {
   "cell_type": "code",
   "execution_count": 27,
   "id": "e4a2ff47",
   "metadata": {},
   "outputs": [
    {
     "data": {
      "text/plain": [
       "2013.8671065032988"
      ]
     },
     "execution_count": 27,
     "metadata": {},
     "output_type": "execute_result"
    }
   ],
   "source": [
    "media_y = df['year'].mean()\n",
    "media_y"
   ]
  },
  {
   "cell_type": "code",
   "execution_count": 28,
   "id": "ae8d7e73",
   "metadata": {},
   "outputs": [
    {
     "name": "stdout",
     "output_type": "stream",
     "text": [
      "A média do ano das motos da base de dados é 2013.87\n"
     ]
    }
   ],
   "source": [
    "print(f'A média do ano das motos da base de dados é {media_y:.2f}')"
   ]
  },
  {
   "cell_type": "markdown",
   "id": "eb499820",
   "metadata": {},
   "source": [
    "#### 12. Qual é a média de quilometragem das motos cadastradas dentro da base de dados?"
   ]
  },
  {
   "cell_type": "markdown",
   "id": "54079508",
   "metadata": {},
   "source": [
    "##### Planejamento"
   ]
  },
  {
   "cell_type": "markdown",
   "id": "b4d6610f",
   "metadata": {},
   "source": [
    "Basta calcularmos a média dos valores da coluna `km_driven`"
   ]
  },
  {
   "cell_type": "markdown",
   "id": "05b561eb",
   "metadata": {},
   "source": [
    "##### Resolução"
   ]
  },
  {
   "cell_type": "code",
   "execution_count": null,
   "id": "41bf79f7",
   "metadata": {},
   "outputs": [],
   "source": []
  },
  {
   "cell_type": "markdown",
   "id": "3e2a2cf3",
   "metadata": {},
   "source": [
    "##### Resposta"
   ]
  },
  {
   "cell_type": "code",
   "execution_count": 29,
   "id": "bf7ac521",
   "metadata": {},
   "outputs": [
    {
     "data": {
      "text/plain": [
       "34359.83317624882"
      ]
     },
     "execution_count": 29,
     "metadata": {},
     "output_type": "execute_result"
    }
   ],
   "source": [
    "media_km = df['km_driven'].mean()\n",
    "media_km"
   ]
  },
  {
   "cell_type": "code",
   "execution_count": 30,
   "id": "8d3237b1",
   "metadata": {},
   "outputs": [
    {
     "name": "stdout",
     "output_type": "stream",
     "text": [
      "A média de quilometros percorridos das motos da base de dados é de 34359.83 Km\n"
     ]
    }
   ],
   "source": [
    "print(f'A média de quilometros percorridos das motos da base de dados é de {media_km:.2f} Km')"
   ]
  },
  {
   "cell_type": "markdown",
   "id": "38f125a3",
   "metadata": {},
   "source": [
    "#### 13. Existem quantas motos dentro da base de dados que são motos de um único dono?"
   ]
  },
  {
   "cell_type": "markdown",
   "id": "47a5f45f",
   "metadata": {},
   "source": [
    "##### Planejamento"
   ]
  },
  {
   "cell_type": "markdown",
   "id": "34ed50bb",
   "metadata": {},
   "source": [
    "Selecionarmos as linhas que possuem a coluna `owner` igual `1st owner` e depois fazer a contagem da quantidade de linhas"
   ]
  },
  {
   "cell_type": "markdown",
   "id": "2beecfb2",
   "metadata": {},
   "source": [
    "##### Resolução"
   ]
  },
  {
   "cell_type": "code",
   "execution_count": null,
   "id": "aac95ebf",
   "metadata": {},
   "outputs": [],
   "source": []
  },
  {
   "cell_type": "markdown",
   "id": "d3cf410d",
   "metadata": {},
   "source": [
    "##### Resposta"
   ]
  },
  {
   "cell_type": "code",
   "execution_count": 31,
   "id": "4c52a907",
   "metadata": {},
   "outputs": [
    {
     "data": {
      "text/plain": [
       "924"
      ]
     },
     "execution_count": 31,
     "metadata": {},
     "output_type": "execute_result"
    }
   ],
   "source": [
    "unico_dono = df[df['owner'] == '1st owner'].shape[0]\n",
    "unico_dono"
   ]
  },
  {
   "cell_type": "code",
   "execution_count": 32,
   "id": "9cd877a2",
   "metadata": {},
   "outputs": [
    {
     "name": "stdout",
     "output_type": "stream",
     "text": [
      "A base de dados possui 924 motos de um único dono\n"
     ]
    }
   ],
   "source": [
    "print(f'A base de dados possui {unico_dono} motos de um único dono')"
   ]
  },
  {
   "cell_type": "markdown",
   "id": "d62d374f",
   "metadata": {},
   "source": [
    "#### 14. As motos com maior quilometragem são as motos mais baratas do Dataset?"
   ]
  },
  {
   "cell_type": "markdown",
   "id": "5cf94cc6",
   "metadata": {},
   "source": [
    "##### Planejamento"
   ]
  },
  {
   "cell_type": "markdown",
   "id": "02efa0e8",
   "metadata": {},
   "source": [
    "Aqui a ideia será categorizar as motos conforme a quantidade de quilometros percorridos. A cada 5 mil quilometros será criada uma nova categoria. E depois, iremos agrupar as categorias e tirar a média de cada categoria, para verificarmos qual é a categoria que tem a menor média de valor."
   ]
  },
  {
   "cell_type": "markdown",
   "id": "3cf57926",
   "metadata": {},
   "source": [
    "##### Resolução"
   ]
  },
  {
   "cell_type": "code",
   "execution_count": null,
   "id": "4071dd4e",
   "metadata": {},
   "outputs": [],
   "source": []
  },
  {
   "cell_type": "markdown",
   "id": "17a41632",
   "metadata": {},
   "source": [
    "##### Resposta"
   ]
  },
  {
   "cell_type": "code",
   "execution_count": 8,
   "id": "ab0dcb17",
   "metadata": {
    "ExecuteTime": {
     "end_time": "2022-07-18T22:55:30.301073Z",
     "start_time": "2022-07-18T22:55:30.292776Z"
    }
   },
   "outputs": [
    {
     "data": {
      "text/html": [
       "<div>\n",
       "<style scoped>\n",
       "    .dataframe tbody tr th:only-of-type {\n",
       "        vertical-align: middle;\n",
       "    }\n",
       "\n",
       "    .dataframe tbody tr th {\n",
       "        vertical-align: top;\n",
       "    }\n",
       "\n",
       "    .dataframe thead th {\n",
       "        text-align: right;\n",
       "    }\n",
       "</style>\n",
       "<table border=\"1\" class=\"dataframe\">\n",
       "  <thead>\n",
       "    <tr style=\"text-align: right;\">\n",
       "      <th></th>\n",
       "      <th>id</th>\n",
       "      <th>name</th>\n",
       "      <th>selling_price</th>\n",
       "      <th>year</th>\n",
       "      <th>seller_type</th>\n",
       "      <th>owner</th>\n",
       "      <th>km_driven</th>\n",
       "      <th>ex_showroom_price</th>\n",
       "    </tr>\n",
       "  </thead>\n",
       "  <tbody>\n",
       "    <tr>\n",
       "      <th>0</th>\n",
       "      <td>0</td>\n",
       "      <td>Royal Enfield Classic 350</td>\n",
       "      <td>175000.0</td>\n",
       "      <td>2019</td>\n",
       "      <td>Individual</td>\n",
       "      <td>1st owner</td>\n",
       "      <td>350</td>\n",
       "      <td>NaN</td>\n",
       "    </tr>\n",
       "    <tr>\n",
       "      <th>1</th>\n",
       "      <td>1</td>\n",
       "      <td>Honda Dio</td>\n",
       "      <td>45000.0</td>\n",
       "      <td>2017</td>\n",
       "      <td>Individual</td>\n",
       "      <td>1st owner</td>\n",
       "      <td>5650</td>\n",
       "      <td>NaN</td>\n",
       "    </tr>\n",
       "    <tr>\n",
       "      <th>2</th>\n",
       "      <td>2</td>\n",
       "      <td>Royal Enfield Classic Gunmetal Grey</td>\n",
       "      <td>150000.0</td>\n",
       "      <td>2018</td>\n",
       "      <td>Individual</td>\n",
       "      <td>1st owner</td>\n",
       "      <td>12000</td>\n",
       "      <td>148114.0</td>\n",
       "    </tr>\n",
       "    <tr>\n",
       "      <th>3</th>\n",
       "      <td>3</td>\n",
       "      <td>Yamaha Fazer FI V 2.0 [2016-2018]</td>\n",
       "      <td>65000.0</td>\n",
       "      <td>2015</td>\n",
       "      <td>Individual</td>\n",
       "      <td>1st owner</td>\n",
       "      <td>23000</td>\n",
       "      <td>89643.0</td>\n",
       "    </tr>\n",
       "    <tr>\n",
       "      <th>4</th>\n",
       "      <td>4</td>\n",
       "      <td>Yamaha SZ [2013-2014]</td>\n",
       "      <td>20000.0</td>\n",
       "      <td>2011</td>\n",
       "      <td>Individual</td>\n",
       "      <td>2nd owner</td>\n",
       "      <td>21000</td>\n",
       "      <td>NaN</td>\n",
       "    </tr>\n",
       "  </tbody>\n",
       "</table>\n",
       "</div>"
      ],
      "text/plain": [
       "   id                                 name  selling_price  year seller_type  \\\n",
       "0   0            Royal Enfield Classic 350       175000.0  2019  Individual   \n",
       "1   1                            Honda Dio        45000.0  2017  Individual   \n",
       "2   2  Royal Enfield Classic Gunmetal Grey       150000.0  2018  Individual   \n",
       "3   3    Yamaha Fazer FI V 2.0 [2016-2018]        65000.0  2015  Individual   \n",
       "4   4                Yamaha SZ [2013-2014]        20000.0  2011  Individual   \n",
       "\n",
       "       owner  km_driven  ex_showroom_price  \n",
       "0  1st owner        350                NaN  \n",
       "1  1st owner       5650                NaN  \n",
       "2  1st owner      12000           148114.0  \n",
       "3  1st owner      23000            89643.0  \n",
       "4  2nd owner      21000                NaN  "
      ]
     },
     "execution_count": 8,
     "metadata": {},
     "output_type": "execute_result"
    }
   ],
   "source": [
    "df.head()"
   ]
  },
  {
   "cell_type": "code",
   "execution_count": 10,
   "id": "f4ff91d9",
   "metadata": {
    "ExecuteTime": {
     "end_time": "2022-07-18T22:57:23.418156Z",
     "start_time": "2022-07-18T22:57:23.415056Z"
    }
   },
   "outputs": [],
   "source": [
    "# Função que criará as classes\n",
    "def create_km_class(km_driven):\n",
    "    # Cria a categoria a cada 5 mil Km percorridos\n",
    "    return math.ceil(km_driven / 5000)"
   ]
  },
  {
   "cell_type": "code",
   "execution_count": 11,
   "id": "d0c5a7a1",
   "metadata": {
    "ExecuteTime": {
     "end_time": "2022-07-18T22:57:24.098724Z",
     "start_time": "2022-07-18T22:57:24.086587Z"
    }
   },
   "outputs": [
    {
     "data": {
      "text/html": [
       "<div>\n",
       "<style scoped>\n",
       "    .dataframe tbody tr th:only-of-type {\n",
       "        vertical-align: middle;\n",
       "    }\n",
       "\n",
       "    .dataframe tbody tr th {\n",
       "        vertical-align: top;\n",
       "    }\n",
       "\n",
       "    .dataframe thead th {\n",
       "        text-align: right;\n",
       "    }\n",
       "</style>\n",
       "<table border=\"1\" class=\"dataframe\">\n",
       "  <thead>\n",
       "    <tr style=\"text-align: right;\">\n",
       "      <th></th>\n",
       "      <th>id</th>\n",
       "      <th>name</th>\n",
       "      <th>selling_price</th>\n",
       "      <th>year</th>\n",
       "      <th>seller_type</th>\n",
       "      <th>owner</th>\n",
       "      <th>km_driven</th>\n",
       "      <th>ex_showroom_price</th>\n",
       "      <th>km_class</th>\n",
       "    </tr>\n",
       "  </thead>\n",
       "  <tbody>\n",
       "    <tr>\n",
       "      <th>0</th>\n",
       "      <td>0</td>\n",
       "      <td>Royal Enfield Classic 350</td>\n",
       "      <td>175000.0</td>\n",
       "      <td>2019</td>\n",
       "      <td>Individual</td>\n",
       "      <td>1st owner</td>\n",
       "      <td>350</td>\n",
       "      <td>NaN</td>\n",
       "      <td>1</td>\n",
       "    </tr>\n",
       "    <tr>\n",
       "      <th>1</th>\n",
       "      <td>1</td>\n",
       "      <td>Honda Dio</td>\n",
       "      <td>45000.0</td>\n",
       "      <td>2017</td>\n",
       "      <td>Individual</td>\n",
       "      <td>1st owner</td>\n",
       "      <td>5650</td>\n",
       "      <td>NaN</td>\n",
       "      <td>2</td>\n",
       "    </tr>\n",
       "    <tr>\n",
       "      <th>2</th>\n",
       "      <td>2</td>\n",
       "      <td>Royal Enfield Classic Gunmetal Grey</td>\n",
       "      <td>150000.0</td>\n",
       "      <td>2018</td>\n",
       "      <td>Individual</td>\n",
       "      <td>1st owner</td>\n",
       "      <td>12000</td>\n",
       "      <td>148114.0</td>\n",
       "      <td>3</td>\n",
       "    </tr>\n",
       "    <tr>\n",
       "      <th>3</th>\n",
       "      <td>3</td>\n",
       "      <td>Yamaha Fazer FI V 2.0 [2016-2018]</td>\n",
       "      <td>65000.0</td>\n",
       "      <td>2015</td>\n",
       "      <td>Individual</td>\n",
       "      <td>1st owner</td>\n",
       "      <td>23000</td>\n",
       "      <td>89643.0</td>\n",
       "      <td>5</td>\n",
       "    </tr>\n",
       "    <tr>\n",
       "      <th>4</th>\n",
       "      <td>4</td>\n",
       "      <td>Yamaha SZ [2013-2014]</td>\n",
       "      <td>20000.0</td>\n",
       "      <td>2011</td>\n",
       "      <td>Individual</td>\n",
       "      <td>2nd owner</td>\n",
       "      <td>21000</td>\n",
       "      <td>NaN</td>\n",
       "      <td>5</td>\n",
       "    </tr>\n",
       "  </tbody>\n",
       "</table>\n",
       "</div>"
      ],
      "text/plain": [
       "   id                                 name  selling_price  year seller_type  \\\n",
       "0   0            Royal Enfield Classic 350       175000.0  2019  Individual   \n",
       "1   1                            Honda Dio        45000.0  2017  Individual   \n",
       "2   2  Royal Enfield Classic Gunmetal Grey       150000.0  2018  Individual   \n",
       "3   3    Yamaha Fazer FI V 2.0 [2016-2018]        65000.0  2015  Individual   \n",
       "4   4                Yamaha SZ [2013-2014]        20000.0  2011  Individual   \n",
       "\n",
       "       owner  km_driven  ex_showroom_price  km_class  \n",
       "0  1st owner        350                NaN         1  \n",
       "1  1st owner       5650                NaN         2  \n",
       "2  1st owner      12000           148114.0         3  \n",
       "3  1st owner      23000            89643.0         5  \n",
       "4  2nd owner      21000                NaN         5  "
      ]
     },
     "execution_count": 11,
     "metadata": {},
     "output_type": "execute_result"
    }
   ],
   "source": [
    "# Aplica a classificação das motocicletas\n",
    "df['km_class'] = df['km_driven'].apply( lambda km_driven: create_km_class(km_driven) )\n",
    "df.head()"
   ]
  },
  {
   "cell_type": "code",
   "execution_count": 13,
   "id": "0973dcca",
   "metadata": {
    "ExecuteTime": {
     "end_time": "2022-07-18T22:58:29.238411Z",
     "start_time": "2022-07-18T22:58:29.234799Z"
    }
   },
   "outputs": [
    {
     "data": {
      "text/plain": [
       "32"
      ]
     },
     "execution_count": 13,
     "metadata": {},
     "output_type": "execute_result"
    }
   ],
   "source": [
    "len(df['km_class'].unique())"
   ]
  },
  {
   "cell_type": "code",
   "execution_count": 17,
   "id": "cfb09e3c",
   "metadata": {
    "ExecuteTime": {
     "end_time": "2022-07-18T23:00:17.760317Z",
     "start_time": "2022-07-18T23:00:17.751080Z"
    }
   },
   "outputs": [
    {
     "data": {
      "text/html": [
       "<div>\n",
       "<style scoped>\n",
       "    .dataframe tbody tr th:only-of-type {\n",
       "        vertical-align: middle;\n",
       "    }\n",
       "\n",
       "    .dataframe tbody tr th {\n",
       "        vertical-align: top;\n",
       "    }\n",
       "\n",
       "    .dataframe thead th {\n",
       "        text-align: right;\n",
       "    }\n",
       "</style>\n",
       "<table border=\"1\" class=\"dataframe\">\n",
       "  <thead>\n",
       "    <tr style=\"text-align: right;\">\n",
       "      <th></th>\n",
       "      <th>km_class</th>\n",
       "      <th>selling_price</th>\n",
       "    </tr>\n",
       "  </thead>\n",
       "  <tbody>\n",
       "    <tr>\n",
       "      <th>0</th>\n",
       "      <td>130</td>\n",
       "      <td>10000.0</td>\n",
       "    </tr>\n",
       "    <tr>\n",
       "      <th>1</th>\n",
       "      <td>176</td>\n",
       "      <td>15000.0</td>\n",
       "    </tr>\n",
       "    <tr>\n",
       "      <th>2</th>\n",
       "      <td>24</td>\n",
       "      <td>16250.0</td>\n",
       "    </tr>\n",
       "    <tr>\n",
       "      <th>3</th>\n",
       "      <td>100</td>\n",
       "      <td>19994.5</td>\n",
       "    </tr>\n",
       "    <tr>\n",
       "      <th>4</th>\n",
       "      <td>18</td>\n",
       "      <td>20400.0</td>\n",
       "    </tr>\n",
       "  </tbody>\n",
       "</table>\n",
       "</div>"
      ],
      "text/plain": [
       "   km_class  selling_price\n",
       "0       130        10000.0\n",
       "1       176        15000.0\n",
       "2        24        16250.0\n",
       "3       100        19994.5\n",
       "4        18        20400.0"
      ]
     },
     "execution_count": 17,
     "metadata": {},
     "output_type": "execute_result"
    }
   ],
   "source": [
    "df_grouped = df[['km_class', 'selling_price']].groupby('km_class')\n",
    "\n",
    "df_grouped = df_grouped.mean().sort_values('selling_price').reset_index()\n",
    "\n",
    "df_grouped.head()"
   ]
  },
  {
   "cell_type": "markdown",
   "id": "643eee37",
   "metadata": {},
   "source": [
    "Como podemos observar, as motos com maior quilometragem não são as mais baratas na média. Visto que a maior classificação com relação à quilometragem percorrida é de 177."
   ]
  },
  {
   "cell_type": "markdown",
   "id": "2a86e68c",
   "metadata": {},
   "source": [
    "### Salvando o Progresso"
   ]
  },
  {
   "cell_type": "markdown",
   "id": "2c5dce07",
   "metadata": {},
   "source": [
    "Como já respondemos algumas perguntas e fizemos algumas alterações em nosos Dataset, como limpeza e criação de novas colunas, para não termos que refazer tudo isso, vamos converter o nosso DataFrame em um arquivo .csv para que nas próximas aulas o DataFrame tratado fique disponível para nós"
   ]
  },
  {
   "cell_type": "code",
   "execution_count": 56,
   "id": "224d033f",
   "metadata": {},
   "outputs": [],
   "source": [
    "df.to_csv('csv/exported/aula_11.csv', index=False)"
   ]
  }
 ],
 "metadata": {
  "hide_input": false,
  "kernelspec": {
   "display_name": "Python 3 (ipykernel)",
   "language": "python",
   "name": "python3"
  },
  "language_info": {
   "codemirror_mode": {
    "name": "ipython",
    "version": 3
   },
   "file_extension": ".py",
   "mimetype": "text/x-python",
   "name": "python",
   "nbconvert_exporter": "python",
   "pygments_lexer": "ipython3",
   "version": "3.10.1"
  },
  "latex_envs": {
   "LaTeX_envs_menu_present": true,
   "autoclose": false,
   "autocomplete": true,
   "bibliofile": "biblio.bib",
   "cite_by": "apalike",
   "current_citInitial": 1,
   "eqLabelWithNumbers": true,
   "eqNumInitial": 1,
   "hotkeys": {
    "equation": "Ctrl-E",
    "itemize": "Ctrl-I"
   },
   "labels_anchors": false,
   "latex_user_defs": false,
   "report_style_numbering": false,
   "user_envs_cfg": false
  },
  "vscode": {
   "interpreter": {
    "hash": "d7da943d29e683b94336196b543cb35f0f162d4f5b245b35bc1ef3fd3e73b856"
   }
  }
 },
 "nbformat": 4,
 "nbformat_minor": 5
}
