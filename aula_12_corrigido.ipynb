{
 "cells": [
  {
   "cell_type": "markdown",
   "id": "f66f5ab2",
   "metadata": {
    "heading_collapsed": true
   },
   "source": [
    "# COMANDOS AUXILIARES"
   ]
  },
  {
   "cell_type": "markdown",
   "id": "4596b7c0",
   "metadata": {
    "heading_collapsed": true,
    "hidden": true
   },
   "source": [
    "## Imports"
   ]
  },
  {
   "cell_type": "code",
   "execution_count": 4,
   "id": "d10145d2",
   "metadata": {
    "ExecuteTime": {
     "end_time": "2022-07-20T21:42:44.297516Z",
     "start_time": "2022-07-20T21:42:44.028708Z"
    },
    "hidden": true
   },
   "outputs": [],
   "source": [
    "import pandas  as pd\n",
    "from datetime import date"
   ]
  },
  {
   "cell_type": "markdown",
   "id": "a7175ea5",
   "metadata": {},
   "source": [
    "# SEGUNDA RODADA DE PERGUNTAS"
   ]
  },
  {
   "cell_type": "markdown",
   "id": "dadc7973",
   "metadata": {
    "heading_collapsed": true
   },
   "source": [
    "## Revisão da Rodada Anterior"
   ]
  },
  {
   "cell_type": "markdown",
   "id": "974c21fa",
   "metadata": {
    "hidden": true
   },
   "source": [
    "O CEO da A Xtreme Groovy Bikes Sales, que é uma empresa de revenda de motocicletas e tem o seu modelo de nogócio como revenda motocicletas usadas, contratou você como um consultor de ciência de dados para ajud-á-los a encontrar as melhores motos da base de dados que eles adquiriram através de um estudo de mercado. \n",
    "\n",
    "Na rodada passada foi realizado o estudo da base de dados e respondido algumas perguntas que o CEO fez utilizando a base de dados.\n",
    "\n",
    "Agora, o CEO fez novas perguntas que devemos responder utilizando essa nova base de dados."
   ]
  },
  {
   "cell_type": "markdown",
   "id": "03539e7c",
   "metadata": {
    "heading_collapsed": true,
    "hidden": true
   },
   "source": [
    "### Leitura do DataFrame da Aula anterior"
   ]
  },
  {
   "cell_type": "code",
   "execution_count": 5,
   "id": "e0f2653b",
   "metadata": {
    "ExecuteTime": {
     "end_time": "2022-07-20T21:42:47.432360Z",
     "start_time": "2022-07-20T21:42:47.406192Z"
    },
    "hidden": true
   },
   "outputs": [
    {
     "data": {
      "text/html": [
       "<div>\n",
       "<style scoped>\n",
       "    .dataframe tbody tr th:only-of-type {\n",
       "        vertical-align: middle;\n",
       "    }\n",
       "\n",
       "    .dataframe tbody tr th {\n",
       "        vertical-align: top;\n",
       "    }\n",
       "\n",
       "    .dataframe thead th {\n",
       "        text-align: right;\n",
       "    }\n",
       "</style>\n",
       "<table border=\"1\" class=\"dataframe\">\n",
       "  <thead>\n",
       "    <tr style=\"text-align: right;\">\n",
       "      <th></th>\n",
       "      <th>id</th>\n",
       "      <th>name</th>\n",
       "      <th>selling_price</th>\n",
       "      <th>year</th>\n",
       "      <th>seller_type</th>\n",
       "      <th>owner</th>\n",
       "      <th>km_driven</th>\n",
       "      <th>ex_showroom_price</th>\n",
       "      <th>km_class</th>\n",
       "    </tr>\n",
       "  </thead>\n",
       "  <tbody>\n",
       "    <tr>\n",
       "      <th>0</th>\n",
       "      <td>0</td>\n",
       "      <td>Royal Enfield Classic 350</td>\n",
       "      <td>175000.0</td>\n",
       "      <td>2019</td>\n",
       "      <td>Individual</td>\n",
       "      <td>1st owner</td>\n",
       "      <td>350</td>\n",
       "      <td>NaN</td>\n",
       "      <td>1</td>\n",
       "    </tr>\n",
       "    <tr>\n",
       "      <th>1</th>\n",
       "      <td>1</td>\n",
       "      <td>Honda Dio</td>\n",
       "      <td>45000.0</td>\n",
       "      <td>2017</td>\n",
       "      <td>Individual</td>\n",
       "      <td>1st owner</td>\n",
       "      <td>5650</td>\n",
       "      <td>NaN</td>\n",
       "      <td>2</td>\n",
       "    </tr>\n",
       "    <tr>\n",
       "      <th>2</th>\n",
       "      <td>2</td>\n",
       "      <td>Royal Enfield Classic Gunmetal Grey</td>\n",
       "      <td>150000.0</td>\n",
       "      <td>2018</td>\n",
       "      <td>Individual</td>\n",
       "      <td>1st owner</td>\n",
       "      <td>12000</td>\n",
       "      <td>148114.0</td>\n",
       "      <td>3</td>\n",
       "    </tr>\n",
       "    <tr>\n",
       "      <th>3</th>\n",
       "      <td>3</td>\n",
       "      <td>Yamaha Fazer FI V 2.0 [2016-2018]</td>\n",
       "      <td>65000.0</td>\n",
       "      <td>2015</td>\n",
       "      <td>Individual</td>\n",
       "      <td>1st owner</td>\n",
       "      <td>23000</td>\n",
       "      <td>89643.0</td>\n",
       "      <td>5</td>\n",
       "    </tr>\n",
       "    <tr>\n",
       "      <th>4</th>\n",
       "      <td>4</td>\n",
       "      <td>Yamaha SZ [2013-2014]</td>\n",
       "      <td>20000.0</td>\n",
       "      <td>2011</td>\n",
       "      <td>Individual</td>\n",
       "      <td>2nd owner</td>\n",
       "      <td>21000</td>\n",
       "      <td>NaN</td>\n",
       "      <td>5</td>\n",
       "    </tr>\n",
       "  </tbody>\n",
       "</table>\n",
       "</div>"
      ],
      "text/plain": [
       "   id                                 name  selling_price  year seller_type  \\\n",
       "0   0            Royal Enfield Classic 350       175000.0  2019  Individual   \n",
       "1   1                            Honda Dio        45000.0  2017  Individual   \n",
       "2   2  Royal Enfield Classic Gunmetal Grey       150000.0  2018  Individual   \n",
       "3   3    Yamaha Fazer FI V 2.0 [2016-2018]        65000.0  2015  Individual   \n",
       "4   4                Yamaha SZ [2013-2014]        20000.0  2011  Individual   \n",
       "\n",
       "       owner  km_driven  ex_showroom_price  km_class  \n",
       "0  1st owner        350                NaN         1  \n",
       "1  1st owner       5650                NaN         2  \n",
       "2  1st owner      12000           148114.0         3  \n",
       "3  1st owner      23000            89643.0         5  \n",
       "4  2nd owner      21000                NaN         5  "
      ]
     },
     "execution_count": 5,
     "metadata": {},
     "output_type": "execute_result"
    }
   ],
   "source": [
    "df = pd.read_csv('csv/aula_11.csv')\n",
    "df.head()"
   ]
  },
  {
   "cell_type": "markdown",
   "id": "4393fa73",
   "metadata": {
    "heading_collapsed": true,
    "hidden": true
   },
   "source": [
    "### Descrição das Colunas"
   ]
  },
  {
   "cell_type": "markdown",
   "id": "33f0b47a",
   "metadata": {
    "hidden": true
   },
   "source": [
    "| Coluna | Descrição |\n",
    "| :----- | --------: |\n",
    "| ID | Identificador da linha/registro |\n",
    "| name | Fabricante e Modelo da Moto |\n",
    "| selling_price | Preço de Venda |\n",
    "| year | Ano de Fabricação da Moto |\n",
    "| seller_type | Tipo de Vendedor - Se é vendedor pessoal ou revendedor |\n",
    "| owner | Se é primeiro, segundo, terceiro ou quarto dono da moto |\n",
    "| km_driven | Quantidade de Quilometros percorrido pela moto |\n",
    "| ex_showroom_price | Preço da motocicleta sem as taxas de seguro e registro |"
   ]
  },
  {
   "cell_type": "markdown",
   "id": "7c57cf3c",
   "metadata": {},
   "source": [
    "## Novas Perguntas"
   ]
  },
  {
   "cell_type": "markdown",
   "id": "f4793d29",
   "metadata": {},
   "source": [
    "Após analisar as respostas das perguntas anteriores, o CEO da XGB Sales lhe fez mais algumas perguntas:\n",
    "\n",
    "1. As motos que possuiram somente 1 dono são as motos mais caras na média que as motos que tiveram mais donos?\n",
    "2. As motos que possuiram mais donos são as motos que possuem quilometragem média maior que as motos que possuiram menos donos?\n",
    "3. As motos que possuiram mais donos são as motos mais velhas na média?\n",
    "4. As motos que são vendidas por revendedores são as motos mais caras na média do que as motos vendidas pelos seus donos?\n",
    "5. O CEO lhe entregou um novo dataset chamado companies.csv, onde estão todas as fabricantes de motocicletas. Adicione uma coluna no DataFrame com o nome de company. Essa coluna deve possuir o nome do fabricante de cada moto do DataFrame.\n",
    "6. Crie um novo dataset chamado bikes_completed.csv a partir do DataFrame com a coluna company preenchida.\n",
    "7. Quais são so fabricantes que mais possuem motos cadastradas na base de dados completa?"
   ]
  },
  {
   "cell_type": "markdown",
   "id": "9bab0de8",
   "metadata": {},
   "source": [
    "### Respondendo as Perguntas"
   ]
  },
  {
   "cell_type": "markdown",
   "id": "b3cb9c69",
   "metadata": {},
   "source": [
    "#### 1. As motos que possuiram somente 1 dono são as motos mais caras na média que as motos que tiveram mais donos?"
   ]
  },
  {
   "cell_type": "markdown",
   "id": "74c76201",
   "metadata": {
    "heading_collapsed": true
   },
   "source": [
    "##### Planejamento"
   ]
  },
  {
   "cell_type": "markdown",
   "id": "00b3f049",
   "metadata": {
    "hidden": true
   },
   "source": [
    "Vamos agrupar os dados por categoria de quantidade de donos, coluna `owner` e tirar a média dos valores de preço de venda para verificarmos qual é a categoria que possuí a maior média"
   ]
  },
  {
   "cell_type": "markdown",
   "id": "0a414510",
   "metadata": {
    "heading_collapsed": true
   },
   "source": [
    "##### Resolução"
   ]
  },
  {
   "cell_type": "code",
   "execution_count": null,
   "id": "02d4edcc",
   "metadata": {
    "hidden": true
   },
   "outputs": [],
   "source": []
  },
  {
   "cell_type": "markdown",
   "id": "aba08194",
   "metadata": {},
   "source": [
    "##### Resposta"
   ]
  },
  {
   "cell_type": "code",
   "execution_count": 82,
   "id": "196e6b1b",
   "metadata": {
    "ExecuteTime": {
     "end_time": "2022-07-20T23:32:19.894464Z",
     "start_time": "2022-07-20T23:32:19.890261Z"
    }
   },
   "outputs": [],
   "source": [
    "import numpy as np"
   ]
  },
  {
   "cell_type": "code",
   "execution_count": 85,
   "id": "d8cc0791",
   "metadata": {
    "ExecuteTime": {
     "end_time": "2022-07-20T23:35:26.624088Z",
     "start_time": "2022-07-20T23:35:26.596720Z"
    }
   },
   "outputs": [
    {
     "data": {
      "text/html": [
       "<div>\n",
       "<style scoped>\n",
       "    .dataframe tbody tr th:only-of-type {\n",
       "        vertical-align: middle;\n",
       "    }\n",
       "\n",
       "    .dataframe tbody tr th {\n",
       "        vertical-align: top;\n",
       "    }\n",
       "\n",
       "    .dataframe thead th {\n",
       "        text-align: right;\n",
       "    }\n",
       "</style>\n",
       "<table border=\"1\" class=\"dataframe\">\n",
       "  <thead>\n",
       "    <tr style=\"text-align: right;\">\n",
       "      <th></th>\n",
       "      <th>owner</th>\n",
       "      <th>avg_price</th>\n",
       "      <th>qty</th>\n",
       "    </tr>\n",
       "  </thead>\n",
       "  <tbody>\n",
       "    <tr>\n",
       "      <th>0</th>\n",
       "      <td>1st owner</td>\n",
       "      <td>60022.813853</td>\n",
       "      <td>924</td>\n",
       "    </tr>\n",
       "    <tr>\n",
       "      <th>1</th>\n",
       "      <td>3rd owner</td>\n",
       "      <td>55727.272727</td>\n",
       "      <td>11</td>\n",
       "    </tr>\n",
       "    <tr>\n",
       "      <th>2</th>\n",
       "      <td>2nd owner</td>\n",
       "      <td>49975.401639</td>\n",
       "      <td>122</td>\n",
       "    </tr>\n",
       "    <tr>\n",
       "      <th>3</th>\n",
       "      <td>4th owner</td>\n",
       "      <td>12500.000000</td>\n",
       "      <td>2</td>\n",
       "    </tr>\n",
       "  </tbody>\n",
       "</table>\n",
       "</div>"
      ],
      "text/plain": [
       "       owner     avg_price  qty\n",
       "0  1st owner  60022.813853  924\n",
       "1  3rd owner  55727.272727   11\n",
       "2  2nd owner  49975.401639  122\n",
       "3  4th owner  12500.000000    2"
      ]
     },
     "execution_count": 85,
     "metadata": {},
     "output_type": "execute_result"
    }
   ],
   "source": [
    "df_grouped = df.loc[ (df['id'] != 134) & (df['id'] != 311) , ['owner', 'selling_price']]\n",
    "\n",
    "df_grouped = df_grouped.groupby('owner')\n",
    "\n",
    "# df_grouped = df_grouped.mean().round(2).sort_values('selling_price', ascending=False).reset_index()\n",
    "\n",
    "df_grouped = df_grouped.agg(\n",
    "    avg_price = pd.NamedAgg('selling_price', 'mean'),\n",
    "    qty = pd.NamedAgg('owner', 'count'),\n",
    ").sort_values('avg_price', ascending=False).reset_index()\n",
    "\n",
    "df_grouped"
   ]
  },
  {
   "cell_type": "code",
   "execution_count": 88,
   "id": "09aaaee9",
   "metadata": {
    "ExecuteTime": {
     "end_time": "2022-07-20T23:36:29.655822Z",
     "start_time": "2022-07-20T23:36:29.645201Z"
    }
   },
   "outputs": [
    {
     "data": {
      "text/html": [
       "<div>\n",
       "<style scoped>\n",
       "    .dataframe tbody tr th:only-of-type {\n",
       "        vertical-align: middle;\n",
       "    }\n",
       "\n",
       "    .dataframe tbody tr th {\n",
       "        vertical-align: top;\n",
       "    }\n",
       "\n",
       "    .dataframe thead th {\n",
       "        text-align: right;\n",
       "    }\n",
       "</style>\n",
       "<table border=\"1\" class=\"dataframe\">\n",
       "  <thead>\n",
       "    <tr style=\"text-align: right;\">\n",
       "      <th></th>\n",
       "      <th>owner</th>\n",
       "      <th>avg_price</th>\n",
       "      <th>qty</th>\n",
       "    </tr>\n",
       "  </thead>\n",
       "  <tbody>\n",
       "    <tr>\n",
       "      <th>0</th>\n",
       "      <td>1st owner</td>\n",
       "      <td>60022.81</td>\n",
       "      <td>924</td>\n",
       "    </tr>\n",
       "    <tr>\n",
       "      <th>1</th>\n",
       "      <td>3rd owner</td>\n",
       "      <td>55727.27</td>\n",
       "      <td>11</td>\n",
       "    </tr>\n",
       "    <tr>\n",
       "      <th>2</th>\n",
       "      <td>2nd owner</td>\n",
       "      <td>49975.40</td>\n",
       "      <td>122</td>\n",
       "    </tr>\n",
       "    <tr>\n",
       "      <th>3</th>\n",
       "      <td>4th owner</td>\n",
       "      <td>12500.00</td>\n",
       "      <td>2</td>\n",
       "    </tr>\n",
       "  </tbody>\n",
       "</table>\n",
       "</div>"
      ],
      "text/plain": [
       "       owner  avg_price  qty\n",
       "0  1st owner   60022.81  924\n",
       "1  3rd owner   55727.27   11\n",
       "2  2nd owner   49975.40  122\n",
       "3  4th owner   12500.00    2"
      ]
     },
     "execution_count": 88,
     "metadata": {},
     "output_type": "execute_result"
    }
   ],
   "source": [
    "df_grouped['avg_price'] = df_grouped['avg_price'].round(2)\n",
    "df_grouped"
   ]
  },
  {
   "cell_type": "code",
   "execution_count": null,
   "id": "cff0c9a7",
   "metadata": {},
   "outputs": [],
   "source": []
  },
  {
   "cell_type": "code",
   "execution_count": 22,
   "id": "ad8820f6",
   "metadata": {
    "ExecuteTime": {
     "end_time": "2022-07-20T22:08:06.298389Z",
     "start_time": "2022-07-20T22:08:06.280368Z"
    }
   },
   "outputs": [
    {
     "data": {
      "text/html": [
       "<div>\n",
       "<style scoped>\n",
       "    .dataframe tbody tr th:only-of-type {\n",
       "        vertical-align: middle;\n",
       "    }\n",
       "\n",
       "    .dataframe tbody tr th {\n",
       "        vertical-align: top;\n",
       "    }\n",
       "\n",
       "    .dataframe thead th {\n",
       "        text-align: right;\n",
       "    }\n",
       "</style>\n",
       "<table border=\"1\" class=\"dataframe\">\n",
       "  <thead>\n",
       "    <tr style=\"text-align: right;\">\n",
       "      <th></th>\n",
       "      <th>id</th>\n",
       "      <th>name</th>\n",
       "      <th>selling_price</th>\n",
       "      <th>year</th>\n",
       "      <th>seller_type</th>\n",
       "      <th>owner</th>\n",
       "      <th>km_driven</th>\n",
       "      <th>ex_showroom_price</th>\n",
       "      <th>km_class</th>\n",
       "      <th>age</th>\n",
       "      <th>company</th>\n",
       "    </tr>\n",
       "  </thead>\n",
       "  <tbody>\n",
       "    <tr>\n",
       "      <th>311</th>\n",
       "      <td>311</td>\n",
       "      <td>Harley-Davidson Street 750</td>\n",
       "      <td>330000.0</td>\n",
       "      <td>2014</td>\n",
       "      <td>Individual</td>\n",
       "      <td>4th owner</td>\n",
       "      <td>6500</td>\n",
       "      <td>534000.0</td>\n",
       "      <td>2</td>\n",
       "      <td>8</td>\n",
       "      <td>Harley-Davidson</td>\n",
       "    </tr>\n",
       "    <tr>\n",
       "      <th>642</th>\n",
       "      <td>642</td>\n",
       "      <td>TVS Apache RTR 160</td>\n",
       "      <td>15000.0</td>\n",
       "      <td>2009</td>\n",
       "      <td>Individual</td>\n",
       "      <td>4th owner</td>\n",
       "      <td>880000</td>\n",
       "      <td>NaN</td>\n",
       "      <td>176</td>\n",
       "      <td>13</td>\n",
       "      <td>TVS</td>\n",
       "    </tr>\n",
       "    <tr>\n",
       "      <th>698</th>\n",
       "      <td>698</td>\n",
       "      <td>Hero Honda CBZ</td>\n",
       "      <td>10000.0</td>\n",
       "      <td>2000</td>\n",
       "      <td>Individual</td>\n",
       "      <td>4th owner</td>\n",
       "      <td>48000</td>\n",
       "      <td>NaN</td>\n",
       "      <td>10</td>\n",
       "      <td>22</td>\n",
       "      <td>Hero</td>\n",
       "    </tr>\n",
       "  </tbody>\n",
       "</table>\n",
       "</div>"
      ],
      "text/plain": [
       "      id                        name  selling_price  year seller_type  \\\n",
       "311  311  Harley-Davidson Street 750       330000.0  2014  Individual   \n",
       "642  642          TVS Apache RTR 160        15000.0  2009  Individual   \n",
       "698  698              Hero Honda CBZ        10000.0  2000  Individual   \n",
       "\n",
       "         owner  km_driven  ex_showroom_price  km_class  age          company  \n",
       "311  4th owner       6500           534000.0         2    8  Harley-Davidson  \n",
       "642  4th owner     880000                NaN       176   13              TVS  \n",
       "698  4th owner      48000                NaN        10   22             Hero  "
      ]
     },
     "execution_count": 22,
     "metadata": {},
     "output_type": "execute_result"
    }
   ],
   "source": [
    "df.loc[df['owner'] == '4th owner', :]"
   ]
  },
  {
   "cell_type": "code",
   "execution_count": 23,
   "id": "4464f22a",
   "metadata": {
    "ExecuteTime": {
     "end_time": "2022-07-20T22:09:49.827358Z",
     "start_time": "2022-07-20T22:09:49.810556Z"
    }
   },
   "outputs": [
    {
     "data": {
      "text/html": [
       "<div>\n",
       "<style scoped>\n",
       "    .dataframe tbody tr th:only-of-type {\n",
       "        vertical-align: middle;\n",
       "    }\n",
       "\n",
       "    .dataframe tbody tr th {\n",
       "        vertical-align: top;\n",
       "    }\n",
       "\n",
       "    .dataframe thead th {\n",
       "        text-align: right;\n",
       "    }\n",
       "</style>\n",
       "<table border=\"1\" class=\"dataframe\">\n",
       "  <thead>\n",
       "    <tr style=\"text-align: right;\">\n",
       "      <th></th>\n",
       "      <th>id</th>\n",
       "      <th>name</th>\n",
       "      <th>selling_price</th>\n",
       "      <th>year</th>\n",
       "      <th>seller_type</th>\n",
       "      <th>owner</th>\n",
       "      <th>km_driven</th>\n",
       "      <th>ex_showroom_price</th>\n",
       "      <th>km_class</th>\n",
       "      <th>age</th>\n",
       "      <th>company</th>\n",
       "    </tr>\n",
       "  </thead>\n",
       "  <tbody>\n",
       "    <tr>\n",
       "      <th>134</th>\n",
       "      <td>134</td>\n",
       "      <td>Harley-Davidson Street Bob</td>\n",
       "      <td>750000.0</td>\n",
       "      <td>2013</td>\n",
       "      <td>Individual</td>\n",
       "      <td>2nd owner</td>\n",
       "      <td>12000</td>\n",
       "      <td>1278000.0</td>\n",
       "      <td>3</td>\n",
       "      <td>9</td>\n",
       "      <td>Harley-Davidson</td>\n",
       "    </tr>\n",
       "    <tr>\n",
       "      <th>311</th>\n",
       "      <td>311</td>\n",
       "      <td>Harley-Davidson Street 750</td>\n",
       "      <td>330000.0</td>\n",
       "      <td>2014</td>\n",
       "      <td>Individual</td>\n",
       "      <td>4th owner</td>\n",
       "      <td>6500</td>\n",
       "      <td>534000.0</td>\n",
       "      <td>2</td>\n",
       "      <td>8</td>\n",
       "      <td>Harley-Davidson</td>\n",
       "    </tr>\n",
       "  </tbody>\n",
       "</table>\n",
       "</div>"
      ],
      "text/plain": [
       "      id                        name  selling_price  year seller_type  \\\n",
       "134  134  Harley-Davidson Street Bob       750000.0  2013  Individual   \n",
       "311  311  Harley-Davidson Street 750       330000.0  2014  Individual   \n",
       "\n",
       "         owner  km_driven  ex_showroom_price  km_class  age          company  \n",
       "134  2nd owner      12000          1278000.0         3    9  Harley-Davidson  \n",
       "311  4th owner       6500           534000.0         2    8  Harley-Davidson  "
      ]
     },
     "execution_count": 23,
     "metadata": {},
     "output_type": "execute_result"
    }
   ],
   "source": [
    "df.loc[df['company'] == 'Harley-Davidson', :]"
   ]
  },
  {
   "cell_type": "code",
   "execution_count": 35,
   "id": "6362aef0",
   "metadata": {
    "ExecuteTime": {
     "end_time": "2022-07-20T22:29:46.731189Z",
     "start_time": "2022-07-20T22:29:46.604400Z"
    }
   },
   "outputs": [
    {
     "data": {
      "image/png": "[encoded data removed]",
      "text/plain": [
       "<Figure size 432x288 with 1 Axes>"
      ]
     },
     "metadata": {
      "needs_background": "light"
     },
     "output_type": "display_data"
    }
   ],
   "source": [
    "df_selected = df.loc[:, ['owner', 'selling_price']]\n",
    "\n",
    "sns.boxplot(\n",
    "    data = df_selected,\n",
    "    x = 'owner',\n",
    "    y = 'selling_price',\n",
    ");"
   ]
  },
  {
   "cell_type": "code",
   "execution_count": 32,
   "id": "b02b5b71",
   "metadata": {
    "ExecuteTime": {
     "end_time": "2022-07-20T22:26:53.693939Z",
     "start_time": "2022-07-20T22:26:52.696855Z"
    }
   },
   "outputs": [],
   "source": [
    "import seaborn as sns"
   ]
  },
  {
   "cell_type": "markdown",
   "id": "7a850547",
   "metadata": {},
   "source": [
    "Como podemos observar, na média, as motos mais caras são as motos que tiveram 4 donos."
   ]
  },
  {
   "cell_type": "markdown",
   "id": "6aa6a5e9",
   "metadata": {},
   "source": [
    "#### 2. As motos que possuiram mais donos são as motos que possuem quilometragem média maior que as motos que possuiram menos donos?"
   ]
  },
  {
   "cell_type": "markdown",
   "id": "d9fea30c",
   "metadata": {
    "heading_collapsed": true
   },
   "source": [
    "##### Planejamento"
   ]
  },
  {
   "cell_type": "markdown",
   "id": "9e6fbb6c",
   "metadata": {
    "hidden": true
   },
   "source": [
    "Vamos agrupar os dados por categoria de quantidade de donos, coluna `owner`, e vamos calcular a média de quilometros percorridos por categoria"
   ]
  },
  {
   "cell_type": "markdown",
   "id": "99ad306d",
   "metadata": {
    "heading_collapsed": true
   },
   "source": [
    "##### Resolução"
   ]
  },
  {
   "cell_type": "code",
   "execution_count": null,
   "id": "b2dcdf65",
   "metadata": {
    "hidden": true
   },
   "outputs": [],
   "source": []
  },
  {
   "cell_type": "markdown",
   "id": "db156069",
   "metadata": {},
   "source": [
    "##### Resposta"
   ]
  },
  {
   "cell_type": "code",
   "execution_count": 36,
   "id": "699641a1",
   "metadata": {
    "ExecuteTime": {
     "end_time": "2022-07-20T22:35:43.301644Z",
     "start_time": "2022-07-20T22:35:43.285425Z"
    }
   },
   "outputs": [
    {
     "data": {
      "text/html": [
       "<div>\n",
       "<style scoped>\n",
       "    .dataframe tbody tr th:only-of-type {\n",
       "        vertical-align: middle;\n",
       "    }\n",
       "\n",
       "    .dataframe tbody tr th {\n",
       "        vertical-align: top;\n",
       "    }\n",
       "\n",
       "    .dataframe thead th {\n",
       "        text-align: right;\n",
       "    }\n",
       "</style>\n",
       "<table border=\"1\" class=\"dataframe\">\n",
       "  <thead>\n",
       "    <tr style=\"text-align: right;\">\n",
       "      <th></th>\n",
       "      <th>owner</th>\n",
       "      <th>km_driven</th>\n",
       "    </tr>\n",
       "  </thead>\n",
       "  <tbody>\n",
       "    <tr>\n",
       "      <th>0</th>\n",
       "      <td>4th owner</td>\n",
       "      <td>311500.000000</td>\n",
       "    </tr>\n",
       "    <tr>\n",
       "      <th>1</th>\n",
       "      <td>2nd owner</td>\n",
       "      <td>39288.991870</td>\n",
       "    </tr>\n",
       "    <tr>\n",
       "      <th>2</th>\n",
       "      <td>3rd owner</td>\n",
       "      <td>33292.181818</td>\n",
       "    </tr>\n",
       "    <tr>\n",
       "      <th>3</th>\n",
       "      <td>1st owner</td>\n",
       "      <td>32816.583333</td>\n",
       "    </tr>\n",
       "  </tbody>\n",
       "</table>\n",
       "</div>"
      ],
      "text/plain": [
       "       owner      km_driven\n",
       "0  4th owner  311500.000000\n",
       "1  2nd owner   39288.991870\n",
       "2  3rd owner   33292.181818\n",
       "3  1st owner   32816.583333"
      ]
     },
     "execution_count": 36,
     "metadata": {},
     "output_type": "execute_result"
    }
   ],
   "source": [
    "df_grouped = df[['owner', 'km_driven']].groupby('owner')\n",
    "\n",
    "df_grouped = df_grouped.mean().sort_values('km_driven', ascending=False).reset_index()\n",
    "\n",
    "df_grouped"
   ]
  },
  {
   "cell_type": "code",
   "execution_count": 37,
   "id": "30f05367",
   "metadata": {
    "ExecuteTime": {
     "end_time": "2022-07-20T22:35:54.565767Z",
     "start_time": "2022-07-20T22:35:54.555826Z"
    }
   },
   "outputs": [
    {
     "data": {
      "text/plain": [
       "880000"
      ]
     },
     "execution_count": 37,
     "metadata": {},
     "output_type": "execute_result"
    }
   ],
   "source": [
    "df['km_driven'].max()"
   ]
  },
  {
   "cell_type": "code",
   "execution_count": 38,
   "id": "56856bcc",
   "metadata": {
    "ExecuteTime": {
     "end_time": "2022-07-20T22:38:15.997379Z",
     "start_time": "2022-07-20T22:38:15.974253Z"
    }
   },
   "outputs": [
    {
     "data": {
      "text/html": [
       "<div>\n",
       "<style scoped>\n",
       "    .dataframe tbody tr th:only-of-type {\n",
       "        vertical-align: middle;\n",
       "    }\n",
       "\n",
       "    .dataframe tbody tr th {\n",
       "        vertical-align: top;\n",
       "    }\n",
       "\n",
       "    .dataframe thead th {\n",
       "        text-align: right;\n",
       "    }\n",
       "</style>\n",
       "<table border=\"1\" class=\"dataframe\">\n",
       "  <thead>\n",
       "    <tr style=\"text-align: right;\">\n",
       "      <th></th>\n",
       "      <th>id</th>\n",
       "      <th>selling_price</th>\n",
       "      <th>year</th>\n",
       "      <th>km_driven</th>\n",
       "      <th>ex_showroom_price</th>\n",
       "      <th>km_class</th>\n",
       "      <th>age</th>\n",
       "    </tr>\n",
       "  </thead>\n",
       "  <tbody>\n",
       "    <tr>\n",
       "      <th>count</th>\n",
       "      <td>1061.000000</td>\n",
       "      <td>1061.000000</td>\n",
       "      <td>1061.000000</td>\n",
       "      <td>1061.000000</td>\n",
       "      <td>6.260000e+02</td>\n",
       "      <td>1061.000000</td>\n",
       "      <td>1061.000000</td>\n",
       "    </tr>\n",
       "    <tr>\n",
       "      <th>mean</th>\n",
       "      <td>530.000000</td>\n",
       "      <td>59638.151744</td>\n",
       "      <td>2013.867107</td>\n",
       "      <td>34359.833176</td>\n",
       "      <td>8.795871e+04</td>\n",
       "      <td>7.199811</td>\n",
       "      <td>8.132893</td>\n",
       "    </tr>\n",
       "    <tr>\n",
       "      <th>std</th>\n",
       "      <td>306.428621</td>\n",
       "      <td>56304.291973</td>\n",
       "      <td>4.301191</td>\n",
       "      <td>51623.152702</td>\n",
       "      <td>7.749659e+04</td>\n",
       "      <td>10.284153</td>\n",
       "      <td>4.301191</td>\n",
       "    </tr>\n",
       "    <tr>\n",
       "      <th>min</th>\n",
       "      <td>0.000000</td>\n",
       "      <td>5000.000000</td>\n",
       "      <td>1988.000000</td>\n",
       "      <td>350.000000</td>\n",
       "      <td>3.049000e+04</td>\n",
       "      <td>1.000000</td>\n",
       "      <td>2.000000</td>\n",
       "    </tr>\n",
       "    <tr>\n",
       "      <th>25%</th>\n",
       "      <td>265.000000</td>\n",
       "      <td>28000.000000</td>\n",
       "      <td>2011.000000</td>\n",
       "      <td>13500.000000</td>\n",
       "      <td>5.485200e+04</td>\n",
       "      <td>3.000000</td>\n",
       "      <td>5.000000</td>\n",
       "    </tr>\n",
       "    <tr>\n",
       "      <th>50%</th>\n",
       "      <td>530.000000</td>\n",
       "      <td>45000.000000</td>\n",
       "      <td>2015.000000</td>\n",
       "      <td>25000.000000</td>\n",
       "      <td>7.275250e+04</td>\n",
       "      <td>5.000000</td>\n",
       "      <td>7.000000</td>\n",
       "    </tr>\n",
       "    <tr>\n",
       "      <th>75%</th>\n",
       "      <td>795.000000</td>\n",
       "      <td>70000.000000</td>\n",
       "      <td>2017.000000</td>\n",
       "      <td>43000.000000</td>\n",
       "      <td>8.703150e+04</td>\n",
       "      <td>9.000000</td>\n",
       "      <td>11.000000</td>\n",
       "    </tr>\n",
       "    <tr>\n",
       "      <th>max</th>\n",
       "      <td>1060.000000</td>\n",
       "      <td>760000.000000</td>\n",
       "      <td>2020.000000</td>\n",
       "      <td>880000.000000</td>\n",
       "      <td>1.278000e+06</td>\n",
       "      <td>176.000000</td>\n",
       "      <td>34.000000</td>\n",
       "    </tr>\n",
       "  </tbody>\n",
       "</table>\n",
       "</div>"
      ],
      "text/plain": [
       "                id  selling_price         year      km_driven  \\\n",
       "count  1061.000000    1061.000000  1061.000000    1061.000000   \n",
       "mean    530.000000   59638.151744  2013.867107   34359.833176   \n",
       "std     306.428621   56304.291973     4.301191   51623.152702   \n",
       "min       0.000000    5000.000000  1988.000000     350.000000   \n",
       "25%     265.000000   28000.000000  2011.000000   13500.000000   \n",
       "50%     530.000000   45000.000000  2015.000000   25000.000000   \n",
       "75%     795.000000   70000.000000  2017.000000   43000.000000   \n",
       "max    1060.000000  760000.000000  2020.000000  880000.000000   \n",
       "\n",
       "       ex_showroom_price     km_class          age  \n",
       "count       6.260000e+02  1061.000000  1061.000000  \n",
       "mean        8.795871e+04     7.199811     8.132893  \n",
       "std         7.749659e+04    10.284153     4.301191  \n",
       "min         3.049000e+04     1.000000     2.000000  \n",
       "25%         5.485200e+04     3.000000     5.000000  \n",
       "50%         7.275250e+04     5.000000     7.000000  \n",
       "75%         8.703150e+04     9.000000    11.000000  \n",
       "max         1.278000e+06   176.000000    34.000000  "
      ]
     },
     "execution_count": 38,
     "metadata": {},
     "output_type": "execute_result"
    }
   ],
   "source": [
    "df.describe()"
   ]
  },
  {
   "cell_type": "markdown",
   "id": "8007d6b7",
   "metadata": {},
   "source": [
    "Como podemos observar, na média as motos que possuíram mais donos são as motos com maior quilemetragem percorrida"
   ]
  },
  {
   "cell_type": "markdown",
   "id": "eb3a9242",
   "metadata": {},
   "source": [
    "#### 3. As motos que possuiram mais donos são as motos mais velhas na média?"
   ]
  },
  {
   "cell_type": "markdown",
   "id": "0f8e040a",
   "metadata": {
    "heading_collapsed": true
   },
   "source": [
    "##### Planejamento"
   ]
  },
  {
   "cell_type": "markdown",
   "id": "1aba8fa6",
   "metadata": {
    "hidden": true
   },
   "source": [
    "Iremos criar uma nova coluna chamada `age` que terá como conteúdo a idade de cada moto. Com esse dado, iremos agrupar as motos pela categoria de quantidade de donos, que é a coluna `owner`, e depois iremos calcular a média de idade de cada categoria."
   ]
  },
  {
   "cell_type": "markdown",
   "id": "adb28ed5",
   "metadata": {
    "heading_collapsed": true
   },
   "source": [
    "##### Resolução"
   ]
  },
  {
   "cell_type": "code",
   "execution_count": null,
   "id": "8c2a68ab",
   "metadata": {
    "hidden": true
   },
   "outputs": [],
   "source": []
  },
  {
   "cell_type": "markdown",
   "id": "df948312",
   "metadata": {},
   "source": [
    "##### Resposta"
   ]
  },
  {
   "cell_type": "code",
   "execution_count": 8,
   "id": "cb8d686f",
   "metadata": {
    "ExecuteTime": {
     "end_time": "2022-07-20T21:43:17.232132Z",
     "start_time": "2022-07-20T21:43:17.227197Z"
    }
   },
   "outputs": [],
   "source": [
    "# Função que fará o calculo da idade da motocicleta\n",
    "def calculate_age(year):\n",
    "    # Recupera a data de hoje\n",
    "    today = date.today()\n",
    "    \n",
    "    # Como estamos calculando somente a idade através dos anos, podemos\n",
    "    # simplismente subtrair o ano da data atual pelo ano da moto\n",
    "    return today.year - year"
   ]
  },
  {
   "cell_type": "code",
   "execution_count": 9,
   "id": "a384ccd4",
   "metadata": {
    "ExecuteTime": {
     "end_time": "2022-07-20T21:43:17.826949Z",
     "start_time": "2022-07-20T21:43:17.793646Z"
    }
   },
   "outputs": [
    {
     "data": {
      "text/html": [
       "<div>\n",
       "<style scoped>\n",
       "    .dataframe tbody tr th:only-of-type {\n",
       "        vertical-align: middle;\n",
       "    }\n",
       "\n",
       "    .dataframe tbody tr th {\n",
       "        vertical-align: top;\n",
       "    }\n",
       "\n",
       "    .dataframe thead th {\n",
       "        text-align: right;\n",
       "    }\n",
       "</style>\n",
       "<table border=\"1\" class=\"dataframe\">\n",
       "  <thead>\n",
       "    <tr style=\"text-align: right;\">\n",
       "      <th></th>\n",
       "      <th>id</th>\n",
       "      <th>name</th>\n",
       "      <th>selling_price</th>\n",
       "      <th>year</th>\n",
       "      <th>seller_type</th>\n",
       "      <th>owner</th>\n",
       "      <th>km_driven</th>\n",
       "      <th>ex_showroom_price</th>\n",
       "      <th>km_class</th>\n",
       "      <th>age</th>\n",
       "    </tr>\n",
       "  </thead>\n",
       "  <tbody>\n",
       "    <tr>\n",
       "      <th>0</th>\n",
       "      <td>0</td>\n",
       "      <td>Royal Enfield Classic 350</td>\n",
       "      <td>175000.0</td>\n",
       "      <td>2019</td>\n",
       "      <td>Individual</td>\n",
       "      <td>1st owner</td>\n",
       "      <td>350</td>\n",
       "      <td>NaN</td>\n",
       "      <td>1</td>\n",
       "      <td>3</td>\n",
       "    </tr>\n",
       "    <tr>\n",
       "      <th>1</th>\n",
       "      <td>1</td>\n",
       "      <td>Honda Dio</td>\n",
       "      <td>45000.0</td>\n",
       "      <td>2017</td>\n",
       "      <td>Individual</td>\n",
       "      <td>1st owner</td>\n",
       "      <td>5650</td>\n",
       "      <td>NaN</td>\n",
       "      <td>2</td>\n",
       "      <td>5</td>\n",
       "    </tr>\n",
       "    <tr>\n",
       "      <th>2</th>\n",
       "      <td>2</td>\n",
       "      <td>Royal Enfield Classic Gunmetal Grey</td>\n",
       "      <td>150000.0</td>\n",
       "      <td>2018</td>\n",
       "      <td>Individual</td>\n",
       "      <td>1st owner</td>\n",
       "      <td>12000</td>\n",
       "      <td>148114.0</td>\n",
       "      <td>3</td>\n",
       "      <td>4</td>\n",
       "    </tr>\n",
       "    <tr>\n",
       "      <th>3</th>\n",
       "      <td>3</td>\n",
       "      <td>Yamaha Fazer FI V 2.0 [2016-2018]</td>\n",
       "      <td>65000.0</td>\n",
       "      <td>2015</td>\n",
       "      <td>Individual</td>\n",
       "      <td>1st owner</td>\n",
       "      <td>23000</td>\n",
       "      <td>89643.0</td>\n",
       "      <td>5</td>\n",
       "      <td>7</td>\n",
       "    </tr>\n",
       "    <tr>\n",
       "      <th>4</th>\n",
       "      <td>4</td>\n",
       "      <td>Yamaha SZ [2013-2014]</td>\n",
       "      <td>20000.0</td>\n",
       "      <td>2011</td>\n",
       "      <td>Individual</td>\n",
       "      <td>2nd owner</td>\n",
       "      <td>21000</td>\n",
       "      <td>NaN</td>\n",
       "      <td>5</td>\n",
       "      <td>11</td>\n",
       "    </tr>\n",
       "  </tbody>\n",
       "</table>\n",
       "</div>"
      ],
      "text/plain": [
       "   id                                 name  selling_price  year seller_type  \\\n",
       "0   0            Royal Enfield Classic 350       175000.0  2019  Individual   \n",
       "1   1                            Honda Dio        45000.0  2017  Individual   \n",
       "2   2  Royal Enfield Classic Gunmetal Grey       150000.0  2018  Individual   \n",
       "3   3    Yamaha Fazer FI V 2.0 [2016-2018]        65000.0  2015  Individual   \n",
       "4   4                Yamaha SZ [2013-2014]        20000.0  2011  Individual   \n",
       "\n",
       "       owner  km_driven  ex_showroom_price  km_class  age  \n",
       "0  1st owner        350                NaN         1    3  \n",
       "1  1st owner       5650                NaN         2    5  \n",
       "2  1st owner      12000           148114.0         3    4  \n",
       "3  1st owner      23000            89643.0         5    7  \n",
       "4  2nd owner      21000                NaN         5   11  "
      ]
     },
     "execution_count": 9,
     "metadata": {},
     "output_type": "execute_result"
    }
   ],
   "source": [
    "# Cria a coluna 'age', que conterá a idade da motocicleta\n",
    "df['age'] = df['year'].apply(lambda year: calculate_age(year))\n",
    "df.head()"
   ]
  },
  {
   "cell_type": "code",
   "execution_count": 39,
   "id": "a0b94941",
   "metadata": {
    "ExecuteTime": {
     "end_time": "2022-07-20T22:40:14.017421Z",
     "start_time": "2022-07-20T22:40:14.005337Z"
    }
   },
   "outputs": [
    {
     "data": {
      "text/html": [
       "<div>\n",
       "<style scoped>\n",
       "    .dataframe tbody tr th:only-of-type {\n",
       "        vertical-align: middle;\n",
       "    }\n",
       "\n",
       "    .dataframe tbody tr th {\n",
       "        vertical-align: top;\n",
       "    }\n",
       "\n",
       "    .dataframe thead th {\n",
       "        text-align: right;\n",
       "    }\n",
       "</style>\n",
       "<table border=\"1\" class=\"dataframe\">\n",
       "  <thead>\n",
       "    <tr style=\"text-align: right;\">\n",
       "      <th></th>\n",
       "      <th>owner</th>\n",
       "      <th>age</th>\n",
       "    </tr>\n",
       "  </thead>\n",
       "  <tbody>\n",
       "    <tr>\n",
       "      <th>0</th>\n",
       "      <td>4th owner</td>\n",
       "      <td>14.333333</td>\n",
       "    </tr>\n",
       "    <tr>\n",
       "      <th>1</th>\n",
       "      <td>3rd owner</td>\n",
       "      <td>14.181818</td>\n",
       "    </tr>\n",
       "    <tr>\n",
       "      <th>2</th>\n",
       "      <td>2nd owner</td>\n",
       "      <td>9.943089</td>\n",
       "    </tr>\n",
       "    <tr>\n",
       "      <th>3</th>\n",
       "      <td>1st owner</td>\n",
       "      <td>7.799784</td>\n",
       "    </tr>\n",
       "  </tbody>\n",
       "</table>\n",
       "</div>"
      ],
      "text/plain": [
       "       owner        age\n",
       "0  4th owner  14.333333\n",
       "1  3rd owner  14.181818\n",
       "2  2nd owner   9.943089\n",
       "3  1st owner   7.799784"
      ]
     },
     "execution_count": 39,
     "metadata": {},
     "output_type": "execute_result"
    }
   ],
   "source": [
    "df_grouped = df[['owner', 'age']].groupby('owner')\n",
    "\n",
    "df_grouped = df_grouped.mean().sort_values('age', ascending=False).reset_index()\n",
    "\n",
    "df_grouped"
   ]
  },
  {
   "cell_type": "markdown",
   "id": "f65fbbbe",
   "metadata": {},
   "source": [
    "Como podemos observar, as motos que possuiram mais donos são sim as motos com maior idade média dentro da base de dados."
   ]
  },
  {
   "cell_type": "markdown",
   "id": "3ddd42ae",
   "metadata": {},
   "source": [
    "#### 4. As motos que são vendidas por revendedores são as motos mais caras na média do que as motos vendidas pelos seus donos?"
   ]
  },
  {
   "cell_type": "markdown",
   "id": "794d732f",
   "metadata": {
    "heading_collapsed": true
   },
   "source": [
    "##### Planejamento"
   ]
  },
  {
   "cell_type": "markdown",
   "id": "7502f8c4",
   "metadata": {
    "hidden": true
   },
   "source": [
    "Vamos agrupar os dados pela categoria de tipo de vendedor, coluna `seller_type`, e depois calcularemos a média do preço de venda por categoria"
   ]
  },
  {
   "cell_type": "markdown",
   "id": "e093e0c2",
   "metadata": {
    "heading_collapsed": true
   },
   "source": [
    "##### Resolução"
   ]
  },
  {
   "cell_type": "code",
   "execution_count": null,
   "id": "1e1c4128",
   "metadata": {
    "hidden": true
   },
   "outputs": [],
   "source": []
  },
  {
   "cell_type": "markdown",
   "id": "e7398ada",
   "metadata": {},
   "source": [
    "##### Resposta"
   ]
  },
  {
   "cell_type": "raw",
   "id": "15fae1eb",
   "metadata": {
    "ExecuteTime": {
     "end_time": "2022-07-20T22:45:37.653202Z",
     "start_time": "2022-07-20T22:45:37.628661Z"
    }
   },
   "source": [
    "df_grouped = df[['seller_type', 'selling_price']].groupby('seller_type')\n",
    "\n",
    "# df_grouped = df_grouped.mean().sort_values('selling_price', ascending=False).reset_index()\n",
    "\n",
    "df_grouped = df_grouped.agg(\n",
    "    avg_price = pd.NamedAgg('selling_price', 'mean'),\n",
    "    median_price = pd.NamedAgg('selling_price', 'median'),\n",
    "    std_price = pd.NamedAgg('selling_price', 'std'),\n",
    "    qty = pd.NamedAgg('seller_type', 'count'),\n",
    ").sort_values('avg_price', ascending=False).reset_index()\n",
    "\n",
    "df_grouped"
   ]
  },
  {
   "cell_type": "markdown",
   "id": "6a34d040",
   "metadata": {},
   "source": [
    "Como podemos observar, as motos que são revendidas pelos seus donos são as mais caras na média."
   ]
  },
  {
   "cell_type": "markdown",
   "id": "b1dd646b",
   "metadata": {},
   "source": [
    "#### 5. O CEO lhe entregou um novo dataset chamado `companies.csv`, onde estão todas as fabricantes de motocicletas. Adicione uma coluna no DataFrame com o nome de `company`. Essa coluna deve possuir o nome do fabricante de cada moto do DataFrame."
   ]
  },
  {
   "cell_type": "markdown",
   "id": "7159e48c",
   "metadata": {
    "heading_collapsed": true
   },
   "source": [
    "##### Planejamento"
   ]
  },
  {
   "cell_type": "markdown",
   "id": "8f6d6c33",
   "metadata": {
    "hidden": true
   },
   "source": [
    "O novo dataset está dentro do diretório **csv** com o nome `companies.csv`. Vamos fazer a leitura desse arquivo e guardar as infomações dentro de um DataFrame.\n",
    "\n",
    "Com o DataFrame criado, iremos percorrer os dados que temos no DataFrame de motos e verificar no DataFrame de fabricantes qual é o fabricante da motocicleta em questão e preencher a coluna `company` com o nome do fabricante encontrado."
   ]
  },
  {
   "cell_type": "markdown",
   "id": "2552a994",
   "metadata": {
    "heading_collapsed": true
   },
   "source": [
    "##### Resolução"
   ]
  },
  {
   "cell_type": "code",
   "execution_count": null,
   "id": "225a0256",
   "metadata": {
    "hidden": true
   },
   "outputs": [],
   "source": []
  },
  {
   "cell_type": "markdown",
   "id": "aba5431e",
   "metadata": {
    "heading_collapsed": true
   },
   "source": [
    "##### Resposta"
   ]
  },
  {
   "cell_type": "code",
   "execution_count": 65,
   "id": "07202e4e",
   "metadata": {
    "ExecuteTime": {
     "end_time": "2022-07-20T23:17:23.687748Z",
     "start_time": "2022-07-20T23:17:23.681905Z"
    },
    "hidden": true
   },
   "outputs": [],
   "source": [
    "# Função que irá verificar qual a fabricante de cada \n",
    "# moto do dataset\n",
    "def create_company_name(companies, data):\n",
    "    for company in companies:\n",
    "        if company in data['name']:\n",
    "            return company"
   ]
  },
  {
   "cell_type": "code",
   "execution_count": 78,
   "id": "d00963e6",
   "metadata": {
    "ExecuteTime": {
     "end_time": "2022-07-20T23:21:36.727065Z",
     "start_time": "2022-07-20T23:21:36.717199Z"
    },
    "hidden": true
   },
   "outputs": [
    {
     "data": {
      "text/html": [
       "<div>\n",
       "<style scoped>\n",
       "    .dataframe tbody tr th:only-of-type {\n",
       "        vertical-align: middle;\n",
       "    }\n",
       "\n",
       "    .dataframe tbody tr th {\n",
       "        vertical-align: top;\n",
       "    }\n",
       "\n",
       "    .dataframe thead th {\n",
       "        text-align: right;\n",
       "    }\n",
       "</style>\n",
       "<table border=\"1\" class=\"dataframe\">\n",
       "  <thead>\n",
       "    <tr style=\"text-align: right;\">\n",
       "      <th></th>\n",
       "      <th>company_name</th>\n",
       "    </tr>\n",
       "  </thead>\n",
       "  <tbody>\n",
       "    <tr>\n",
       "      <th>0</th>\n",
       "      <td>Accura</td>\n",
       "    </tr>\n",
       "    <tr>\n",
       "      <th>1</th>\n",
       "      <td>Adventure Wheels</td>\n",
       "    </tr>\n",
       "    <tr>\n",
       "      <th>2</th>\n",
       "      <td>Altius</td>\n",
       "    </tr>\n",
       "    <tr>\n",
       "      <th>3</th>\n",
       "      <td>Amez</td>\n",
       "    </tr>\n",
       "    <tr>\n",
       "      <th>4</th>\n",
       "      <td>Ampere</td>\n",
       "    </tr>\n",
       "  </tbody>\n",
       "</table>\n",
       "</div>"
      ],
      "text/plain": [
       "       company_name\n",
       "0            Accura\n",
       "1  Adventure Wheels\n",
       "2            Altius\n",
       "3              Amez\n",
       "4            Ampere"
      ]
     },
     "execution_count": 78,
     "metadata": {},
     "output_type": "execute_result"
    }
   ],
   "source": [
    "# Lendo o dataset de fabricantes\n",
    "companies = pd.read_csv('csv/companies.csv', index_col=0)\n",
    "\n",
    "companies.head()"
   ]
  },
  {
   "cell_type": "code",
   "execution_count": 67,
   "id": "0a252828",
   "metadata": {
    "ExecuteTime": {
     "end_time": "2022-07-20T23:17:24.642672Z",
     "start_time": "2022-07-20T23:17:24.636484Z"
    },
    "hidden": true
   },
   "outputs": [
    {
     "data": {
      "text/plain": [
       "'Royal Enfield'"
      ]
     },
     "execution_count": 67,
     "metadata": {},
     "output_type": "execute_result"
    }
   ],
   "source": [
    "string = 'Royal Enfield'\n",
    "string"
   ]
  },
  {
   "cell_type": "code",
   "execution_count": 68,
   "id": "04feab7a",
   "metadata": {
    "ExecuteTime": {
     "end_time": "2022-07-20T23:17:25.377752Z",
     "start_time": "2022-07-20T23:17:25.369842Z"
    },
    "hidden": true
   },
   "outputs": [
    {
     "data": {
      "text/plain": [
       "['Royal', 'Enfield']"
      ]
     },
     "execution_count": 68,
     "metadata": {},
     "output_type": "execute_result"
    }
   ],
   "source": [
    "lista = string.split(' ')\n",
    "lista"
   ]
  },
  {
   "cell_type": "markdown",
   "id": "ef8396a5",
   "metadata": {
    "hidden": true
   },
   "source": [
    "```python\n",
    "[\n",
    "    ['Royal', 'Enfield'],\n",
    "    ['Hero', 'Honda'],\n",
    "    ['Hero'],\n",
    "    ['Hero', 'Eletric'],\n",
    "]\n",
    "```"
   ]
  },
  {
   "cell_type": "code",
   "execution_count": null,
   "id": "48b6f96a",
   "metadata": {
    "hidden": true
   },
   "outputs": [],
   "source": []
  },
  {
   "cell_type": "code",
   "execution_count": null,
   "id": "a90584c8",
   "metadata": {
    "hidden": true
   },
   "outputs": [],
   "source": []
  },
  {
   "cell_type": "code",
   "execution_count": 79,
   "id": "3d164b66",
   "metadata": {
    "ExecuteTime": {
     "end_time": "2022-07-20T23:21:41.218964Z",
     "start_time": "2022-07-20T23:21:41.026829Z"
    },
    "hidden": true
   },
   "outputs": [
    {
     "data": {
      "text/html": [
       "<div>\n",
       "<style scoped>\n",
       "    .dataframe tbody tr th:only-of-type {\n",
       "        vertical-align: middle;\n",
       "    }\n",
       "\n",
       "    .dataframe tbody tr th {\n",
       "        vertical-align: top;\n",
       "    }\n",
       "\n",
       "    .dataframe thead th {\n",
       "        text-align: right;\n",
       "    }\n",
       "</style>\n",
       "<table border=\"1\" class=\"dataframe\">\n",
       "  <thead>\n",
       "    <tr style=\"text-align: right;\">\n",
       "      <th></th>\n",
       "      <th>id</th>\n",
       "      <th>name</th>\n",
       "      <th>selling_price</th>\n",
       "      <th>year</th>\n",
       "      <th>seller_type</th>\n",
       "      <th>owner</th>\n",
       "      <th>km_driven</th>\n",
       "      <th>ex_showroom_price</th>\n",
       "      <th>km_class</th>\n",
       "      <th>age</th>\n",
       "      <th>company</th>\n",
       "    </tr>\n",
       "  </thead>\n",
       "  <tbody>\n",
       "    <tr>\n",
       "      <th>0</th>\n",
       "      <td>0</td>\n",
       "      <td>Royal Enfield Classic 350</td>\n",
       "      <td>175000.0</td>\n",
       "      <td>2019</td>\n",
       "      <td>Individual</td>\n",
       "      <td>1st owner</td>\n",
       "      <td>350</td>\n",
       "      <td>NaN</td>\n",
       "      <td>1</td>\n",
       "      <td>3</td>\n",
       "      <td>Royal Enfield</td>\n",
       "    </tr>\n",
       "    <tr>\n",
       "      <th>1</th>\n",
       "      <td>1</td>\n",
       "      <td>Honda Dio</td>\n",
       "      <td>45000.0</td>\n",
       "      <td>2017</td>\n",
       "      <td>Individual</td>\n",
       "      <td>1st owner</td>\n",
       "      <td>5650</td>\n",
       "      <td>NaN</td>\n",
       "      <td>2</td>\n",
       "      <td>5</td>\n",
       "      <td>Honda</td>\n",
       "    </tr>\n",
       "    <tr>\n",
       "      <th>2</th>\n",
       "      <td>2</td>\n",
       "      <td>Royal Enfield Classic Gunmetal Grey</td>\n",
       "      <td>150000.0</td>\n",
       "      <td>2018</td>\n",
       "      <td>Individual</td>\n",
       "      <td>1st owner</td>\n",
       "      <td>12000</td>\n",
       "      <td>148114.0</td>\n",
       "      <td>3</td>\n",
       "      <td>4</td>\n",
       "      <td>Royal Enfield</td>\n",
       "    </tr>\n",
       "    <tr>\n",
       "      <th>3</th>\n",
       "      <td>3</td>\n",
       "      <td>Yamaha Fazer FI V 2.0 [2016-2018]</td>\n",
       "      <td>65000.0</td>\n",
       "      <td>2015</td>\n",
       "      <td>Individual</td>\n",
       "      <td>1st owner</td>\n",
       "      <td>23000</td>\n",
       "      <td>89643.0</td>\n",
       "      <td>5</td>\n",
       "      <td>7</td>\n",
       "      <td>Yamaha</td>\n",
       "    </tr>\n",
       "    <tr>\n",
       "      <th>4</th>\n",
       "      <td>4</td>\n",
       "      <td>Yamaha SZ [2013-2014]</td>\n",
       "      <td>20000.0</td>\n",
       "      <td>2011</td>\n",
       "      <td>Individual</td>\n",
       "      <td>2nd owner</td>\n",
       "      <td>21000</td>\n",
       "      <td>NaN</td>\n",
       "      <td>5</td>\n",
       "      <td>11</td>\n",
       "      <td>Yamaha</td>\n",
       "    </tr>\n",
       "  </tbody>\n",
       "</table>\n",
       "</div>"
      ],
      "text/plain": [
       "   id                                 name  selling_price  year seller_type  \\\n",
       "0   0            Royal Enfield Classic 350       175000.0  2019  Individual   \n",
       "1   1                            Honda Dio        45000.0  2017  Individual   \n",
       "2   2  Royal Enfield Classic Gunmetal Grey       150000.0  2018  Individual   \n",
       "3   3    Yamaha Fazer FI V 2.0 [2016-2018]        65000.0  2015  Individual   \n",
       "4   4                Yamaha SZ [2013-2014]        20000.0  2011  Individual   \n",
       "\n",
       "       owner  km_driven  ex_showroom_price  km_class  age        company  \n",
       "0  1st owner        350                NaN         1    3  Royal Enfield  \n",
       "1  1st owner       5650                NaN         2    5          Honda  \n",
       "2  1st owner      12000           148114.0         3    4  Royal Enfield  \n",
       "3  1st owner      23000            89643.0         5    7         Yamaha  \n",
       "4  2nd owner      21000                NaN         5   11         Yamaha  "
      ]
     },
     "execution_count": 79,
     "metadata": {},
     "output_type": "execute_result"
    }
   ],
   "source": [
    "# Convertendo os nomes das fabricantes em uma tupla\n",
    "companies = tuple(companies['company_name'])\n",
    "\n",
    "# Criando a coluna `company` no DataFrame\n",
    "df['company'] = df.apply(lambda line: create_company_name(companies, line), axis=1)\n",
    "\n",
    "df.head()"
   ]
  },
  {
   "cell_type": "code",
   "execution_count": 76,
   "id": "60c01c99",
   "metadata": {
    "ExecuteTime": {
     "end_time": "2022-07-20T23:19:08.064124Z",
     "start_time": "2022-07-20T23:19:08.050574Z"
    },
    "hidden": true
   },
   "outputs": [
    {
     "data": {
      "text/html": [
       "<div>\n",
       "<style scoped>\n",
       "    .dataframe tbody tr th:only-of-type {\n",
       "        vertical-align: middle;\n",
       "    }\n",
       "\n",
       "    .dataframe tbody tr th {\n",
       "        vertical-align: top;\n",
       "    }\n",
       "\n",
       "    .dataframe thead th {\n",
       "        text-align: right;\n",
       "    }\n",
       "</style>\n",
       "<table border=\"1\" class=\"dataframe\">\n",
       "  <thead>\n",
       "    <tr style=\"text-align: right;\">\n",
       "      <th></th>\n",
       "      <th>id</th>\n",
       "      <th>name</th>\n",
       "      <th>selling_price</th>\n",
       "      <th>year</th>\n",
       "      <th>seller_type</th>\n",
       "      <th>owner</th>\n",
       "      <th>km_driven</th>\n",
       "      <th>ex_showroom_price</th>\n",
       "      <th>km_class</th>\n",
       "      <th>age</th>\n",
       "      <th>company</th>\n",
       "    </tr>\n",
       "  </thead>\n",
       "  <tbody>\n",
       "  </tbody>\n",
       "</table>\n",
       "</div>"
      ],
      "text/plain": [
       "Empty DataFrame\n",
       "Columns: [id, name, selling_price, year, seller_type, owner, km_driven, ex_showroom_price, km_class, age, company]\n",
       "Index: []"
      ]
     },
     "execution_count": 76,
     "metadata": {},
     "output_type": "execute_result"
    }
   ],
   "source": [
    "df[df['company'] == 'Hero'].head()"
   ]
  },
  {
   "cell_type": "code",
   "execution_count": 77,
   "id": "dbe53916",
   "metadata": {
    "ExecuteTime": {
     "end_time": "2022-07-20T23:19:08.761619Z",
     "start_time": "2022-07-20T23:19:08.753035Z"
    },
    "hidden": true
   },
   "outputs": [
    {
     "data": {
      "text/html": [
       "<div>\n",
       "<style scoped>\n",
       "    .dataframe tbody tr th:only-of-type {\n",
       "        vertical-align: middle;\n",
       "    }\n",
       "\n",
       "    .dataframe tbody tr th {\n",
       "        vertical-align: top;\n",
       "    }\n",
       "\n",
       "    .dataframe thead th {\n",
       "        text-align: right;\n",
       "    }\n",
       "</style>\n",
       "<table border=\"1\" class=\"dataframe\">\n",
       "  <thead>\n",
       "    <tr style=\"text-align: right;\">\n",
       "      <th></th>\n",
       "      <th>id</th>\n",
       "      <th>name</th>\n",
       "      <th>selling_price</th>\n",
       "      <th>year</th>\n",
       "      <th>seller_type</th>\n",
       "      <th>owner</th>\n",
       "      <th>km_driven</th>\n",
       "      <th>ex_showroom_price</th>\n",
       "      <th>km_class</th>\n",
       "      <th>age</th>\n",
       "      <th>company</th>\n",
       "    </tr>\n",
       "  </thead>\n",
       "  <tbody>\n",
       "  </tbody>\n",
       "</table>\n",
       "</div>"
      ],
      "text/plain": [
       "Empty DataFrame\n",
       "Columns: [id, name, selling_price, year, seller_type, owner, km_driven, ex_showroom_price, km_class, age, company]\n",
       "Index: []"
      ]
     },
     "execution_count": 77,
     "metadata": {},
     "output_type": "execute_result"
    }
   ],
   "source": [
    "df[df['company'] == 'Hero Honda'].head()"
   ]
  },
  {
   "cell_type": "markdown",
   "id": "f44b9ca8",
   "metadata": {},
   "source": [
    "#### 6. Crie um novo dataset chamado `bikes_completed.csv` a partir do DataFrame com a coluna company preenchida."
   ]
  },
  {
   "cell_type": "markdown",
   "id": "deff12d2",
   "metadata": {
    "heading_collapsed": true
   },
   "source": [
    "##### Planejamento"
   ]
  },
  {
   "cell_type": "markdown",
   "id": "c444afbe",
   "metadata": {
    "hidden": true
   },
   "source": [
    "Basta criar um novo Dataset chamado `bikes_completed` utilizando a função `df.to_csv()` a partir do DataFrame criado na questão anterior"
   ]
  },
  {
   "cell_type": "markdown",
   "id": "50da9470",
   "metadata": {
    "heading_collapsed": true
   },
   "source": [
    "##### Resolução"
   ]
  },
  {
   "cell_type": "code",
   "execution_count": null,
   "id": "6c1aceda",
   "metadata": {
    "hidden": true
   },
   "outputs": [],
   "source": []
  },
  {
   "cell_type": "markdown",
   "id": "b523f88f",
   "metadata": {
    "heading_collapsed": true
   },
   "source": [
    "##### Resposta"
   ]
  },
  {
   "cell_type": "code",
   "execution_count": 19,
   "id": "35bf13cf",
   "metadata": {
    "ExecuteTime": {
     "end_time": "2022-07-20T21:47:19.031364Z",
     "start_time": "2022-07-20T21:47:19.020743Z"
    },
    "hidden": true
   },
   "outputs": [],
   "source": [
    "df.to_csv('csv/exported/bikes_completed.csv', index=False)"
   ]
  },
  {
   "cell_type": "markdown",
   "id": "7c29cbd6",
   "metadata": {},
   "source": [
    "#### 7. Quais são so fabricantes que mais possuem motos cadastradas na base de dados completa?"
   ]
  },
  {
   "cell_type": "markdown",
   "id": "818a2da7",
   "metadata": {
    "heading_collapsed": true
   },
   "source": [
    "##### Planejamento"
   ]
  },
  {
   "cell_type": "markdown",
   "id": "97ee8d46",
   "metadata": {
    "hidden": true
   },
   "source": [
    "Vamos agrupar os dados pela categoria de fabricante, coluna `company`, e fazer a contagem da quantidade de dados que cada categoria contém."
   ]
  },
  {
   "cell_type": "markdown",
   "id": "81f3d466",
   "metadata": {
    "heading_collapsed": true
   },
   "source": [
    "##### Resolução"
   ]
  },
  {
   "cell_type": "code",
   "execution_count": null,
   "id": "c891bc81",
   "metadata": {
    "hidden": true
   },
   "outputs": [],
   "source": []
  },
  {
   "cell_type": "markdown",
   "id": "0ada4a4f",
   "metadata": {
    "heading_collapsed": true
   },
   "source": [
    "##### Resposta"
   ]
  },
  {
   "cell_type": "code",
   "execution_count": 20,
   "id": "9391ae5c",
   "metadata": {
    "ExecuteTime": {
     "end_time": "2022-07-20T21:47:24.999368Z",
     "start_time": "2022-07-20T21:47:24.988355Z"
    },
    "hidden": true
   },
   "outputs": [
    {
     "data": {
      "text/html": [
       "<div>\n",
       "<style scoped>\n",
       "    .dataframe tbody tr th:only-of-type {\n",
       "        vertical-align: middle;\n",
       "    }\n",
       "\n",
       "    .dataframe tbody tr th {\n",
       "        vertical-align: top;\n",
       "    }\n",
       "\n",
       "    .dataframe thead th {\n",
       "        text-align: right;\n",
       "    }\n",
       "</style>\n",
       "<table border=\"1\" class=\"dataframe\">\n",
       "  <thead>\n",
       "    <tr style=\"text-align: right;\">\n",
       "      <th></th>\n",
       "      <th>company</th>\n",
       "      <th>id</th>\n",
       "    </tr>\n",
       "  </thead>\n",
       "  <tbody>\n",
       "    <tr>\n",
       "      <th>0</th>\n",
       "      <td>Bajaj</td>\n",
       "      <td>260</td>\n",
       "    </tr>\n",
       "    <tr>\n",
       "      <th>1</th>\n",
       "      <td>Hero</td>\n",
       "      <td>232</td>\n",
       "    </tr>\n",
       "    <tr>\n",
       "      <th>2</th>\n",
       "      <td>Honda</td>\n",
       "      <td>204</td>\n",
       "    </tr>\n",
       "    <tr>\n",
       "      <th>3</th>\n",
       "      <td>Royal Enfield</td>\n",
       "      <td>109</td>\n",
       "    </tr>\n",
       "    <tr>\n",
       "      <th>4</th>\n",
       "      <td>Yamaha</td>\n",
       "      <td>102</td>\n",
       "    </tr>\n",
       "  </tbody>\n",
       "</table>\n",
       "</div>"
      ],
      "text/plain": [
       "         company   id\n",
       "0          Bajaj  260\n",
       "1           Hero  232\n",
       "2          Honda  204\n",
       "3  Royal Enfield  109\n",
       "4         Yamaha  102"
      ]
     },
     "execution_count": 20,
     "metadata": {},
     "output_type": "execute_result"
    }
   ],
   "source": [
    "df_grouped = df[['company', 'id']].groupby('company')\n",
    "\n",
    "df_grouped = df_grouped.count().sort_values('id', ascending=False).reset_index()\n",
    "\n",
    "df_grouped.head()"
   ]
  },
  {
   "cell_type": "markdown",
   "id": "fcca8ba7",
   "metadata": {
    "hidden": true
   },
   "source": [
    "Como podemos observar, a fabricante que mais possui motos cadastradas na base de dados é a Bajaj"
   ]
  },
  {
   "cell_type": "markdown",
   "id": "026c897e",
   "metadata": {},
   "source": [
    "## Anotações de Aula"
   ]
  },
  {
   "cell_type": "code",
   "execution_count": null,
   "id": "4ba14980",
   "metadata": {},
   "outputs": [],
   "source": []
  }
 ],
 "metadata": {
  "hide_input": false,
  "kernelspec": {
   "display_name": "Python 3 (ipykernel)",
   "language": "python",
   "name": "python3"
  },
  "language_info": {
   "codemirror_mode": {
    "name": "ipython",
    "version": 3
   },
   "file_extension": ".py",
   "mimetype": "text/x-python",
   "name": "python",
   "nbconvert_exporter": "python",
   "pygments_lexer": "ipython3",
   "version": "3.10.1"
  },
  "latex_envs": {
   "LaTeX_envs_menu_present": true,
   "autoclose": false,
   "autocomplete": true,
   "bibliofile": "biblio.bib",
   "cite_by": "apalike",
   "current_citInitial": 1,
   "eqLabelWithNumbers": true,
   "eqNumInitial": 1,
   "hotkeys": {
    "equation": "Ctrl-E",
    "itemize": "Ctrl-I"
   },
   "labels_anchors": false,
   "latex_user_defs": false,
   "report_style_numbering": false,
   "user_envs_cfg": false
  },
  "vscode": {
   "interpreter": {
    "hash": "7799ca550aac742e5509d19eb6fb42e1efa4ba4facee5dac74d4536d2e1ab29e"
   }
  }
 },
 "nbformat": 4,
 "nbformat_minor": 5
}
