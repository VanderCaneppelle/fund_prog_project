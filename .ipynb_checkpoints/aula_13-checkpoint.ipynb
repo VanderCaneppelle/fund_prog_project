{
 "cells": [
  {
   "cell_type": "markdown",
   "id": "f66f5ab2",
   "metadata": {
    "heading_collapsed": true
   },
   "source": [
    "# COMANDOS AUXILIARES"
   ]
  },
  {
   "cell_type": "markdown",
   "id": "4596b7c0",
   "metadata": {
    "heading_collapsed": true,
    "hidden": true
   },
   "source": [
    "## Imports"
   ]
  },
  {
   "cell_type": "code",
   "execution_count": 1,
   "id": "d10145d2",
   "metadata": {
    "ExecuteTime": {
     "end_time": "2022-07-20T21:23:07.201994Z",
     "start_time": "2022-07-20T21:23:05.001376Z"
    },
    "hidden": true
   },
   "outputs": [],
   "source": [
    "import pandas  as pd\n",
    "import seaborn as sns\n",
    "from matplotlib import pyplot as plt"
   ]
  },
  {
   "cell_type": "code",
   "execution_count": 2,
   "id": "0cb400fd",
   "metadata": {
    "ExecuteTime": {
     "end_time": "2022-07-20T21:23:07.225533Z",
     "start_time": "2022-07-20T21:23:07.204108Z"
    },
    "hidden": true
   },
   "outputs": [
    {
     "data": {
      "text/plain": [
       "<Figure size 1080x576 with 0 Axes>"
      ]
     },
     "metadata": {},
     "output_type": "display_data"
    }
   ],
   "source": [
    "plt.figure(figsize=(15, 8));"
   ]
  },
  {
   "cell_type": "markdown",
   "id": "a7175ea5",
   "metadata": {},
   "source": [
    "# TERCEIRA RODADA DE PERGUNTAS"
   ]
  },
  {
   "cell_type": "markdown",
   "id": "dadc7973",
   "metadata": {
    "heading_collapsed": true
   },
   "source": [
    "## Revisão das Rodadas Anteriores"
   ]
  },
  {
   "cell_type": "markdown",
   "id": "974c21fa",
   "metadata": {
    "hidden": true
   },
   "source": [
    "O CEO da A Xtreme Groovy Bikes Sales, que é uma empresa de revenda de motocicletas e tem o seu modelo de nogócio como revenda motocicletas usadas, contratou você como um consultor de ciência de dados para ajud-á-los a encontrar as melhores motos da base de dados que eles adquiriram através de um estudo de mercado. \n",
    "\n",
    "Na rodada passada foi realizado o estudo da base de dados e respondido algumas perguntas que o CEO fez utilizando a base de dados.\n",
    "\n",
    "Agora, o CEO fez novas perguntas que devemos responder utilizando essa nova base de dados."
   ]
  },
  {
   "cell_type": "markdown",
   "id": "03539e7c",
   "metadata": {
    "heading_collapsed": true,
    "hidden": true
   },
   "source": [
    "### Leitura do DataFrame da Aula anterior"
   ]
  },
  {
   "cell_type": "code",
   "execution_count": 9,
   "id": "e0f2653b",
   "metadata": {
    "hidden": true
   },
   "outputs": [
    {
     "data": {
      "text/html": [
       "<div>\n",
       "<style scoped>\n",
       "    .dataframe tbody tr th:only-of-type {\n",
       "        vertical-align: middle;\n",
       "    }\n",
       "\n",
       "    .dataframe tbody tr th {\n",
       "        vertical-align: top;\n",
       "    }\n",
       "\n",
       "    .dataframe thead th {\n",
       "        text-align: right;\n",
       "    }\n",
       "</style>\n",
       "<table border=\"1\" class=\"dataframe\">\n",
       "  <thead>\n",
       "    <tr style=\"text-align: right;\">\n",
       "      <th></th>\n",
       "      <th>id</th>\n",
       "      <th>name</th>\n",
       "      <th>selling_price</th>\n",
       "      <th>year</th>\n",
       "      <th>seller_type</th>\n",
       "      <th>owner</th>\n",
       "      <th>km_driven</th>\n",
       "      <th>ex_showroom_price</th>\n",
       "      <th>km_class</th>\n",
       "      <th>age</th>\n",
       "      <th>company</th>\n",
       "    </tr>\n",
       "  </thead>\n",
       "  <tbody>\n",
       "    <tr>\n",
       "      <th>0</th>\n",
       "      <td>0</td>\n",
       "      <td>Royal Enfield Classic 350</td>\n",
       "      <td>175000.0</td>\n",
       "      <td>2019</td>\n",
       "      <td>Individual</td>\n",
       "      <td>1st owner</td>\n",
       "      <td>350</td>\n",
       "      <td>NaN</td>\n",
       "      <td>1</td>\n",
       "      <td>3</td>\n",
       "      <td>Royal Enfield</td>\n",
       "    </tr>\n",
       "    <tr>\n",
       "      <th>1</th>\n",
       "      <td>1</td>\n",
       "      <td>Honda Dio</td>\n",
       "      <td>45000.0</td>\n",
       "      <td>2017</td>\n",
       "      <td>Individual</td>\n",
       "      <td>1st owner</td>\n",
       "      <td>5650</td>\n",
       "      <td>NaN</td>\n",
       "      <td>2</td>\n",
       "      <td>5</td>\n",
       "      <td>Honda</td>\n",
       "    </tr>\n",
       "    <tr>\n",
       "      <th>2</th>\n",
       "      <td>2</td>\n",
       "      <td>Royal Enfield Classic Gunmetal Grey</td>\n",
       "      <td>150000.0</td>\n",
       "      <td>2018</td>\n",
       "      <td>Individual</td>\n",
       "      <td>1st owner</td>\n",
       "      <td>12000</td>\n",
       "      <td>148114.0</td>\n",
       "      <td>3</td>\n",
       "      <td>4</td>\n",
       "      <td>Royal Enfield</td>\n",
       "    </tr>\n",
       "    <tr>\n",
       "      <th>3</th>\n",
       "      <td>3</td>\n",
       "      <td>Yamaha Fazer FI V 2.0 [2016-2018]</td>\n",
       "      <td>65000.0</td>\n",
       "      <td>2015</td>\n",
       "      <td>Individual</td>\n",
       "      <td>1st owner</td>\n",
       "      <td>23000</td>\n",
       "      <td>89643.0</td>\n",
       "      <td>5</td>\n",
       "      <td>7</td>\n",
       "      <td>Yamaha</td>\n",
       "    </tr>\n",
       "    <tr>\n",
       "      <th>4</th>\n",
       "      <td>4</td>\n",
       "      <td>Yamaha SZ [2013-2014]</td>\n",
       "      <td>20000.0</td>\n",
       "      <td>2011</td>\n",
       "      <td>Individual</td>\n",
       "      <td>2nd owner</td>\n",
       "      <td>21000</td>\n",
       "      <td>NaN</td>\n",
       "      <td>5</td>\n",
       "      <td>11</td>\n",
       "      <td>Yamaha</td>\n",
       "    </tr>\n",
       "  </tbody>\n",
       "</table>\n",
       "</div>"
      ],
      "text/plain": [
       "   id                                 name  selling_price  year seller_type  \\\n",
       "0   0            Royal Enfield Classic 350       175000.0  2019  Individual   \n",
       "1   1                            Honda Dio        45000.0  2017  Individual   \n",
       "2   2  Royal Enfield Classic Gunmetal Grey       150000.0  2018  Individual   \n",
       "3   3    Yamaha Fazer FI V 2.0 [2016-2018]        65000.0  2015  Individual   \n",
       "4   4                Yamaha SZ [2013-2014]        20000.0  2011  Individual   \n",
       "\n",
       "       owner  km_driven  ex_showroom_price  km_class  age        company  \n",
       "0  1st owner        350                NaN         1    3  Royal Enfield  \n",
       "1  1st owner       5650                NaN         2    5          Honda  \n",
       "2  1st owner      12000           148114.0         3    4  Royal Enfield  \n",
       "3  1st owner      23000            89643.0         5    7         Yamaha  \n",
       "4  2nd owner      21000                NaN         5   11         Yamaha  "
      ]
     },
     "execution_count": 9,
     "metadata": {},
     "output_type": "execute_result"
    }
   ],
   "source": [
    "df = pd.read_csv('csv/bikes_completed.csv')\n",
    "df.head()"
   ]
  },
  {
   "cell_type": "markdown",
   "id": "4393fa73",
   "metadata": {
    "heading_collapsed": true,
    "hidden": true
   },
   "source": [
    "### Descrição das Colunas"
   ]
  },
  {
   "cell_type": "markdown",
   "id": "33f0b47a",
   "metadata": {
    "hidden": true
   },
   "source": [
    "| Coluna | Descrição |\n",
    "| :----- | --------: |\n",
    "| ID | Identificador da linha/registro |\n",
    "| name | Fabricante e Modelo da Moto |\n",
    "| selling_price | Preço de Venda |\n",
    "| year | Ano de Fabricação da Moto |\n",
    "| seller_type | Tipo de Vendedor - Se é vendedor pessoal ou revendedor |\n",
    "| owner | Se é primeiro, segundo, terceiro ou quarto dono da moto |\n",
    "| km_driven | Quantidade de Quilometros percorrido pela moto |\n",
    "| ex_showroom_price | Preço da motocicleta sem as taxas de seguro e registro |\n",
    "| km_class | Classificação das motos conforme a quilometragem percorrida |\n",
    "| company | Fabricanete da Motocicleta |"
   ]
  },
  {
   "cell_type": "markdown",
   "id": "7c57cf3c",
   "metadata": {},
   "source": [
    "## Novas Perguntas"
   ]
  },
  {
   "cell_type": "markdown",
   "id": "f4793d29",
   "metadata": {},
   "source": [
    "Após analisar as respostas das perguntas anteriores, o CEO da XGB Sales lhe fez mais algumas perguntas:\n",
    "\n",
    "1. Ajustar a coluna `name` para que ela fique somente com o nome da moto.\n",
    "2. Qual das fabricantes possui o maior preço médio de suas motos?\n",
    "3. Qual o fabricante que possui a moto com o maior quilometragem?\n",
    "4. Qual o fabricante que possui a moto mais velha?\n",
    "5. O fabricante que possui a moto mais cara do Dataset é também o fabricante que possui menos motos cadastradas?\n",
    "6. Qual o fabricante que possui a menor variação de valor de venda?\n",
    "7. Quais motos eu devo comprar? \n",
    "   - Leve em conta que eu desejo motos com no máximo 3 anos de uso; no máximo 40 mil quilometros rodados; que sejam de um único dono; que estejam sendo vendidas por possoas físicas e que tenham o valor pretendido de venda menor que o valor do showroom. Envie um relatório contendo o modelo, preço de venda, quilometro rodado e ano, ordenado por valor de venda de forma decrescente para o meu e-mail.\n"
   ]
  },
  {
   "cell_type": "markdown",
   "id": "9bab0de8",
   "metadata": {
    "heading_collapsed": true
   },
   "source": [
    "### Respondendo as Perguntas"
   ]
  },
  {
   "cell_type": "markdown",
   "id": "b3cb9c69",
   "metadata": {
    "hidden": true
   },
   "source": [
    "#### 1. Ajustar a coluna `name` para que ela fique somente com o nome da moto."
   ]
  },
  {
   "cell_type": "markdown",
   "id": "0a414510",
   "metadata": {
    "hidden": true
   },
   "source": [
    "##### Resolução"
   ]
  },
  {
   "cell_type": "markdown",
   "id": "6aa6a5e9",
   "metadata": {
    "hidden": true
   },
   "source": [
    "#### 2. Qual das fabricantes possui o maior preço médio de suas motos?"
   ]
  },
  {
   "cell_type": "markdown",
   "id": "e56aeb18",
   "metadata": {
    "hidden": true
   },
   "source": [
    "##### Resolução"
   ]
  },
  {
   "cell_type": "code",
   "execution_count": null,
   "id": "ddd7be97",
   "metadata": {
    "hidden": true
   },
   "outputs": [],
   "source": []
  },
  {
   "cell_type": "markdown",
   "id": "eb3a9242",
   "metadata": {
    "hidden": true
   },
   "source": [
    "#### 3. Qual o fabricante que possui a moto com o maior quilometragem?"
   ]
  },
  {
   "cell_type": "markdown",
   "id": "7443ab72",
   "metadata": {
    "hidden": true
   },
   "source": [
    "##### Resolução"
   ]
  },
  {
   "cell_type": "code",
   "execution_count": null,
   "id": "cd8a68a2",
   "metadata": {
    "hidden": true
   },
   "outputs": [],
   "source": []
  },
  {
   "cell_type": "markdown",
   "id": "3ddd42ae",
   "metadata": {
    "hidden": true
   },
   "source": [
    "#### 4. Qual o fabricante que possui a moto mais velha?"
   ]
  },
  {
   "cell_type": "markdown",
   "id": "37633365",
   "metadata": {
    "hidden": true
   },
   "source": [
    "##### Resolução"
   ]
  },
  {
   "cell_type": "code",
   "execution_count": null,
   "id": "c3112441",
   "metadata": {
    "hidden": true
   },
   "outputs": [],
   "source": []
  },
  {
   "cell_type": "markdown",
   "id": "b1dd646b",
   "metadata": {
    "hidden": true
   },
   "source": [
    "#### 5. O fabricante que possui a moto mais cara do Dataset é também o fabricante que possui menos motos cadastradas?"
   ]
  },
  {
   "cell_type": "markdown",
   "id": "48b51617",
   "metadata": {
    "hidden": true
   },
   "source": [
    "##### Resolução"
   ]
  },
  {
   "cell_type": "code",
   "execution_count": null,
   "id": "992446a3",
   "metadata": {
    "hidden": true
   },
   "outputs": [],
   "source": []
  },
  {
   "cell_type": "markdown",
   "id": "f44b9ca8",
   "metadata": {
    "hidden": true
   },
   "source": [
    "#### 6. Qual o fabricante que possui a menor variação de valor de venda?"
   ]
  },
  {
   "cell_type": "markdown",
   "id": "d1d6ea35",
   "metadata": {
    "hidden": true
   },
   "source": [
    "##### Resolução"
   ]
  },
  {
   "cell_type": "code",
   "execution_count": null,
   "id": "de7f1a56",
   "metadata": {
    "hidden": true
   },
   "outputs": [],
   "source": []
  },
  {
   "cell_type": "markdown",
   "id": "7c29cbd6",
   "metadata": {
    "hidden": true
   },
   "source": [
    "#### 7. Quais são so fabricantes que mais possuem motos cadastradas na base de dados completa?"
   ]
  },
  {
   "cell_type": "markdown",
   "id": "2a596286",
   "metadata": {
    "hidden": true
   },
   "source": [
    "##### Resolução"
   ]
  },
  {
   "cell_type": "code",
   "execution_count": null,
   "id": "15f08e95",
   "metadata": {
    "hidden": true
   },
   "outputs": [],
   "source": []
  }
 ],
 "metadata": {
  "hide_input": false,
  "kernelspec": {
   "display_name": "Python 3 (ipykernel)",
   "language": "python",
   "name": "python3"
  },
  "language_info": {
   "codemirror_mode": {
    "name": "ipython",
    "version": 3
   },
   "file_extension": ".py",
   "mimetype": "text/x-python",
   "name": "python",
   "nbconvert_exporter": "python",
   "pygments_lexer": "ipython3",
   "version": "3.10.1"
  },
  "latex_envs": {
   "LaTeX_envs_menu_present": true,
   "autoclose": false,
   "autocomplete": true,
   "bibliofile": "biblio.bib",
   "cite_by": "apalike",
   "current_citInitial": 1,
   "eqLabelWithNumbers": true,
   "eqNumInitial": 1,
   "hotkeys": {
    "equation": "Ctrl-E",
    "itemize": "Ctrl-I"
   },
   "labels_anchors": false,
   "latex_user_defs": false,
   "report_style_numbering": false,
   "user_envs_cfg": false
  },
  "vscode": {
   "interpreter": {
    "hash": "7799ca550aac742e5509d19eb6fb42e1efa4ba4facee5dac74d4536d2e1ab29e"
   }
  }
 },
 "nbformat": 4,
 "nbformat_minor": 5
}
