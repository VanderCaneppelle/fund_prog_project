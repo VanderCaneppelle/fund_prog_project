{
 "cells": [
  {
   "cell_type": "markdown",
   "id": "a7175ea5",
   "metadata": {
    "heading_collapsed": true
   },
   "source": [
    "# KICK OFF DO PROJETO!"
   ]
  },
  {
   "cell_type": "markdown",
   "id": "dadc7973",
   "metadata": {
    "heading_collapsed": true,
    "hidden": true
   },
   "source": [
    "## Contexto do Problema de Negócio"
   ]
  },
  {
   "cell_type": "markdown",
   "id": "974c21fa",
   "metadata": {
    "hidden": true
   },
   "source": [
    "A Xtreme Groovy Bikes Sales é uma empresa de revenda de motocicletas. Seu modelo de nogócio é revender motocicletas usadas. Com a crescente do valor dos veículos usados, a XGB Sales, como é conhecida, deseja expandir os seus negócios. Você foi contratado como cientista de dados pela empresa XGB Sales para ajudá-los a encotrar as melhores motocicletas para revenda. \n",
    "\n",
    "Para isso, o CEO da empresa fez um estudo de mercado lhe entregou uma base de dados, obtida através desse estudo, para que você consiga auxiliá-lo a encontrar as melhores motocicletas para revenda, aumentando assim o lucro da empresa.\n",
    "\n",
    "Além disso, o CEO lhe fez algumas perguntas a cerca da base de dados que a empresa possui.\n",
    "Lembrando que o contexto, pessoas e perguntas são completamente fictícios e existem somente na minha imaginação."
   ]
  },
  {
   "cell_type": "markdown",
   "id": "03539e7c",
   "metadata": {
    "heading_collapsed": true,
    "hidden": true
   },
   "source": [
    "## O Desafio"
   ]
  },
  {
   "cell_type": "markdown",
   "id": "2114574c",
   "metadata": {
    "hidden": true
   },
   "source": [
    "A empresa XGB Sales lhe contratou como cientista de dados pois ela deseja aumentar o seu lucro comprando e revendendo as melhores motos disponíveis dentro da base de dados que a empresa adquiriu através de um estudo de mercado. \n",
    "\n",
    "Dessa forma, o CEO da XGB Sales lhe fez as seguintes perguntas:\n",
    "\n",
    "1. Quantas motos temos dentro do Dataset?\n",
    "2. Qual é o ano da moto mais antiga da base de dados?\n",
    "3. Qual é o ano da moto mais nova da base de dados?\n",
    "4. Qual é o valor da moto mais cara da base de dados?\n",
    "5. Qual é o valor do hodômotro da moto com a maior quilometragem?\n",
    "6. Qual é o valor do hodômotro da moto com a menor quiilometragem?\n",
    "7. Das motocicletas que estão sendo expostas dentro de um Show Room, qual é o maior valor registrado na base de dados?\n",
    "8. Das motocicletas que estão sendo expostas dentro de um Show Room, qual é o menor valor registrado na base de dados?\n",
    "9. Quantas motocicletas estão sendo vendidades pelos seus donos e quantas estão sendo vendidas por outros revendedores?\n",
    "10. Qual é a média de valores das motos na base de dados?\n",
    "11. Qual é a média de ano das motos cadastradas dentro da base de dados?\n",
    "12. Qual é a média de quilometragem das motos cadastradas dentro da base de dados?\n",
    "13. Existem quantas motos dentro da base de dados que são motos de um único dono?\n",
    "14. As motos com menor quilometragem são as motos mais baratas do Dataset?"
   ]
  },
  {
   "cell_type": "markdown",
   "id": "bf69ae6d",
   "metadata": {
    "heading_collapsed": true,
    "hidden": true
   },
   "source": [
    "##  A Base de Dados"
   ]
  },
  {
   "cell_type": "markdown",
   "id": "5e9f4dbc",
   "metadata": {
    "hidden": true
   },
   "source": [
    "O conjunto de dados que representam o contexto está disponível na plataforma do Kaggle. O link para acesso aos dados:\n",
    "\n",
    "[Motorcycle Dataset](https://www.kaggle.com/datasets/nehalbirla/motorcycle-dataset)"
   ]
  },
  {
   "cell_type": "markdown",
   "id": "deb32456",
   "metadata": {
    "heading_collapsed": true,
    "hidden": true
   },
   "source": [
    "## Como Solucionar Esse Desafio"
   ]
  },
  {
   "cell_type": "markdown",
   "id": "3cfbb8e3",
   "metadata": {
    "hidden": true
   },
   "source": [
    "Aqui vão algumas dicas para você começar a resolver esse problema:\n",
    "\n",
    "* **Tenha calma e não tenha medo:** Crie suposições e faça testes, dando um passo de cada vez para, a cada novo passo, estar mais próximo da resposta.\n",
    "\n",
    "* **Responda as perguntas antes de Codificar:** Como você faria, se não tivesse que programar, para responder as perguntas feitas? Pensando antes em como responder, facilitará no momento de codificar o algoritmo para achar a resposta, porque isso faz parte do planejamento da solução!\n",
    "\n",
    "* **Tenha Paciência e Resiliência:** Criar soluções e, principalmente, pensar e planejá-las leva tempo. Assuma uma postura resiliente e não desista! Afinal, você quer se tornar um Cientista de Dados, ganhar ótimos salários e trabalhar em ótimas empresas, certo?\n",
    "\n",
    "* **A Comunidade:** Caso você tenha tentado várias estratégias e não tenha chegado a uma solução ou não tenha avançado, peça ajuda dentro da Comunidade de DS! Estamos todos para nos ajudar nessa jornada que é a Ciência de Dados.\n",
    "\n",
    "* **Crie Visualizações:** Caso a tabela gerada com as informações não seja de fácil entendimento, gere um gráfico/visualização para facilitar a compreensão do CEO.\n",
    "\n",
    "* **Estudem os dados antes de Qualquer coisa:** Façam a leitura do arquivo e estudem o que cada coluna representa. Criem a dicionário explicado cada uma das colunas."
   ]
  },
  {
   "cell_type": "markdown",
   "id": "4596b7c0",
   "metadata": {},
   "source": [
    "# 0.0 IMPORTS E FUNÇÕES AUXILIARES "
   ]
  },
  {
   "cell_type": "markdown",
   "id": "807d59b7",
   "metadata": {},
   "source": [
    "## 0.1 Imports "
   ]
  },
  {
   "cell_type": "code",
   "execution_count": 1,
   "id": "d10145d2",
   "metadata": {
    "ExecuteTime": {
     "end_time": "2022-07-23T13:10:25.954637Z",
     "start_time": "2022-07-23T13:10:24.050871Z"
    }
   },
   "outputs": [],
   "source": [
    "import math\n",
    "import re\n",
    "\n",
    "import pandas  as pd\n",
    "import numpy   as np\n",
    "import seaborn as sns\n",
    "import datetime\n",
    "\n",
    "from IPython.display import Image\n",
    "from IPython.core.display import HTML\n"
   ]
  },
  {
   "cell_type": "markdown",
   "id": "87034928",
   "metadata": {},
   "source": [
    "##  0.2 Funções auxiliares"
   ]
  },
  {
   "cell_type": "code",
   "execution_count": 4,
   "id": "8ca98800",
   "metadata": {
    "ExecuteTime": {
     "end_time": "2022-07-23T13:10:52.052422Z",
     "start_time": "2022-07-23T13:10:52.030045Z"
    }
   },
   "outputs": [],
   "source": [
    "def jupyter_settings():\n",
    "    %matplotlib inline\n",
    "    %pylab inline\n",
    "    plt.style.use( 'bmh' )\n",
    "    plt.rcParams['figure.figsize'] = [20, 10]\n",
    "    plt.rcParams['font.size'] = 24\n",
    "    display( HTML( '<style>.container { width:100% !important; }</style>') )\n",
    "    pd.options.display.max_columns = None\n",
    "    pd.options.display.max_rows = None\n",
    "    pd.set_option( 'display.expand_frame_repr', False )\n",
    "    sns.set()\n",
    "    "
   ]
  },
  {
   "cell_type": "code",
   "execution_count": 5,
   "id": "982a8b4d",
   "metadata": {
    "ExecuteTime": {
     "end_time": "2022-07-23T13:10:52.159576Z",
     "start_time": "2022-07-23T13:10:52.143545Z"
    }
   },
   "outputs": [
    {
     "name": "stdout",
     "output_type": "stream",
     "text": [
      "%pylab is deprecated, use %matplotlib inline and import the required libraries.\n",
      "Populating the interactive namespace from numpy and matplotlib\n"
     ]
    },
    {
     "data": {
      "text/html": [
       "<style>.container { width:100% !important; }</style>"
      ],
      "text/plain": [
       "<IPython.core.display.HTML object>"
      ]
     },
     "metadata": {},
     "output_type": "display_data"
    }
   ],
   "source": [
    "jupyter_settings()"
   ]
  },
  {
   "cell_type": "markdown",
   "id": "e91ac731",
   "metadata": {},
   "source": [
    "## 0.3 Loading Data"
   ]
  },
  {
   "cell_type": "code",
   "execution_count": 6,
   "id": "604ca4e3",
   "metadata": {
    "ExecuteTime": {
     "end_time": "2022-07-23T13:10:53.008804Z",
     "start_time": "2022-07-23T13:10:52.995728Z"
    }
   },
   "outputs": [],
   "source": [
    "data_raw = pd.read_csv('../fund_prog_project/data/csv/bike.csv',low_memory=False)"
   ]
  },
  {
   "cell_type": "markdown",
   "id": "05993d03",
   "metadata": {
    "hide_input": true
   },
   "source": [
    "# 1.0 Descrição das colunas"
   ]
  },
  {
   "cell_type": "code",
   "execution_count": 7,
   "id": "50914219",
   "metadata": {
    "ExecuteTime": {
     "end_time": "2022-07-23T13:10:54.654771Z",
     "start_time": "2022-07-23T13:10:54.642412Z"
    }
   },
   "outputs": [],
   "source": [
    "df1 = data_raw.copy()\n",
    "\n",
    "# Inserindo coluna ID \n",
    "df1['id'] =df1.index\n",
    "\n",
    "# movendo columa ID para primeira posição\n",
    "first_column = df1.pop(\"id\")\n",
    "df1.insert(0, 'id',first_column)"
   ]
  },
  {
   "cell_type": "markdown",
   "id": "361f9a9b",
   "metadata": {},
   "source": [
    "**name**: Modelo/marca da motocicleta\n",
    "\n",
    "**selling_price**: Preço de venda da motocicleta\n",
    "\n",
    "**year**: Ano de compra da motocicleta\n",
    "\n",
    "**seller_type**: refere-se ao tipo de vendedor, individual ou dealer(revendedor)\n",
    "\n",
    "**owner**: Indica se o atual proprietário da nmotocicleta é o primeiro dono ou não.\n",
    "         ('1st owner', '2nd owner', '3rd owner', '4th owner')\n",
    "\n",
    "**km_driven**: Km rodados pelo veículo atéo momento.\n",
    "\n",
    "**ex_showroom_price**: Valor de venda do veículo em showroom (motocicletas com NaN nessa coluna não estão em showroom)\n",
    "\n",
    "\n",
    "\n"
   ]
  },
  {
   "cell_type": "markdown",
   "id": "f332a96c",
   "metadata": {},
   "source": [
    "## 1.1 Data Dimensions"
   ]
  },
  {
   "cell_type": "code",
   "execution_count": 8,
   "id": "8c17786c",
   "metadata": {
    "ExecuteTime": {
     "end_time": "2022-07-23T13:10:55.990758Z",
     "start_time": "2022-07-23T13:10:55.984647Z"
    },
    "hide_input": false
   },
   "outputs": [
    {
     "name": "stdout",
     "output_type": "stream",
     "text": [
      "Number of Rows:1061\n",
      "Number of columns:8\n"
     ]
    }
   ],
   "source": [
    "print(f'Number of Rows:{df1.shape[0]}')\n",
    "print(f'Number of columns:{df1.shape[1]}')"
   ]
  },
  {
   "cell_type": "markdown",
   "id": "63af932d",
   "metadata": {},
   "source": [
    "## 1.2 Data Types"
   ]
  },
  {
   "cell_type": "code",
   "execution_count": 9,
   "id": "7a8b245b",
   "metadata": {
    "ExecuteTime": {
     "end_time": "2022-07-23T13:10:57.018374Z",
     "start_time": "2022-07-23T13:10:57.010594Z"
    }
   },
   "outputs": [],
   "source": [
    "#convert selling price - int to float\n",
    "df1['selling_price'] = df1['selling_price'].astype(float)\n",
    "df1['ex_showroom_price'] = df1['ex_showroom_price'].astype(float)"
   ]
  },
  {
   "cell_type": "code",
   "execution_count": 10,
   "id": "0592c39c",
   "metadata": {
    "ExecuteTime": {
     "end_time": "2022-07-23T13:10:57.540061Z",
     "start_time": "2022-07-23T13:10:57.524511Z"
    }
   },
   "outputs": [
    {
     "data": {
      "text/plain": [
       "id                     int64\n",
       "name                  object\n",
       "selling_price        float64\n",
       "year                   int64\n",
       "seller_type           object\n",
       "owner                 object\n",
       "km_driven              int64\n",
       "ex_showroom_price    float64\n",
       "dtype: object"
      ]
     },
     "execution_count": 10,
     "metadata": {},
     "output_type": "execute_result"
    }
   ],
   "source": [
    "df1.dtypes"
   ]
  },
  {
   "cell_type": "markdown",
   "id": "6e86b8a5",
   "metadata": {},
   "source": [
    "## 1.3 Check NA"
   ]
  },
  {
   "cell_type": "code",
   "execution_count": 11,
   "id": "cdd4c90b",
   "metadata": {
    "ExecuteTime": {
     "end_time": "2022-07-23T13:10:58.749622Z",
     "start_time": "2022-07-23T13:10:58.732465Z"
    }
   },
   "outputs": [
    {
     "data": {
      "text/plain": [
       "id                     0\n",
       "name                   0\n",
       "selling_price          0\n",
       "year                   0\n",
       "seller_type            0\n",
       "owner                  0\n",
       "km_driven              0\n",
       "ex_showroom_price    435\n",
       "dtype: int64"
      ]
     },
     "execution_count": 11,
     "metadata": {},
     "output_type": "execute_result"
    }
   ],
   "source": [
    "df1.isna().sum()"
   ]
  },
  {
   "cell_type": "markdown",
   "id": "87110f00",
   "metadata": {},
   "source": [
    "## 1.4 Fillup NA"
   ]
  },
  {
   "cell_type": "code",
   "execution_count": 12,
   "id": "59eabcec",
   "metadata": {
    "ExecuteTime": {
     "end_time": "2022-07-23T13:11:00.031897Z",
     "start_time": "2022-07-23T13:11:00.022125Z"
    }
   },
   "outputs": [],
   "source": [
    "df1['ex_showroom_price'] = df1['ex_showroom_price'].apply( lambda x: 0 if math.isnan(x) else x)"
   ]
  },
  {
   "cell_type": "markdown",
   "id": "f44600b6",
   "metadata": {},
   "source": [
    "## 1.5 Descriptive Statistical"
   ]
  },
  {
   "cell_type": "code",
   "execution_count": 14,
   "id": "25636e18",
   "metadata": {
    "ExecuteTime": {
     "end_time": "2022-07-23T13:11:01.876107Z",
     "start_time": "2022-07-23T13:11:01.869974Z"
    }
   },
   "outputs": [],
   "source": [
    "num_attributes = df1.select_dtypes(include=['int64','float'])\n",
    "cat_attributes = df1.select_dtypes(exclude=['int64','float'])"
   ]
  },
  {
   "cell_type": "markdown",
   "id": "51978d19",
   "metadata": {
    "ExecuteTime": {
     "end_time": "2022-07-21T14:01:57.936099Z",
     "start_time": "2022-07-21T14:01:57.930217Z"
    }
   },
   "source": [
    "### 1.5.1 Numerical Attributes"
   ]
  },
  {
   "cell_type": "code",
   "execution_count": 15,
   "id": "b3f7aa17",
   "metadata": {
    "ExecuteTime": {
     "end_time": "2022-07-23T13:11:02.952763Z",
     "start_time": "2022-07-23T13:11:02.871679Z"
    }
   },
   "outputs": [
    {
     "data": {
      "text/html": [
       "<div>\n",
       "<style scoped>\n",
       "    .dataframe tbody tr th:only-of-type {\n",
       "        vertical-align: middle;\n",
       "    }\n",
       "\n",
       "    .dataframe tbody tr th {\n",
       "        vertical-align: top;\n",
       "    }\n",
       "\n",
       "    .dataframe thead th {\n",
       "        text-align: right;\n",
       "    }\n",
       "</style>\n",
       "<table border=\"1\" class=\"dataframe\">\n",
       "  <thead>\n",
       "    <tr style=\"text-align: right;\">\n",
       "      <th></th>\n",
       "      <th>attributes</th>\n",
       "      <th>min</th>\n",
       "      <th>max</th>\n",
       "      <th>range</th>\n",
       "      <th>mean</th>\n",
       "      <th>median</th>\n",
       "      <th>std</th>\n",
       "      <th>skew</th>\n",
       "      <th>kurtosis</th>\n",
       "    </tr>\n",
       "  </thead>\n",
       "  <tbody>\n",
       "    <tr>\n",
       "      <th>0</th>\n",
       "      <td>id</td>\n",
       "      <td>0.0</td>\n",
       "      <td>1060.0</td>\n",
       "      <td>1060.0</td>\n",
       "      <td>530.000000</td>\n",
       "      <td>530.0</td>\n",
       "      <td>306.284182</td>\n",
       "      <td>0.000000</td>\n",
       "      <td>-1.200000</td>\n",
       "    </tr>\n",
       "    <tr>\n",
       "      <th>1</th>\n",
       "      <td>selling_price</td>\n",
       "      <td>5000.0</td>\n",
       "      <td>760000.0</td>\n",
       "      <td>755000.0</td>\n",
       "      <td>59638.151744</td>\n",
       "      <td>45000.0</td>\n",
       "      <td>56277.752121</td>\n",
       "      <td>4.993784</td>\n",
       "      <td>47.263080</td>\n",
       "    </tr>\n",
       "    <tr>\n",
       "      <th>2</th>\n",
       "      <td>year</td>\n",
       "      <td>1988.0</td>\n",
       "      <td>2020.0</td>\n",
       "      <td>32.0</td>\n",
       "      <td>2013.867107</td>\n",
       "      <td>2015.0</td>\n",
       "      <td>4.299164</td>\n",
       "      <td>-1.397296</td>\n",
       "      <td>3.223544</td>\n",
       "    </tr>\n",
       "    <tr>\n",
       "      <th>3</th>\n",
       "      <td>km_driven</td>\n",
       "      <td>350.0</td>\n",
       "      <td>880000.0</td>\n",
       "      <td>879650.0</td>\n",
       "      <td>34359.833176</td>\n",
       "      <td>25000.0</td>\n",
       "      <td>51598.819373</td>\n",
       "      <td>9.312195</td>\n",
       "      <td>115.815305</td>\n",
       "    </tr>\n",
       "    <tr>\n",
       "      <th>4</th>\n",
       "      <td>ex_showroom_price</td>\n",
       "      <td>0.0</td>\n",
       "      <td>1278000.0</td>\n",
       "      <td>1278000.0</td>\n",
       "      <td>51896.470311</td>\n",
       "      <td>52271.0</td>\n",
       "      <td>73547.771802</td>\n",
       "      <td>6.693972</td>\n",
       "      <td>87.113981</td>\n",
       "    </tr>\n",
       "  </tbody>\n",
       "</table>\n",
       "</div>"
      ],
      "text/plain": [
       "          attributes     min        max      range          mean   median           std      skew    kurtosis\n",
       "0                 id     0.0     1060.0     1060.0    530.000000    530.0    306.284182  0.000000   -1.200000\n",
       "1      selling_price  5000.0   760000.0   755000.0  59638.151744  45000.0  56277.752121  4.993784   47.263080\n",
       "2               year  1988.0     2020.0       32.0   2013.867107   2015.0      4.299164 -1.397296    3.223544\n",
       "3          km_driven   350.0   880000.0   879650.0  34359.833176  25000.0  51598.819373  9.312195  115.815305\n",
       "4  ex_showroom_price     0.0  1278000.0  1278000.0  51896.470311  52271.0  73547.771802  6.693972   87.113981"
      ]
     },
     "execution_count": 15,
     "metadata": {},
     "output_type": "execute_result"
    }
   ],
   "source": [
    "# Central Tendency  - Tendência central - Média e mediana\n",
    "ct1 = pd.DataFrame(num_attributes.apply(np.mean)).T\n",
    "ct2 = pd.DataFrame(num_attributes.apply(np.median)).T\n",
    "\n",
    "# Dispersion - Desvio padrão, variância, range, min, max skew, curtose (métricas de análise de dispersão de dados)\n",
    "d1 = pd.DataFrame(num_attributes.apply(np.std)).T\n",
    "d2 = pd.DataFrame(num_attributes.apply(min)).T\n",
    "d3 = pd.DataFrame(num_attributes.apply(max)).T\n",
    "d4 = pd.DataFrame(num_attributes.apply(lambda x: x.max() - x.min() ) ).T\n",
    "d5 = pd.DataFrame(num_attributes.apply(lambda x: x.skew() ) ).T\n",
    "d6 = pd.DataFrame(num_attributes.apply(lambda x: x.kurtosis() ) ).T\n",
    "\n",
    "#concatenate\n",
    "num_at = pd.concat([d2, d3, d4, ct1, ct2,d1, d5, d6]).T.reset_index()\n",
    "num_at.columns=['attributes','min', 'max', 'range', 'mean', 'median','std', 'skew', 'kurtosis']\n",
    "num_at"
   ]
  },
  {
   "cell_type": "code",
   "execution_count": 16,
   "id": "b902483e",
   "metadata": {
    "ExecuteTime": {
     "end_time": "2022-07-23T13:11:03.412996Z",
     "start_time": "2022-07-23T13:11:03.387722Z"
    }
   },
   "outputs": [
    {
     "data": {
      "text/html": [
       "<div>\n",
       "<style scoped>\n",
       "    .dataframe tbody tr th:only-of-type {\n",
       "        vertical-align: middle;\n",
       "    }\n",
       "\n",
       "    .dataframe tbody tr th {\n",
       "        vertical-align: top;\n",
       "    }\n",
       "\n",
       "    .dataframe thead th {\n",
       "        text-align: right;\n",
       "    }\n",
       "</style>\n",
       "<table border=\"1\" class=\"dataframe\">\n",
       "  <thead>\n",
       "    <tr style=\"text-align: right;\">\n",
       "      <th></th>\n",
       "      <th>id</th>\n",
       "      <th>name</th>\n",
       "      <th>selling_price</th>\n",
       "      <th>year</th>\n",
       "      <th>seller_type</th>\n",
       "      <th>owner</th>\n",
       "      <th>km_driven</th>\n",
       "      <th>ex_showroom_price</th>\n",
       "    </tr>\n",
       "  </thead>\n",
       "  <tbody>\n",
       "    <tr>\n",
       "      <th>134</th>\n",
       "      <td>134</td>\n",
       "      <td>Harley-Davidson Street Bob</td>\n",
       "      <td>750000.0</td>\n",
       "      <td>2013</td>\n",
       "      <td>Individual</td>\n",
       "      <td>2nd owner</td>\n",
       "      <td>12000</td>\n",
       "      <td>1278000.0</td>\n",
       "    </tr>\n",
       "    <tr>\n",
       "      <th>295</th>\n",
       "      <td>295</td>\n",
       "      <td>Suzuki GSX S750</td>\n",
       "      <td>760000.0</td>\n",
       "      <td>2019</td>\n",
       "      <td>Individual</td>\n",
       "      <td>1st owner</td>\n",
       "      <td>2800</td>\n",
       "      <td>752020.0</td>\n",
       "    </tr>\n",
       "  </tbody>\n",
       "</table>\n",
       "</div>"
      ],
      "text/plain": [
       "      id                        name  selling_price  year seller_type      owner  km_driven  ex_showroom_price\n",
       "134  134  Harley-Davidson Street Bob       750000.0  2013  Individual  2nd owner      12000          1278000.0\n",
       "295  295             Suzuki GSX S750       760000.0  2019  Individual  1st owner       2800           752020.0"
      ]
     },
     "execution_count": 16,
     "metadata": {},
     "output_type": "execute_result"
    }
   ],
   "source": [
    "df1.loc[(df1['selling_price'] > 700000 )]"
   ]
  },
  {
   "cell_type": "code",
   "execution_count": 17,
   "id": "12f1720c",
   "metadata": {
    "ExecuteTime": {
     "end_time": "2022-07-23T13:11:03.926286Z",
     "start_time": "2022-07-23T13:11:03.902085Z"
    }
   },
   "outputs": [
    {
     "data": {
      "text/html": [
       "<div>\n",
       "<style scoped>\n",
       "    .dataframe tbody tr th:only-of-type {\n",
       "        vertical-align: middle;\n",
       "    }\n",
       "\n",
       "    .dataframe tbody tr th {\n",
       "        vertical-align: top;\n",
       "    }\n",
       "\n",
       "    .dataframe thead th {\n",
       "        text-align: right;\n",
       "    }\n",
       "</style>\n",
       "<table border=\"1\" class=\"dataframe\">\n",
       "  <thead>\n",
       "    <tr style=\"text-align: right;\">\n",
       "      <th></th>\n",
       "      <th>id</th>\n",
       "      <th>name</th>\n",
       "      <th>selling_price</th>\n",
       "      <th>year</th>\n",
       "      <th>seller_type</th>\n",
       "      <th>owner</th>\n",
       "      <th>km_driven</th>\n",
       "      <th>ex_showroom_price</th>\n",
       "    </tr>\n",
       "  </thead>\n",
       "  <tbody>\n",
       "    <tr>\n",
       "      <th>642</th>\n",
       "      <td>642</td>\n",
       "      <td>TVS Apache RTR 160</td>\n",
       "      <td>15000.0</td>\n",
       "      <td>2009</td>\n",
       "      <td>Individual</td>\n",
       "      <td>4th owner</td>\n",
       "      <td>880000</td>\n",
       "      <td>0.0</td>\n",
       "    </tr>\n",
       "  </tbody>\n",
       "</table>\n",
       "</div>"
      ],
      "text/plain": [
       "      id                name  selling_price  year seller_type      owner  km_driven  ex_showroom_price\n",
       "642  642  TVS Apache RTR 160        15000.0  2009  Individual  4th owner     880000                0.0"
      ]
     },
     "execution_count": 17,
     "metadata": {},
     "output_type": "execute_result"
    }
   ],
   "source": [
    "df1.loc[(df1['km_driven'] > 700000 )]"
   ]
  },
  {
   "cell_type": "code",
   "execution_count": 18,
   "id": "383770ed",
   "metadata": {
    "ExecuteTime": {
     "end_time": "2022-07-23T13:11:04.463597Z",
     "start_time": "2022-07-23T13:11:04.430421Z"
    }
   },
   "outputs": [
    {
     "data": {
      "text/html": [
       "<div>\n",
       "<style scoped>\n",
       "    .dataframe tbody tr th:only-of-type {\n",
       "        vertical-align: middle;\n",
       "    }\n",
       "\n",
       "    .dataframe tbody tr th {\n",
       "        vertical-align: top;\n",
       "    }\n",
       "\n",
       "    .dataframe thead th {\n",
       "        text-align: right;\n",
       "    }\n",
       "</style>\n",
       "<table border=\"1\" class=\"dataframe\">\n",
       "  <thead>\n",
       "    <tr style=\"text-align: right;\">\n",
       "      <th></th>\n",
       "      <th>id</th>\n",
       "      <th>name</th>\n",
       "      <th>selling_price</th>\n",
       "      <th>year</th>\n",
       "      <th>seller_type</th>\n",
       "      <th>owner</th>\n",
       "      <th>km_driven</th>\n",
       "      <th>ex_showroom_price</th>\n",
       "    </tr>\n",
       "  </thead>\n",
       "  <tbody>\n",
       "    <tr>\n",
       "      <th>134</th>\n",
       "      <td>134</td>\n",
       "      <td>Harley-Davidson Street Bob</td>\n",
       "      <td>750000.0</td>\n",
       "      <td>2013</td>\n",
       "      <td>Individual</td>\n",
       "      <td>2nd owner</td>\n",
       "      <td>12000</td>\n",
       "      <td>1278000.0</td>\n",
       "    </tr>\n",
       "    <tr>\n",
       "      <th>295</th>\n",
       "      <td>295</td>\n",
       "      <td>Suzuki GSX S750</td>\n",
       "      <td>760000.0</td>\n",
       "      <td>2019</td>\n",
       "      <td>Individual</td>\n",
       "      <td>1st owner</td>\n",
       "      <td>2800</td>\n",
       "      <td>752020.0</td>\n",
       "    </tr>\n",
       "  </tbody>\n",
       "</table>\n",
       "</div>"
      ],
      "text/plain": [
       "      id                        name  selling_price  year seller_type      owner  km_driven  ex_showroom_price\n",
       "134  134  Harley-Davidson Street Bob       750000.0  2013  Individual  2nd owner      12000          1278000.0\n",
       "295  295             Suzuki GSX S750       760000.0  2019  Individual  1st owner       2800           752020.0"
      ]
     },
     "execution_count": 18,
     "metadata": {},
     "output_type": "execute_result"
    }
   ],
   "source": [
    "df1.loc[(df1['ex_showroom_price'] > 700000 )]"
   ]
  },
  {
   "cell_type": "code",
   "execution_count": 19,
   "id": "8f18dbea",
   "metadata": {
    "ExecuteTime": {
     "end_time": "2022-07-23T13:11:05.965518Z",
     "start_time": "2022-07-23T13:11:05.544558Z"
    }
   },
   "outputs": [
    {
     "data": {
      "text/plain": [
       "<AxesSubplot:ylabel='ex_showroom_price'>"
      ]
     },
     "execution_count": 19,
     "metadata": {},
     "output_type": "execute_result"
    },
    {
     "data": {
      "image/png": "[encoded data removed]",
      "text/plain": [
       "<Figure size 1440x720 with 3 Axes>"
      ]
     },
     "metadata": {},
     "output_type": "display_data"
    }
   ],
   "source": [
    "# removing outliers values from selling_price, km_driven and ex_showroom_price \n",
    "# IDs removed: 134, 295, 642\n",
    "\n",
    "aux = df1.loc[ (df1['id'] != 134 ) & (df1['id'] != 295 ) & (df1['id'] != 642 ), :]\n",
    "\n",
    "\n",
    "plt.subplot(1,3,1)\n",
    "sns.boxplot(data=aux,y='selling_price')\n",
    "\n",
    "plt.subplot(1,3,2)\n",
    "sns.boxplot(data=aux,y='km_driven')\n",
    "\n",
    "plt.subplot(1,3,3)\n",
    "sns.boxplot(data=aux,y='ex_showroom_price')"
   ]
  },
  {
   "cell_type": "markdown",
   "id": "e09acacd",
   "metadata": {
    "ExecuteTime": {
     "end_time": "2022-07-21T14:01:57.936099Z",
     "start_time": "2022-07-21T14:01:57.930217Z"
    }
   },
   "source": [
    "### 1.5.1 Categorical Attributes"
   ]
  },
  {
   "cell_type": "code",
   "execution_count": 20,
   "id": "baacf2c2",
   "metadata": {
    "ExecuteTime": {
     "end_time": "2022-07-23T13:11:09.192473Z",
     "start_time": "2022-07-23T13:11:09.172066Z"
    }
   },
   "outputs": [
    {
     "data": {
      "text/html": [
       "<div>\n",
       "<style scoped>\n",
       "    .dataframe tbody tr th:only-of-type {\n",
       "        vertical-align: middle;\n",
       "    }\n",
       "\n",
       "    .dataframe tbody tr th {\n",
       "        vertical-align: top;\n",
       "    }\n",
       "\n",
       "    .dataframe thead th {\n",
       "        text-align: right;\n",
       "    }\n",
       "</style>\n",
       "<table border=\"1\" class=\"dataframe\">\n",
       "  <thead>\n",
       "    <tr style=\"text-align: right;\">\n",
       "      <th></th>\n",
       "      <th>name</th>\n",
       "      <th>seller_type</th>\n",
       "      <th>owner</th>\n",
       "    </tr>\n",
       "  </thead>\n",
       "  <tbody>\n",
       "    <tr>\n",
       "      <th>0</th>\n",
       "      <td>Royal Enfield Classic 350</td>\n",
       "      <td>Individual</td>\n",
       "      <td>1st owner</td>\n",
       "    </tr>\n",
       "    <tr>\n",
       "      <th>1</th>\n",
       "      <td>Honda Dio</td>\n",
       "      <td>Individual</td>\n",
       "      <td>1st owner</td>\n",
       "    </tr>\n",
       "    <tr>\n",
       "      <th>2</th>\n",
       "      <td>Royal Enfield Classic Gunmetal Grey</td>\n",
       "      <td>Individual</td>\n",
       "      <td>1st owner</td>\n",
       "    </tr>\n",
       "    <tr>\n",
       "      <th>3</th>\n",
       "      <td>Yamaha Fazer FI V 2.0 [2016-2018]</td>\n",
       "      <td>Individual</td>\n",
       "      <td>1st owner</td>\n",
       "    </tr>\n",
       "    <tr>\n",
       "      <th>4</th>\n",
       "      <td>Yamaha SZ [2013-2014]</td>\n",
       "      <td>Individual</td>\n",
       "      <td>2nd owner</td>\n",
       "    </tr>\n",
       "  </tbody>\n",
       "</table>\n",
       "</div>"
      ],
      "text/plain": [
       "                                  name seller_type      owner\n",
       "0            Royal Enfield Classic 350  Individual  1st owner\n",
       "1                            Honda Dio  Individual  1st owner\n",
       "2  Royal Enfield Classic Gunmetal Grey  Individual  1st owner\n",
       "3    Yamaha Fazer FI V 2.0 [2016-2018]  Individual  1st owner\n",
       "4                Yamaha SZ [2013-2014]  Individual  2nd owner"
      ]
     },
     "execution_count": 20,
     "metadata": {},
     "output_type": "execute_result"
    }
   ],
   "source": [
    "cat_attributes.head()"
   ]
  },
  {
   "cell_type": "code",
   "execution_count": 21,
   "id": "e2b0bb7f",
   "metadata": {
    "ExecuteTime": {
     "end_time": "2022-07-23T13:11:09.803404Z",
     "start_time": "2022-07-23T13:11:09.791412Z"
    }
   },
   "outputs": [
    {
     "data": {
      "text/plain": [
       "name           279\n",
       "seller_type      2\n",
       "owner            4\n",
       "dtype: int64"
      ]
     },
     "execution_count": 21,
     "metadata": {},
     "output_type": "execute_result"
    }
   ],
   "source": [
    "#veriricando qtd de dados diferente por coluna\n",
    "cat_attributes.apply(lambda x: x.unique().shape[0])"
   ]
  },
  {
   "cell_type": "code",
   "execution_count": 22,
   "id": "953014d1",
   "metadata": {
    "ExecuteTime": {
     "end_time": "2022-07-23T13:11:10.610229Z",
     "start_time": "2022-07-23T13:11:10.263863Z"
    }
   },
   "outputs": [
    {
     "data": {
      "text/plain": [
       "<AxesSubplot:xlabel='owner', ylabel='selling_price'>"
      ]
     },
     "execution_count": 22,
     "metadata": {},
     "output_type": "execute_result"
    },
    {
     "data": {
      "image/png": "[encoded data removed]",
      "text/plain": [
       "<Figure size 1440x720 with 2 Axes>"
      ]
     },
     "metadata": {},
     "output_type": "display_data"
    }
   ],
   "source": [
    "#removendo 2 motos que estavam com valores acima de 700 mil.Abiaxo do gráfico pode-se saber quais foram as motos removidas \n",
    "\n",
    "aux = df1.loc[ (df1['id'] != 134 ) & (df1['id'] != 295 ) & (df1['id'] != 642 ), :]\n",
    "\n",
    "plt.subplot(1,2,1)\n",
    "sns.boxplot(x='seller_type',y='selling_price', data=aux)\n",
    "\n",
    "\n",
    "plt.subplot(1,2,2)\n",
    "sns.boxplot(x='owner',y='selling_price', data=aux)\n"
   ]
  },
  {
   "cell_type": "code",
   "execution_count": 23,
   "id": "37e33cca",
   "metadata": {
    "ExecuteTime": {
     "end_time": "2022-07-23T13:11:11.293477Z",
     "start_time": "2022-07-23T13:11:11.270114Z"
    }
   },
   "outputs": [
    {
     "data": {
      "text/html": [
       "<div>\n",
       "<style scoped>\n",
       "    .dataframe tbody tr th:only-of-type {\n",
       "        vertical-align: middle;\n",
       "    }\n",
       "\n",
       "    .dataframe tbody tr th {\n",
       "        vertical-align: top;\n",
       "    }\n",
       "\n",
       "    .dataframe thead th {\n",
       "        text-align: right;\n",
       "    }\n",
       "</style>\n",
       "<table border=\"1\" class=\"dataframe\">\n",
       "  <thead>\n",
       "    <tr style=\"text-align: right;\">\n",
       "      <th></th>\n",
       "      <th>owner</th>\n",
       "      <th>avg_price</th>\n",
       "      <th>qty</th>\n",
       "    </tr>\n",
       "  </thead>\n",
       "  <tbody>\n",
       "    <tr>\n",
       "      <th>0</th>\n",
       "      <td>4th owner</td>\n",
       "      <td>170000.000000</td>\n",
       "      <td>2</td>\n",
       "    </tr>\n",
       "    <tr>\n",
       "      <th>1</th>\n",
       "      <td>1st owner</td>\n",
       "      <td>59264.442037</td>\n",
       "      <td>923</td>\n",
       "    </tr>\n",
       "    <tr>\n",
       "      <th>2</th>\n",
       "      <td>3rd owner</td>\n",
       "      <td>55727.272727</td>\n",
       "      <td>11</td>\n",
       "    </tr>\n",
       "    <tr>\n",
       "      <th>3</th>\n",
       "      <td>2nd owner</td>\n",
       "      <td>49975.401639</td>\n",
       "      <td>122</td>\n",
       "    </tr>\n",
       "  </tbody>\n",
       "</table>\n",
       "</div>"
      ],
      "text/plain": [
       "       owner      avg_price  qty\n",
       "0  4th owner  170000.000000    2\n",
       "1  1st owner   59264.442037  923\n",
       "2  3rd owner   55727.272727   11\n",
       "3  2nd owner   49975.401639  122"
      ]
     },
     "execution_count": 23,
     "metadata": {},
     "output_type": "execute_result"
    }
   ],
   "source": [
    "#counting how many bikes per num of owner after exclusion of 3 outliers \n",
    "\n",
    "df_grouped = df1.loc[ (df1['id'] != 134 ) & (df1['id'] != 295 ) & (df1['id'] != 642 ), :].groupby('owner')\n",
    "\n",
    "df_grouped = df_grouped.agg(\n",
    "    avg_price = pd.NamedAgg('selling_price', 'mean'),\n",
    "    qty = pd.NamedAgg('owner', 'count'),\n",
    ").sort_values('avg_price', ascending=False).reset_index()\n",
    "\n",
    "df_grouped"
   ]
  },
  {
   "cell_type": "markdown",
   "id": "92c3885d",
   "metadata": {
    "hide_input": false
   },
   "source": [
    "# 2.0 Feature Engineering"
   ]
  },
  {
   "cell_type": "code",
   "execution_count": 24,
   "id": "0aa951e7",
   "metadata": {
    "ExecuteTime": {
     "end_time": "2022-07-23T13:11:12.930483Z",
     "start_time": "2022-07-23T13:11:12.924119Z"
    }
   },
   "outputs": [],
   "source": [
    "df2= df1.copy()"
   ]
  },
  {
   "cell_type": "code",
   "execution_count": 25,
   "id": "2f5671e7",
   "metadata": {
    "ExecuteTime": {
     "end_time": "2022-07-23T13:11:13.688175Z",
     "start_time": "2022-07-23T13:11:13.677177Z"
    },
    "hide_input": false
   },
   "outputs": [],
   "source": [
    "# applying strip in the name\n",
    "df2['name'] = df2['name'].str.strip()\n",
    "\n",
    "# Creating new columns for bikes in show room \n",
    "df2['in_showroom'] = df2['ex_showroom_price'].apply(lambda x: \"0\" if x == 0  else '1')"
   ]
  },
  {
   "cell_type": "code",
   "execution_count": 26,
   "id": "733190a6",
   "metadata": {
    "ExecuteTime": {
     "end_time": "2022-07-23T13:11:16.931384Z",
     "start_time": "2022-07-23T13:11:16.919063Z"
    },
    "hide_input": false
   },
   "outputs": [],
   "source": [
    "#remove word owner\n",
    "df2['owner'] = df2['owner'].str.replace('owner','')\n",
    "\n",
    "# seller_type\n",
    "df2['seller_type'] = df2['seller_type'].str.lower()"
   ]
  },
  {
   "cell_type": "code",
   "execution_count": 27,
   "id": "c61654d3",
   "metadata": {
    "ExecuteTime": {
     "end_time": "2022-07-23T13:11:18.088099Z",
     "start_time": "2022-07-23T13:11:18.067998Z"
    }
   },
   "outputs": [
    {
     "data": {
      "text/html": [
       "<div>\n",
       "<style scoped>\n",
       "    .dataframe tbody tr th:only-of-type {\n",
       "        vertical-align: middle;\n",
       "    }\n",
       "\n",
       "    .dataframe tbody tr th {\n",
       "        vertical-align: top;\n",
       "    }\n",
       "\n",
       "    .dataframe thead th {\n",
       "        text-align: right;\n",
       "    }\n",
       "</style>\n",
       "<table border=\"1\" class=\"dataframe\">\n",
       "  <thead>\n",
       "    <tr style=\"text-align: right;\">\n",
       "      <th></th>\n",
       "      <th>id</th>\n",
       "      <th>name</th>\n",
       "      <th>selling_price</th>\n",
       "      <th>year</th>\n",
       "      <th>seller_type</th>\n",
       "      <th>owner</th>\n",
       "      <th>km_driven</th>\n",
       "      <th>ex_showroom_price</th>\n",
       "      <th>in_showroom</th>\n",
       "    </tr>\n",
       "  </thead>\n",
       "  <tbody>\n",
       "    <tr>\n",
       "      <th>411</th>\n",
       "      <td>411</td>\n",
       "      <td>KTM 390 Duke ABS [2013-2016]</td>\n",
       "      <td>180000.0</td>\n",
       "      <td>2015</td>\n",
       "      <td>individual</td>\n",
       "      <td>2nd</td>\n",
       "      <td>13125</td>\n",
       "      <td>202127.0</td>\n",
       "      <td>1</td>\n",
       "    </tr>\n",
       "    <tr>\n",
       "      <th>966</th>\n",
       "      <td>966</td>\n",
       "      <td>Hyosung GT250R</td>\n",
       "      <td>135000.0</td>\n",
       "      <td>2016</td>\n",
       "      <td>individual</td>\n",
       "      <td>2nd</td>\n",
       "      <td>16500</td>\n",
       "      <td>345000.0</td>\n",
       "      <td>1</td>\n",
       "    </tr>\n",
       "    <tr>\n",
       "      <th>555</th>\n",
       "      <td>555</td>\n",
       "      <td>Honda CB Shine SP</td>\n",
       "      <td>41000.0</td>\n",
       "      <td>2017</td>\n",
       "      <td>individual</td>\n",
       "      <td>1st</td>\n",
       "      <td>33000</td>\n",
       "      <td>66697.0</td>\n",
       "      <td>1</td>\n",
       "    </tr>\n",
       "    <tr>\n",
       "      <th>1016</th>\n",
       "      <td>1016</td>\n",
       "      <td>TVS Sport</td>\n",
       "      <td>48000.0</td>\n",
       "      <td>2019</td>\n",
       "      <td>individual</td>\n",
       "      <td>1st</td>\n",
       "      <td>15000</td>\n",
       "      <td>52000.0</td>\n",
       "      <td>1</td>\n",
       "    </tr>\n",
       "    <tr>\n",
       "      <th>211</th>\n",
       "      <td>211</td>\n",
       "      <td>Bajaj Pulsar 220 Fi</td>\n",
       "      <td>25000.0</td>\n",
       "      <td>2012</td>\n",
       "      <td>individual</td>\n",
       "      <td>1st</td>\n",
       "      <td>44000</td>\n",
       "      <td>0.0</td>\n",
       "      <td>0</td>\n",
       "    </tr>\n",
       "  </tbody>\n",
       "</table>\n",
       "</div>"
      ],
      "text/plain": [
       "        id                          name  selling_price  year seller_type owner  km_driven  ex_showroom_price in_showroom\n",
       "411    411  KTM 390 Duke ABS [2013-2016]       180000.0  2015  individual  2nd       13125           202127.0           1\n",
       "966    966                Hyosung GT250R       135000.0  2016  individual  2nd       16500           345000.0           1\n",
       "555    555             Honda CB Shine SP        41000.0  2017  individual  1st       33000            66697.0           1\n",
       "1016  1016                     TVS Sport        48000.0  2019  individual  1st       15000            52000.0           1\n",
       "211    211           Bajaj Pulsar 220 Fi        25000.0  2012  individual  1st       44000                0.0           0"
      ]
     },
     "execution_count": 27,
     "metadata": {},
     "output_type": "execute_result"
    }
   ],
   "source": [
    "df2.sample(5)"
   ]
  },
  {
   "cell_type": "markdown",
   "id": "dfcb83e4",
   "metadata": {
    "ExecuteTime": {
     "end_time": "2022-07-18T17:48:51.932042Z",
     "start_time": "2022-07-18T17:48:51.911406Z"
    }
   },
   "source": [
    "# 3 Respondendo as perguntas do CEO"
   ]
  },
  {
   "cell_type": "markdown",
   "id": "c88a718e",
   "metadata": {},
   "source": [
    "## 3.1 Primeira rodada de perguntas"
   ]
  },
  {
   "cell_type": "code",
   "execution_count": 30,
   "id": "416ca526",
   "metadata": {
    "ExecuteTime": {
     "end_time": "2022-07-23T13:11:27.525463Z",
     "start_time": "2022-07-23T13:11:27.511906Z"
    }
   },
   "outputs": [],
   "source": [
    "df3 = df2.copy()\n",
    "df3_clean = df2.loc[ (df2['id'] != 134 ) & (df2['id'] != 295 ) & (df2['id'] != 642 ), :] # sem os outliers "
   ]
  },
  {
   "cell_type": "markdown",
   "id": "efb603c5",
   "metadata": {
    "ExecuteTime": {
     "end_time": "2022-07-18T17:51:04.820541Z",
     "start_time": "2022-07-18T17:51:04.802952Z"
    }
   },
   "source": [
    "**1. Quantas motos temos dentro do Dataset?**"
   ]
  },
  {
   "cell_type": "code",
   "execution_count": 31,
   "id": "df5db487",
   "metadata": {
    "ExecuteTime": {
     "end_time": "2022-07-23T13:11:29.574493Z",
     "start_time": "2022-07-23T13:11:29.565066Z"
    },
    "hide_input": false
   },
   "outputs": [
    {
     "name": "stdout",
     "output_type": "stream",
     "text": [
      "Atualmente existem 1061 disponíveis para venda.\n"
     ]
    }
   ],
   "source": [
    "# considera full dataset\n",
    "total_motos = df3['name'].count()\n",
    "print(f'Atualmente existem {total_motos} disponíveis para venda.')"
   ]
  },
  {
   "cell_type": "markdown",
   "id": "14dbcb72",
   "metadata": {
    "hide_input": false
   },
   "source": [
    "**2. Qual é o ano da moto mais antiga da base de dados?**"
   ]
  },
  {
   "cell_type": "code",
   "execution_count": 32,
   "id": "6faade77",
   "metadata": {
    "ExecuteTime": {
     "end_time": "2022-07-23T13:11:30.194819Z",
     "start_time": "2022-07-23T13:11:30.186592Z"
    },
    "hide_input": false,
    "scrolled": true
   },
   "outputs": [
    {
     "name": "stdout",
     "output_type": "stream",
     "text": [
      "A moto mais antiga disponível é de 1988 .\n"
     ]
    }
   ],
   "source": [
    "#considera full dataset\n",
    "menor_ano = df3['year'].min()\n",
    "print(f'A moto mais antiga disponível é de {menor_ano} .')"
   ]
  },
  {
   "cell_type": "markdown",
   "id": "705f78b9",
   "metadata": {
    "hide_input": true
   },
   "source": [
    "**3. Qual é o ano da moto mais nova da base de dados?**\n"
   ]
  },
  {
   "cell_type": "code",
   "execution_count": 33,
   "id": "76aea1de",
   "metadata": {
    "ExecuteTime": {
     "end_time": "2022-07-23T13:11:32.052035Z",
     "start_time": "2022-07-23T13:11:32.044020Z"
    },
    "hide_input": false,
    "scrolled": true
   },
   "outputs": [
    {
     "name": "stdout",
     "output_type": "stream",
     "text": [
      "A moto mais nova disponível é de 2020 .\n"
     ]
    }
   ],
   "source": [
    "# considera full dataset\n",
    "maior_ano = df3['year'].max()\n",
    "print(f'A moto mais nova disponível é de {maior_ano} .')"
   ]
  },
  {
   "cell_type": "markdown",
   "id": "33bbd601",
   "metadata": {},
   "source": [
    "**4. Qual é o valor da moto mais cara da base de dados?**"
   ]
  },
  {
   "cell_type": "code",
   "execution_count": 34,
   "id": "7563dcd5",
   "metadata": {
    "ExecuteTime": {
     "end_time": "2022-07-23T13:11:32.921426Z",
     "start_time": "2022-07-23T13:11:32.913990Z"
    },
    "hide_input": false
   },
   "outputs": [
    {
     "name": "stdout",
     "output_type": "stream",
     "text": [
      "A moto mais cara disponível está a venda por R$760,000.00\n"
     ]
    }
   ],
   "source": [
    "# Considera full dataset\n",
    "maior_valor = df3['selling_price'].max()\n",
    "print('A moto mais cara disponível está a venda por R${:0,.2f}'.format(maior_valor))"
   ]
  },
  {
   "cell_type": "markdown",
   "id": "23a60ca4",
   "metadata": {},
   "source": [
    "**5. Qual é o valor do hodômotro da moto com a maior quilometragem?**"
   ]
  },
  {
   "cell_type": "code",
   "execution_count": 35,
   "id": "f64d9320",
   "metadata": {
    "ExecuteTime": {
     "end_time": "2022-07-23T13:11:35.118067Z",
     "start_time": "2022-07-23T13:11:35.109160Z"
    },
    "hide_input": false
   },
   "outputs": [
    {
     "name": "stdout",
     "output_type": "stream",
     "text": [
      " A moto com maior km tem 880,000.0 quilômetros.\n",
      " A moto com maior km, removendo os itens considerados outliers tem 646,000.0 quilômetros.\n"
     ]
    }
   ],
   "source": [
    "# considera full dataset\n",
    "maior_km = df3['km_driven'].max()\n",
    "print(' A moto com maior km tem {:,.1f}'.format(maior_km) +' quilômetros.')\n",
    "\n",
    "maior_km = df3_clean['km_driven'].max()\n",
    "print(' A moto com maior km, removendo os itens considerados outliers tem {:,.1f}'.format(maior_km) +' quilômetros.')"
   ]
  },
  {
   "cell_type": "markdown",
   "id": "e096816b",
   "metadata": {
    "ExecuteTime": {
     "end_time": "2022-07-18T18:25:24.805053Z",
     "start_time": "2022-07-18T18:25:24.795826Z"
    },
    "hide_input": true
   },
   "source": [
    "**6. Qual é o valor do hodômotro da moto com a menor quiilometragem?**"
   ]
  },
  {
   "cell_type": "code",
   "execution_count": 36,
   "id": "a9e5fa04",
   "metadata": {
    "ExecuteTime": {
     "end_time": "2022-07-23T13:11:35.862845Z",
     "start_time": "2022-07-23T13:11:35.856885Z"
    },
    "hide_input": false
   },
   "outputs": [
    {
     "name": "stdout",
     "output_type": "stream",
     "text": [
      " A moto com menor km tem 350.0 quilômetros.\n"
     ]
    }
   ],
   "source": [
    "# full dataset\n",
    "menor_km = df3['km_driven'].min()\n",
    "print(' A moto com menor km tem {:,.1f}'.format(menor_km) +' quilômetros.')"
   ]
  },
  {
   "cell_type": "markdown",
   "id": "51f44e0e",
   "metadata": {
    "ExecuteTime": {
     "end_time": "2022-07-18T18:25:24.805053Z",
     "start_time": "2022-07-18T18:25:24.795826Z"
    },
    "hide_input": true
   },
   "source": [
    "**7. Das motocicletas que estão sendo expostas dentro de um Show Room, qual é o maior valor registrado na base de dados?**"
   ]
  },
  {
   "cell_type": "code",
   "execution_count": 37,
   "id": "d405b4e9",
   "metadata": {
    "ExecuteTime": {
     "end_time": "2022-07-23T13:11:37.800967Z",
     "start_time": "2022-07-23T13:11:37.786374Z"
    },
    "hide_input": false
   },
   "outputs": [
    {
     "name": "stdout",
     "output_type": "stream",
     "text": [
      " A moto mais cara exposta em um showroom custa R$760,000.00\n",
      " A moto mais cara exposta em um showroom, se removermos os outliers, custa R$425,000.00\n"
     ]
    }
   ],
   "source": [
    "# full dataset\n",
    "aux = df3[df3['in_showroom']=='1']\n",
    "maior_valor_sr = df3['selling_price'].max()\n",
    "print(' A moto mais cara exposta em um showroom custa R${:,.2f}'.format(maior_valor_sr) )\n",
    "\n",
    "# without outliers\n",
    "aux = df3_clean[df3_clean['in_showroom']=='1']\n",
    "maior_valor_sr = df3_clean['selling_price'].max()\n",
    "print(' A moto mais cara exposta em um showroom, se removermos os outliers, custa R${:,.2f}'.format(maior_valor_sr) )"
   ]
  },
  {
   "cell_type": "markdown",
   "id": "9018324d",
   "metadata": {
    "ExecuteTime": {
     "end_time": "2022-07-18T18:34:31.504404Z",
     "start_time": "2022-07-18T18:34:31.460434Z"
    }
   },
   "source": [
    "**8. Das motocicletas que estão sendo expostas dentro de um Show Room, qual é o menor valor registrado na base de dados?**"
   ]
  },
  {
   "cell_type": "code",
   "execution_count": 38,
   "id": "aaa91a2d",
   "metadata": {
    "ExecuteTime": {
     "end_time": "2022-07-23T13:11:38.511507Z",
     "start_time": "2022-07-23T13:11:38.501410Z"
    },
    "hide_input": false
   },
   "outputs": [
    {
     "name": "stdout",
     "output_type": "stream",
     "text": [
      " A moto mais barata exposta em um showroom custa R$5,000.00\n"
     ]
    }
   ],
   "source": [
    "# full dataset\n",
    "aux = df3[df3['in_showroom']=='1']\n",
    "menor_valor_sr = df3['selling_price'].min()\n",
    "menor_valor_sr\n",
    "print(' A moto mais barata exposta em um showroom custa R${:,.2f}'.format(menor_valor_sr) )"
   ]
  },
  {
   "cell_type": "markdown",
   "id": "049bffb3",
   "metadata": {},
   "source": [
    "**9. Quantas motocicletas estão sendo vendidades pelos seus donos e quantas estão sendo vendidas por outros revendedores?**"
   ]
  },
  {
   "cell_type": "code",
   "execution_count": 39,
   "id": "1fa0cf99",
   "metadata": {
    "ExecuteTime": {
     "end_time": "2022-07-23T13:11:40.023964Z",
     "start_time": "2022-07-23T13:11:40.005359Z"
    },
    "hide_input": false
   },
   "outputs": [
    {
     "data": {
      "text/html": [
       "<div>\n",
       "<style scoped>\n",
       "    .dataframe tbody tr th:only-of-type {\n",
       "        vertical-align: middle;\n",
       "    }\n",
       "\n",
       "    .dataframe tbody tr th {\n",
       "        vertical-align: top;\n",
       "    }\n",
       "\n",
       "    .dataframe thead th {\n",
       "        text-align: right;\n",
       "    }\n",
       "</style>\n",
       "<table border=\"1\" class=\"dataframe\">\n",
       "  <thead>\n",
       "    <tr style=\"text-align: right;\">\n",
       "      <th></th>\n",
       "      <th>name</th>\n",
       "    </tr>\n",
       "    <tr>\n",
       "      <th>seller_type</th>\n",
       "      <th></th>\n",
       "    </tr>\n",
       "  </thead>\n",
       "  <tbody>\n",
       "    <tr>\n",
       "      <th>dealer</th>\n",
       "      <td>6</td>\n",
       "    </tr>\n",
       "    <tr>\n",
       "      <th>individual</th>\n",
       "      <td>1055</td>\n",
       "    </tr>\n",
       "  </tbody>\n",
       "</table>\n",
       "</div>"
      ],
      "text/plain": [
       "             name\n",
       "seller_type      \n",
       "dealer          6\n",
       "individual   1055"
      ]
     },
     "execution_count": 39,
     "metadata": {},
     "output_type": "execute_result"
    }
   ],
   "source": [
    "# full dataset\n",
    "aux = df3.loc[:,['seller_type','name']].groupby('seller_type').count()\n",
    "aux"
   ]
  },
  {
   "cell_type": "markdown",
   "id": "f2ccd56b",
   "metadata": {},
   "source": [
    "**10. Qual é a média de valores das motos na base de dados?**"
   ]
  },
  {
   "cell_type": "code",
   "execution_count": 40,
   "id": "269d66e3",
   "metadata": {
    "ExecuteTime": {
     "end_time": "2022-07-23T13:11:41.004825Z",
     "start_time": "2022-07-23T13:11:40.994885Z"
    },
    "hide_input": false
   },
   "outputs": [
    {
     "name": "stdout",
     "output_type": "stream",
     "text": [
      "A média de preço das motos disponíveis na base de dados é de R$59,638.15\n",
      "A média de preço das motos disponíveis na base de dados, removendo outliers, é de R$58,365.86\n"
     ]
    }
   ],
   "source": [
    "# full dataset \n",
    "media = df3['selling_price'].mean()\n",
    "print('A média de preço das motos disponíveis na base de dados é de R${:,.2f}'.format(media))\n",
    "\n",
    "# without outliers\n",
    "media = df3_clean['selling_price'].mean()\n",
    "print('A média de preço das motos disponíveis na base de dados, removendo outliers, é de R${:,.2f}'.format(media))"
   ]
  },
  {
   "cell_type": "markdown",
   "id": "63012477",
   "metadata": {},
   "source": [
    "**11. Qual é a média de ano das motos cadastradas dentro da base de dados?**"
   ]
  },
  {
   "cell_type": "code",
   "execution_count": 41,
   "id": "99b69e3c",
   "metadata": {
    "ExecuteTime": {
     "end_time": "2022-07-23T13:11:43.299961Z",
     "start_time": "2022-07-23T13:11:43.291533Z"
    },
    "hide_input": false
   },
   "outputs": [
    {
     "name": "stdout",
     "output_type": "stream",
     "text": [
      "A média de ano das motos da base de dados é de 2014\n"
     ]
    }
   ],
   "source": [
    "media_ano = np.round(df3['year'].mean())\n",
    "print('A média de ano das motos da base de dados é de {:.0f}'.format(media_ano))"
   ]
  },
  {
   "cell_type": "markdown",
   "id": "cb7d3fe9",
   "metadata": {},
   "source": [
    "**12. Qual é a média de quilometragem das motos cadastradas dentro da base de dados?**"
   ]
  },
  {
   "cell_type": "code",
   "execution_count": 42,
   "id": "de9a99ed",
   "metadata": {
    "ExecuteTime": {
     "end_time": "2022-07-23T13:11:43.978252Z",
     "start_time": "2022-07-23T13:11:43.967438Z"
    },
    "hide_input": false
   },
   "outputs": [
    {
     "name": "stdout",
     "output_type": "stream",
     "text": [
      "A média de quilometragem das motos da base de dados é de 34,359.83\n",
      "A média de quilometragem das motos da base de dados, removendo outliers, é de 33,611.52\n"
     ]
    }
   ],
   "source": [
    "# full dataset\n",
    "media_km = df3['km_driven'].mean()\n",
    "print('A média de quilometragem das motos da base de dados é de {:,.2f}'.format(media_km))\n",
    "\n",
    "# without outliers\n",
    "media_km = df3_clean['km_driven'].mean()\n",
    "print('A média de quilometragem das motos da base de dados, removendo outliers, é de {:,.2f}'.format(media_km))"
   ]
  },
  {
   "cell_type": "markdown",
   "id": "7f7eb48b",
   "metadata": {},
   "source": [
    "**13. Existem quantas motos dentro da base de dados que são motos de um único dono?**"
   ]
  },
  {
   "cell_type": "code",
   "execution_count": 43,
   "id": "fbdba3c8",
   "metadata": {
    "ExecuteTime": {
     "end_time": "2022-07-23T13:11:46.136651Z",
     "start_time": "2022-07-23T13:11:46.094489Z"
    },
    "hide_input": false
   },
   "outputs": [
    {
     "data": {
      "text/html": [
       "<div>\n",
       "<style scoped>\n",
       "    .dataframe tbody tr th:only-of-type {\n",
       "        vertical-align: middle;\n",
       "    }\n",
       "\n",
       "    .dataframe tbody tr th {\n",
       "        vertical-align: top;\n",
       "    }\n",
       "\n",
       "    .dataframe thead th {\n",
       "        text-align: right;\n",
       "    }\n",
       "</style>\n",
       "<table border=\"1\" class=\"dataframe\">\n",
       "  <thead>\n",
       "    <tr style=\"text-align: right;\">\n",
       "      <th></th>\n",
       "      <th>owner</th>\n",
       "      <th>qty_full_ds</th>\n",
       "      <th>qty_w/o_outliers</th>\n",
       "    </tr>\n",
       "  </thead>\n",
       "  <tbody>\n",
       "    <tr>\n",
       "      <th>0</th>\n",
       "      <td>1st</td>\n",
       "      <td>924</td>\n",
       "      <td>923</td>\n",
       "    </tr>\n",
       "    <tr>\n",
       "      <th>1</th>\n",
       "      <td>2nd</td>\n",
       "      <td>123</td>\n",
       "      <td>122</td>\n",
       "    </tr>\n",
       "    <tr>\n",
       "      <th>2</th>\n",
       "      <td>3rd</td>\n",
       "      <td>11</td>\n",
       "      <td>11</td>\n",
       "    </tr>\n",
       "    <tr>\n",
       "      <th>3</th>\n",
       "      <td>4th</td>\n",
       "      <td>3</td>\n",
       "      <td>2</td>\n",
       "    </tr>\n",
       "  </tbody>\n",
       "</table>\n",
       "</div>"
      ],
      "text/plain": [
       "  owner  qty_full_ds  qty_w/o_outliers\n",
       "0  1st           924               923\n",
       "1  2nd           123               122\n",
       "2  3rd            11                11\n",
       "3  4th             3                 2"
      ]
     },
     "execution_count": 43,
     "metadata": {},
     "output_type": "execute_result"
    }
   ],
   "source": [
    "\n",
    "aux = df3.loc[:,['owner','name']].groupby('owner').count().reset_index()\n",
    "aux1 = df3_clean.loc[:,['owner','name']].groupby('owner').count().reset_index()\n",
    "\n",
    "# merge ds with and without outliers\n",
    "aux2 = pd.merge(aux, aux1, how= 'left', on='owner')\n",
    "\n",
    "#rename coluns name\n",
    "aux2.rename(columns= {'name_x': 'qty_full_ds', 'name_y': 'qty_w/o_outliers'}, inplace= True)\n",
    "aux2"
   ]
  },
  {
   "cell_type": "markdown",
   "id": "01c4f0b7",
   "metadata": {},
   "source": [
    "**14. As motos com menor quilometragem são as motos mais baratas do Dataset?**"
   ]
  },
  {
   "cell_type": "code",
   "execution_count": 44,
   "id": "1824eb13",
   "metadata": {
    "ExecuteTime": {
     "end_time": "2022-07-23T13:11:49.820442Z",
     "start_time": "2022-07-23T13:11:49.438153Z"
    },
    "hide_input": false
   },
   "outputs": [
    {
     "data": {
      "image/png": "[encoded data removed]",
      "text/plain": [
       "<Figure size 1440x720 with 1 Axes>"
      ]
     },
     "metadata": {},
     "output_type": "display_data"
    }
   ],
   "source": [
    "aux1 = df3_clean.loc[:,['km_driven','selling_price']].groupby('km_driven').mean().reset_index()\n",
    "\n",
    "\n",
    "ax = sns.scatterplot(data = aux1, x = 'km_driven',  y = 'selling_price',  size = 'selling_price')\n",
    "\n",
    "ax.set(\n",
    "    title = 'Preço x Quilometragem',\n",
    "    xlabel = 'Quilometragem',\n",
    "    ylabel = 'Preço');\n"
   ]
  },
  {
   "cell_type": "markdown",
   "id": "2540b918",
   "metadata": {},
   "source": [
    "## 3.2 Segunda rodada de perguntas"
   ]
  },
  {
   "cell_type": "code",
   "execution_count": 45,
   "id": "002c3505",
   "metadata": {
    "ExecuteTime": {
     "end_time": "2022-07-23T13:11:51.816783Z",
     "start_time": "2022-07-23T13:11:51.810182Z"
    }
   },
   "outputs": [],
   "source": [
    "df32 = df3.copy()\n",
    "df32_clean = df3_clean.copy()"
   ]
  },
  {
   "cell_type": "markdown",
   "id": "17fa2f47",
   "metadata": {},
   "source": [
    "**1. As motos que possuiram somente 1 dono são as motos mais caras na média que as motos que tiveram mais donos?**"
   ]
  },
  {
   "cell_type": "code",
   "execution_count": 46,
   "id": "2123d355",
   "metadata": {
    "ExecuteTime": {
     "end_time": "2022-07-23T13:11:52.878547Z",
     "start_time": "2022-07-23T13:11:52.849050Z"
    },
    "scrolled": false
   },
   "outputs": [
    {
     "data": {
      "text/html": [
       "<div>\n",
       "<style scoped>\n",
       "    .dataframe tbody tr th:only-of-type {\n",
       "        vertical-align: middle;\n",
       "    }\n",
       "\n",
       "    .dataframe tbody tr th {\n",
       "        vertical-align: top;\n",
       "    }\n",
       "\n",
       "    .dataframe thead th {\n",
       "        text-align: right;\n",
       "    }\n",
       "</style>\n",
       "<table border=\"1\" class=\"dataframe\">\n",
       "  <thead>\n",
       "    <tr style=\"text-align: right;\">\n",
       "      <th></th>\n",
       "      <th>id</th>\n",
       "      <th>name</th>\n",
       "      <th>selling_price</th>\n",
       "      <th>year</th>\n",
       "      <th>seller_type</th>\n",
       "      <th>owner</th>\n",
       "      <th>km_driven</th>\n",
       "      <th>ex_showroom_price</th>\n",
       "      <th>in_showroom</th>\n",
       "    </tr>\n",
       "  </thead>\n",
       "  <tbody>\n",
       "    <tr>\n",
       "      <th>311</th>\n",
       "      <td>311</td>\n",
       "      <td>Harley-Davidson Street 750</td>\n",
       "      <td>330000.0</td>\n",
       "      <td>2014</td>\n",
       "      <td>individual</td>\n",
       "      <td>4th</td>\n",
       "      <td>6500</td>\n",
       "      <td>534000.0</td>\n",
       "      <td>1</td>\n",
       "    </tr>\n",
       "    <tr>\n",
       "      <th>642</th>\n",
       "      <td>642</td>\n",
       "      <td>TVS Apache RTR 160</td>\n",
       "      <td>15000.0</td>\n",
       "      <td>2009</td>\n",
       "      <td>individual</td>\n",
       "      <td>4th</td>\n",
       "      <td>880000</td>\n",
       "      <td>0.0</td>\n",
       "      <td>0</td>\n",
       "    </tr>\n",
       "    <tr>\n",
       "      <th>698</th>\n",
       "      <td>698</td>\n",
       "      <td>Hero Honda CBZ</td>\n",
       "      <td>10000.0</td>\n",
       "      <td>2000</td>\n",
       "      <td>individual</td>\n",
       "      <td>4th</td>\n",
       "      <td>48000</td>\n",
       "      <td>0.0</td>\n",
       "      <td>0</td>\n",
       "    </tr>\n",
       "  </tbody>\n",
       "</table>\n",
       "</div>"
      ],
      "text/plain": [
       "      id                        name  selling_price  year seller_type owner  km_driven  ex_showroom_price in_showroom\n",
       "311  311  Harley-Davidson Street 750       330000.0  2014  individual  4th        6500           534000.0           1\n",
       "642  642          TVS Apache RTR 160        15000.0  2009  individual  4th      880000                0.0           0\n",
       "698  698              Hero Honda CBZ        10000.0  2000  individual  4th       48000                0.0           0"
      ]
     },
     "execution_count": 46,
     "metadata": {},
     "output_type": "execute_result"
    }
   ],
   "source": [
    "# podemos ver que a linha do ID 311 está distorcendo a média de preços das moto que tiverem 4 donos.\n",
    "# optamos por remover essa linha do dataset para termos dados mais consistentes \n",
    "df32.loc[ df32['owner'] == '4th ', : ]"
   ]
  },
  {
   "cell_type": "code",
   "execution_count": 47,
   "id": "f4b3aac8",
   "metadata": {
    "ExecuteTime": {
     "end_time": "2022-07-23T13:11:54.632755Z",
     "start_time": "2022-07-23T13:11:54.604162Z"
    },
    "hide_input": true
   },
   "outputs": [
    {
     "data": {
      "text/html": [
       "<div>\n",
       "<style scoped>\n",
       "    .dataframe tbody tr th:only-of-type {\n",
       "        vertical-align: middle;\n",
       "    }\n",
       "\n",
       "    .dataframe tbody tr th {\n",
       "        vertical-align: top;\n",
       "    }\n",
       "\n",
       "    .dataframe thead th {\n",
       "        text-align: right;\n",
       "    }\n",
       "</style>\n",
       "<table border=\"1\" class=\"dataframe\">\n",
       "  <thead>\n",
       "    <tr style=\"text-align: right;\">\n",
       "      <th></th>\n",
       "      <th>owner</th>\n",
       "      <th>selling_price</th>\n",
       "    </tr>\n",
       "  </thead>\n",
       "  <tbody>\n",
       "    <tr>\n",
       "      <th>0</th>\n",
       "      <td>1st</td>\n",
       "      <td>60022.81</td>\n",
       "    </tr>\n",
       "    <tr>\n",
       "      <th>1</th>\n",
       "      <td>2nd</td>\n",
       "      <td>55666.66</td>\n",
       "    </tr>\n",
       "    <tr>\n",
       "      <th>2</th>\n",
       "      <td>3rd</td>\n",
       "      <td>55727.27</td>\n",
       "    </tr>\n",
       "    <tr>\n",
       "      <th>3</th>\n",
       "      <td>4th</td>\n",
       "      <td>12500.00</td>\n",
       "    </tr>\n",
       "  </tbody>\n",
       "</table>\n",
       "</div>"
      ],
      "text/plain": [
       "  owner  selling_price\n",
       "0  1st        60022.81\n",
       "1  2nd        55666.66\n",
       "2  3rd        55727.27\n",
       "3  4th        12500.00"
      ]
     },
     "execution_count": 47,
     "metadata": {},
     "output_type": "execute_result"
    }
   ],
   "source": [
    "# agrupamento - com a linha 311 removida\n",
    "aux = df32.loc[df32['id'] != 311 , :]\n",
    "aux2 = np.round(aux[['owner', 'selling_price']].groupby('owner').mean().reset_index(),2)\n",
    "aux2"
   ]
  },
  {
   "cell_type": "code",
   "execution_count": 48,
   "id": "dd019c28",
   "metadata": {
    "ExecuteTime": {
     "end_time": "2022-07-23T13:11:55.163963Z",
     "start_time": "2022-07-23T13:11:54.927818Z"
    },
    "hide_input": false
   },
   "outputs": [
    {
     "data": {
      "image/png": "[encoded data removed]",
      "text/plain": [
       "<Figure size 1440x720 with 1 Axes>"
      ]
     },
     "metadata": {},
     "output_type": "display_data"
    }
   ],
   "source": [
    "ax=sns.barplot(x='owner',y='selling_price', data=aux2 )\n",
    "plt.xticks(rotation=45)\n",
    "\n",
    "ax.bar_label(ax.containers[0])\n",
    "\n",
    "ax.set(\n",
    "    title= 'Média de preço por quantidade de donos',\n",
    "    xlabel= 'Donos',\n",
    "    ylabel= 'Preço');"
   ]
  },
  {
   "cell_type": "markdown",
   "id": "dfd4587e",
   "metadata": {},
   "source": [
    "**2. As motos que possuiram mais donos são as motos que possuem quilometragem média maior que as motos que possuiram menos donos?**"
   ]
  },
  {
   "cell_type": "code",
   "execution_count": 49,
   "id": "f8431e42",
   "metadata": {
    "ExecuteTime": {
     "end_time": "2022-07-23T13:11:57.669631Z",
     "start_time": "2022-07-23T13:11:57.655710Z"
    }
   },
   "outputs": [],
   "source": [
    "aux = df2[['owner', 'km_driven']].groupby('owner').mean().sort_values('km_driven', ascending=False).reset_index()"
   ]
  },
  {
   "cell_type": "code",
   "execution_count": 50,
   "id": "f04bdc2a",
   "metadata": {
    "ExecuteTime": {
     "end_time": "2022-07-23T13:11:59.607964Z",
     "start_time": "2022-07-23T13:11:59.376456Z"
    },
    "hide_input": true
   },
   "outputs": [
    {
     "data": {
      "image/png": "[encoded data removed]",
      "text/plain": [
       "<Figure size 1440x720 with 1 Axes>"
      ]
     },
     "metadata": {},
     "output_type": "display_data"
    }
   ],
   "source": [
    "ax=sns.barplot(x='owner',y='km_driven', data=aux)\n",
    "plt.xticks(rotation=45)\n",
    "\n",
    "ax.bar_label(ax.containers[0])\n",
    "\n",
    "ax.set(\n",
    "    title= 'Média de qiulêmtros por quantidade de donos',\n",
    "    xlabel= 'Donos',\n",
    "    ylabel= 'Quilometragem média');"
   ]
  },
  {
   "cell_type": "markdown",
   "id": "a62253e5",
   "metadata": {},
   "source": [
    "**3. As motos que possuiram mais donos são as motos mais velhas na média?**"
   ]
  },
  {
   "cell_type": "code",
   "execution_count": 51,
   "id": "842a9ba3",
   "metadata": {
    "ExecuteTime": {
     "end_time": "2022-07-23T13:12:02.039332Z",
     "start_time": "2022-07-23T13:12:02.024300Z"
    }
   },
   "outputs": [],
   "source": [
    "aux = np.round(df2[['owner', 'year']].groupby('owner').mean().sort_values('year', ascending=False).reset_index())"
   ]
  },
  {
   "cell_type": "code",
   "execution_count": 52,
   "id": "779f5dbd",
   "metadata": {
    "ExecuteTime": {
     "end_time": "2022-07-23T13:12:03.707224Z",
     "start_time": "2022-07-23T13:12:03.491524Z"
    },
    "hide_input": true
   },
   "outputs": [
    {
     "data": {
      "image/png": "[encoded data removed]",
      "text/plain": [
       "<Figure size 1440x720 with 1 Axes>"
      ]
     },
     "metadata": {},
     "output_type": "display_data"
    }
   ],
   "source": [
    "ax=sns.barplot(x='owner',y='year', data=aux)\n",
    "plt.xticks(rotation=45)\n",
    "ax.bar_label(ax.containers[0])\n",
    "plt.ylim(2000,2025)\n",
    "\n",
    "ax.set(\n",
    "    title= 'Media de ano das motos por quantidade de donos',\n",
    "    xlabel= 'Donos',\n",
    "    ylabel= 'Ano');"
   ]
  },
  {
   "cell_type": "markdown",
   "id": "086aef38",
   "metadata": {},
   "source": [
    "**4. As motos que são vendidas por revendedores são as motos mais caras na média do que as motos vendidas pelos seus donos?**"
   ]
  },
  {
   "cell_type": "code",
   "execution_count": 53,
   "id": "b4d9144a",
   "metadata": {
    "ExecuteTime": {
     "end_time": "2022-07-23T13:12:03.933037Z",
     "start_time": "2022-07-23T13:12:03.921015Z"
    }
   },
   "outputs": [],
   "source": [
    "aux = df2[['seller_type', 'selling_price']].groupby('seller_type').mean().sort_values('selling_price', ascending=False).reset_index()"
   ]
  },
  {
   "cell_type": "code",
   "execution_count": 54,
   "id": "994a97e6",
   "metadata": {
    "ExecuteTime": {
     "end_time": "2022-07-23T13:12:04.297085Z",
     "start_time": "2022-07-23T13:12:04.096685Z"
    },
    "hide_input": true
   },
   "outputs": [
    {
     "data": {
      "image/png": "[encoded data removed]",
      "text/plain": [
       "<Figure size 1440x720 with 1 Axes>"
      ]
     },
     "metadata": {},
     "output_type": "display_data"
    }
   ],
   "source": [
    "ax=sns.barplot(x='seller_type',y='selling_price', data=aux)\n",
    "plt.xticks(rotation=0)\n",
    "ax.bar_label(ax.containers[0])\n",
    "plt.ylim(0,80000)\n",
    "\n",
    "ax.set(\n",
    "    title= 'Média de preço de acordo com o tipo de vendedor',\n",
    "    xlabel= 'Tipo de vendedor',\n",
    "    ylabel= 'Média de preço');"
   ]
  },
  {
   "cell_type": "markdown",
   "id": "43651ae9",
   "metadata": {},
   "source": [
    "**5. O CEO lhe entregou um novo dataset chamado companies.csv, onde estão todas as fabricantes de motocicletas. Adicione uma coluna no DataFrame com o nome de company. Essa coluna deve possuir o nome do fabricante de cada moto do DataFrame.**"
   ]
  },
  {
   "cell_type": "code",
   "execution_count": 55,
   "id": "d4deb92a",
   "metadata": {
    "ExecuteTime": {
     "end_time": "2022-07-23T13:12:05.717201Z",
     "start_time": "2022-07-23T13:12:05.709769Z"
    }
   },
   "outputs": [],
   "source": [
    "#import of new dataset \n",
    "df_companies = pd.read_csv('../fund_prog_project/data/csv/companies.csv', index_col=0)"
   ]
  },
  {
   "cell_type": "code",
   "execution_count": 56,
   "id": "10434e7d",
   "metadata": {
    "ExecuteTime": {
     "end_time": "2022-07-23T13:12:06.437750Z",
     "start_time": "2022-07-23T13:12:06.432031Z"
    }
   },
   "outputs": [],
   "source": [
    "companies_list = df_companies.values.tolist()\n",
    "flat_list = []\n",
    "for xs in companies_list:\n",
    "    for x in xs:\n",
    "        flat_list.append(x)\n"
   ]
  },
  {
   "cell_type": "code",
   "execution_count": 57,
   "id": "d7d70e70",
   "metadata": {
    "ExecuteTime": {
     "end_time": "2022-07-23T13:12:07.576203Z",
     "start_time": "2022-07-23T13:12:07.428293Z"
    }
   },
   "outputs": [
    {
     "name": "stderr",
     "output_type": "stream",
     "text": [
      "/tmp/ipykernel_7464/1954197421.py:9: SettingWithCopyWarning: \n",
      "A value is trying to be set on a copy of a slice from a DataFrame.\n",
      "Try using .loc[row_indexer,col_indexer] = value instead\n",
      "\n",
      "See the caveats in the documentation: https://pandas.pydata.org/pandas-docs/stable/user_guide/indexing.html#returning-a-view-versus-a-copy\n",
      "  for i in flat_list: df_aux2['company'] = np.where(df_aux2['name'].str.contains(i),i, df_aux2['company'] ) # funciona\n"
     ]
    }
   ],
   "source": [
    "# setando marca hero honda\n",
    "df32['company'] = df32['name'].apply(lambda x:'Hero Honda' if x.split()[1] == 'Honda' else  1 ) # funciona\n",
    "\n",
    "#separando motos da marca hero honda em outro dataset\n",
    "df_aux = df32.loc[ df32['company'] == \"Hero Honda\", :]\n",
    "df_aux2 = df32[df32['company'] != \"Hero Honda\"]\n",
    "\n",
    "# # setando as marcas das demais motos\n",
    "for i in flat_list: df_aux2['company'] = np.where(df_aux2['name'].str.contains(i),i, df_aux2['company'] ) # funciona\n",
    "    \n",
    "# # merge dos 2 data sets \n",
    "\n",
    "df_r = pd.concat([df_aux2, df_aux])\n",
    "\n",
    "df_r.drop('in_showroom', inplace=True, axis=1)\n",
    "\n",
    "# # # Converting Activa to Honda\n",
    "# # df32['company'] = np.where(df32['company'].str.startswith('Activa'),'Honda', df32['company'] )"
   ]
  },
  {
   "cell_type": "markdown",
   "id": "839b3b79",
   "metadata": {},
   "source": [
    "**6. Crie um novo dataset chamado bikes_completed.csv a partir do DataFrame com a coluna company preenchida.**"
   ]
  },
  {
   "cell_type": "code",
   "execution_count": 60,
   "id": "cdbbb564",
   "metadata": {
    "ExecuteTime": {
     "end_time": "2022-07-23T13:12:33.055386Z",
     "start_time": "2022-07-23T13:12:33.034396Z"
    }
   },
   "outputs": [],
   "source": [
    "# criação do CSV\n",
    "df_r.to_csv('data/bikes_completed.csv',index=False)\n",
    "\n",
    "# teste de criação...\n",
    "df4 = pd.read_csv('data/bikes_completed.csv')"
   ]
  },
  {
   "cell_type": "markdown",
   "id": "74341263",
   "metadata": {
    "ExecuteTime": {
     "end_time": "2022-07-20T22:04:58.805977Z",
     "start_time": "2022-07-20T22:04:58.780719Z"
    }
   },
   "source": [
    "**7. Quais são so fabricantes que mais possuem motos cadastradas na base de dados completa?**"
   ]
  },
  {
   "cell_type": "code",
   "execution_count": 61,
   "id": "fba0d5cd",
   "metadata": {
    "ExecuteTime": {
     "end_time": "2022-07-23T13:12:35.866983Z",
     "start_time": "2022-07-23T13:12:35.434293Z"
    }
   },
   "outputs": [
    {
     "data": {
      "image/png": "[encoded data removed]",
      "text/plain": [
       "<Figure size 1440x720 with 1 Axes>"
      ]
     },
     "metadata": {},
     "output_type": "display_data"
    }
   ],
   "source": [
    "aux = df4[['company', 'id']].groupby('company').count().sort_values('id', ascending=False).reset_index()\n",
    "\n",
    "ax=sns.barplot(x='company', y='id', data=aux)\n",
    "\n",
    "plt.xticks(rotation=45)\n",
    "\n",
    "ax.bar_label(ax.containers[0])\n",
    "\n",
    "ax.set(\n",
    "    title= 'Número de motos por Fabricante',\n",
    "    xlabel= 'Fabricante',\n",
    "    ylabel= 'Contagem');"
   ]
  },
  {
   "cell_type": "markdown",
   "id": "ace74a2c",
   "metadata": {
    "ExecuteTime": {
     "end_time": "2022-07-22T19:51:25.946841Z",
     "start_time": "2022-07-22T19:51:25.936352Z"
    }
   },
   "source": [
    "#  4.0 TERCEIRA RODADA DE PERGUNTAS"
   ]
  },
  {
   "cell_type": "markdown",
   "id": "160ab43e",
   "metadata": {
    "ExecuteTime": {
     "end_time": "2022-07-22T19:51:25.946841Z",
     "start_time": "2022-07-22T19:51:25.936352Z"
    }
   },
   "source": [
    "**1. Ajustar a coluna `name` para que ela fique somente com o nome da moto.**"
   ]
  },
  {
   "cell_type": "code",
   "execution_count": 62,
   "id": "ecbb2e97",
   "metadata": {
    "ExecuteTime": {
     "end_time": "2022-07-23T13:12:38.815440Z",
     "start_time": "2022-07-23T13:12:38.783302Z"
    }
   },
   "outputs": [
    {
     "data": {
      "text/html": [
       "<div>\n",
       "<style scoped>\n",
       "    .dataframe tbody tr th:only-of-type {\n",
       "        vertical-align: middle;\n",
       "    }\n",
       "\n",
       "    .dataframe tbody tr th {\n",
       "        vertical-align: top;\n",
       "    }\n",
       "\n",
       "    .dataframe thead th {\n",
       "        text-align: right;\n",
       "    }\n",
       "</style>\n",
       "<table border=\"1\" class=\"dataframe\">\n",
       "  <thead>\n",
       "    <tr style=\"text-align: right;\">\n",
       "      <th></th>\n",
       "      <th>id</th>\n",
       "      <th>name</th>\n",
       "      <th>selling_price</th>\n",
       "      <th>year</th>\n",
       "      <th>seller_type</th>\n",
       "      <th>owner</th>\n",
       "      <th>km_driven</th>\n",
       "      <th>ex_showroom_price</th>\n",
       "      <th>company</th>\n",
       "    </tr>\n",
       "  </thead>\n",
       "  <tbody>\n",
       "    <tr>\n",
       "      <th>0</th>\n",
       "      <td>0</td>\n",
       "      <td>Royal Enfield Classic 350</td>\n",
       "      <td>175000.0</td>\n",
       "      <td>2019</td>\n",
       "      <td>individual</td>\n",
       "      <td>1st</td>\n",
       "      <td>350</td>\n",
       "      <td>0.0</td>\n",
       "      <td>Royal Enfield</td>\n",
       "    </tr>\n",
       "    <tr>\n",
       "      <th>1</th>\n",
       "      <td>1</td>\n",
       "      <td>Honda Dio</td>\n",
       "      <td>45000.0</td>\n",
       "      <td>2017</td>\n",
       "      <td>individual</td>\n",
       "      <td>1st</td>\n",
       "      <td>5650</td>\n",
       "      <td>0.0</td>\n",
       "      <td>Honda</td>\n",
       "    </tr>\n",
       "    <tr>\n",
       "      <th>2</th>\n",
       "      <td>2</td>\n",
       "      <td>Royal Enfield Classic Gunmetal Grey</td>\n",
       "      <td>150000.0</td>\n",
       "      <td>2018</td>\n",
       "      <td>individual</td>\n",
       "      <td>1st</td>\n",
       "      <td>12000</td>\n",
       "      <td>148114.0</td>\n",
       "      <td>Royal Enfield</td>\n",
       "    </tr>\n",
       "    <tr>\n",
       "      <th>3</th>\n",
       "      <td>3</td>\n",
       "      <td>Yamaha Fazer FI V 2.0 [2016-2018]</td>\n",
       "      <td>65000.0</td>\n",
       "      <td>2015</td>\n",
       "      <td>individual</td>\n",
       "      <td>1st</td>\n",
       "      <td>23000</td>\n",
       "      <td>89643.0</td>\n",
       "      <td>Yamaha</td>\n",
       "    </tr>\n",
       "    <tr>\n",
       "      <th>4</th>\n",
       "      <td>4</td>\n",
       "      <td>Yamaha SZ [2013-2014]</td>\n",
       "      <td>20000.0</td>\n",
       "      <td>2011</td>\n",
       "      <td>individual</td>\n",
       "      <td>2nd</td>\n",
       "      <td>21000</td>\n",
       "      <td>0.0</td>\n",
       "      <td>Yamaha</td>\n",
       "    </tr>\n",
       "  </tbody>\n",
       "</table>\n",
       "</div>"
      ],
      "text/plain": [
       "   id                                 name  selling_price  year seller_type owner  km_driven  ex_showroom_price        company\n",
       "0   0            Royal Enfield Classic 350       175000.0  2019  individual  1st         350                0.0  Royal Enfield\n",
       "1   1                            Honda Dio        45000.0  2017  individual  1st        5650                0.0          Honda\n",
       "2   2  Royal Enfield Classic Gunmetal Grey       150000.0  2018  individual  1st       12000           148114.0  Royal Enfield\n",
       "3   3    Yamaha Fazer FI V 2.0 [2016-2018]        65000.0  2015  individual  1st       23000            89643.0         Yamaha\n",
       "4   4                Yamaha SZ [2013-2014]        20000.0  2011  individual  2nd       21000                0.0         Yamaha"
      ]
     },
     "execution_count": 62,
     "metadata": {},
     "output_type": "execute_result"
    }
   ],
   "source": [
    "df4.head() "
   ]
  },
  {
   "cell_type": "code",
   "execution_count": 71,
   "id": "cec071fe",
   "metadata": {
    "ExecuteTime": {
     "end_time": "2022-07-23T13:14:41.220024Z",
     "start_time": "2022-07-23T13:14:40.924444Z"
    },
    "scrolled": true
   },
   "outputs": [
    {
     "name": "stderr",
     "output_type": "stream",
     "text": [
      "/tmp/ipykernel_7464/3941694454.py:7: FutureWarning: The default value of regex will change from True to False in a future version. In addition, single character regular expressions will *not* be treated as literal strings when regex=True.\n",
      "  df4['year_model'] = df4['year_model'].str.replace(']','')\n"
     ]
    }
   ],
   "source": [
    "# deixando somente o nome da moto, e ano do modelo da moto no campo name\n",
    "for i in range( len( df4 )):\n",
    "    df4.loc[i,'name'] = df4.loc[i,'name'].strip(df4.loc[i,'company'])\n",
    " \n",
    "    \n",
    "df4['year_model'] = df4['name'].str.split('[', expand=True)[1]\n",
    "df4['year_model'] = df4['year_model'].str.replace(']','')\n",
    "\n",
    "for i in range( len( df4 )):\n",
    "    df4.loc[i,'name'] = df4.loc[i,'name'].split(r'[')[0]\n",
    "    \n"
   ]
  },
  {
   "cell_type": "code",
   "execution_count": 72,
   "id": "b407a674",
   "metadata": {
    "ExecuteTime": {
     "end_time": "2022-07-23T13:14:43.675865Z",
     "start_time": "2022-07-23T13:14:43.669429Z"
    }
   },
   "outputs": [],
   "source": [
    "df4.fillna(\"\",inplace=True)"
   ]
  },
  {
   "cell_type": "code",
   "execution_count": 73,
   "id": "3c93e88a",
   "metadata": {
    "ExecuteTime": {
     "end_time": "2022-07-23T13:14:43.975815Z",
     "start_time": "2022-07-23T13:14:43.939300Z"
    }
   },
   "outputs": [
    {
     "data": {
      "text/html": [
       "<div>\n",
       "<style scoped>\n",
       "    .dataframe tbody tr th:only-of-type {\n",
       "        vertical-align: middle;\n",
       "    }\n",
       "\n",
       "    .dataframe tbody tr th {\n",
       "        vertical-align: top;\n",
       "    }\n",
       "\n",
       "    .dataframe thead th {\n",
       "        text-align: right;\n",
       "    }\n",
       "</style>\n",
       "<table border=\"1\" class=\"dataframe\">\n",
       "  <thead>\n",
       "    <tr style=\"text-align: right;\">\n",
       "      <th></th>\n",
       "      <th>id</th>\n",
       "      <th>name</th>\n",
       "      <th>selling_price</th>\n",
       "      <th>year</th>\n",
       "      <th>seller_type</th>\n",
       "      <th>owner</th>\n",
       "      <th>km_driven</th>\n",
       "      <th>ex_showroom_price</th>\n",
       "      <th>company</th>\n",
       "      <th>year_model</th>\n",
       "    </tr>\n",
       "  </thead>\n",
       "  <tbody>\n",
       "    <tr>\n",
       "      <th>0</th>\n",
       "      <td>0</td>\n",
       "      <td>Classic 350</td>\n",
       "      <td>175000.0</td>\n",
       "      <td>2019</td>\n",
       "      <td>individual</td>\n",
       "      <td>1st</td>\n",
       "      <td>350</td>\n",
       "      <td>0.0</td>\n",
       "      <td>Royal Enfield</td>\n",
       "      <td></td>\n",
       "    </tr>\n",
       "    <tr>\n",
       "      <th>1</th>\n",
       "      <td>1</td>\n",
       "      <td>Di</td>\n",
       "      <td>45000.0</td>\n",
       "      <td>2017</td>\n",
       "      <td>individual</td>\n",
       "      <td>1st</td>\n",
       "      <td>5650</td>\n",
       "      <td>0.0</td>\n",
       "      <td>Honda</td>\n",
       "      <td></td>\n",
       "    </tr>\n",
       "    <tr>\n",
       "      <th>2</th>\n",
       "      <td>2</td>\n",
       "      <td>Classic Gunmetal Gr</td>\n",
       "      <td>150000.0</td>\n",
       "      <td>2018</td>\n",
       "      <td>individual</td>\n",
       "      <td>1st</td>\n",
       "      <td>12000</td>\n",
       "      <td>148114.0</td>\n",
       "      <td>Royal Enfield</td>\n",
       "      <td></td>\n",
       "    </tr>\n",
       "    <tr>\n",
       "      <th>3</th>\n",
       "      <td>3</td>\n",
       "      <td>Fazer FI V 2.0</td>\n",
       "      <td>65000.0</td>\n",
       "      <td>2015</td>\n",
       "      <td>individual</td>\n",
       "      <td>1st</td>\n",
       "      <td>23000</td>\n",
       "      <td>89643.0</td>\n",
       "      <td>Yamaha</td>\n",
       "      <td>2016-2018</td>\n",
       "    </tr>\n",
       "    <tr>\n",
       "      <th>4</th>\n",
       "      <td>4</td>\n",
       "      <td>SZ</td>\n",
       "      <td>20000.0</td>\n",
       "      <td>2011</td>\n",
       "      <td>individual</td>\n",
       "      <td>2nd</td>\n",
       "      <td>21000</td>\n",
       "      <td>0.0</td>\n",
       "      <td>Yamaha</td>\n",
       "      <td>2013-2014</td>\n",
       "    </tr>\n",
       "    <tr>\n",
       "      <th>5</th>\n",
       "      <td>5</td>\n",
       "      <td>CB Twister</td>\n",
       "      <td>18000.0</td>\n",
       "      <td>2010</td>\n",
       "      <td>individual</td>\n",
       "      <td>1st</td>\n",
       "      <td>60000</td>\n",
       "      <td>53857.0</td>\n",
       "      <td>Honda</td>\n",
       "      <td></td>\n",
       "    </tr>\n",
       "    <tr>\n",
       "      <th>6</th>\n",
       "      <td>6</td>\n",
       "      <td>CB Hornet 160R</td>\n",
       "      <td>78500.0</td>\n",
       "      <td>2018</td>\n",
       "      <td>individual</td>\n",
       "      <td>1st</td>\n",
       "      <td>17000</td>\n",
       "      <td>87719.0</td>\n",
       "      <td>Honda</td>\n",
       "      <td></td>\n",
       "    </tr>\n",
       "    <tr>\n",
       "      <th>7</th>\n",
       "      <td>7</td>\n",
       "      <td>Bullet 350</td>\n",
       "      <td>180000.0</td>\n",
       "      <td>2008</td>\n",
       "      <td>individual</td>\n",
       "      <td>2nd</td>\n",
       "      <td>39000</td>\n",
       "      <td>0.0</td>\n",
       "      <td>Royal Enfield</td>\n",
       "      <td>2007-2011</td>\n",
       "    </tr>\n",
       "    <tr>\n",
       "      <th>8</th>\n",
       "      <td>9</td>\n",
       "      <td>Discover 125</td>\n",
       "      <td>50000.0</td>\n",
       "      <td>2016</td>\n",
       "      <td>individual</td>\n",
       "      <td>1st</td>\n",
       "      <td>42000</td>\n",
       "      <td>60122.0</td>\n",
       "      <td>Bajaj</td>\n",
       "      <td></td>\n",
       "    </tr>\n",
       "    <tr>\n",
       "      <th>9</th>\n",
       "      <td>10</td>\n",
       "      <td>FZ16</td>\n",
       "      <td>35000.0</td>\n",
       "      <td>2015</td>\n",
       "      <td>individual</td>\n",
       "      <td>1st</td>\n",
       "      <td>32000</td>\n",
       "      <td>78712.0</td>\n",
       "      <td>Yamaha</td>\n",
       "      <td></td>\n",
       "    </tr>\n",
       "  </tbody>\n",
       "</table>\n",
       "</div>"
      ],
      "text/plain": [
       "   id                 name  selling_price  year seller_type owner  km_driven  ex_showroom_price        company year_model\n",
       "0   0          Classic 350       175000.0  2019  individual  1st         350                0.0  Royal Enfield           \n",
       "1   1                   Di        45000.0  2017  individual  1st        5650                0.0          Honda           \n",
       "2   2  Classic Gunmetal Gr       150000.0  2018  individual  1st       12000           148114.0  Royal Enfield           \n",
       "3   3      Fazer FI V 2.0         65000.0  2015  individual  1st       23000            89643.0         Yamaha  2016-2018\n",
       "4   4                  SZ         20000.0  2011  individual  2nd       21000                0.0         Yamaha  2013-2014\n",
       "5   5           CB Twister        18000.0  2010  individual  1st       60000            53857.0          Honda           \n",
       "6   6       CB Hornet 160R        78500.0  2018  individual  1st       17000            87719.0          Honda           \n",
       "7   7          Bullet 350        180000.0  2008  individual  2nd       39000                0.0  Royal Enfield  2007-2011\n",
       "8   9         Discover 125        50000.0  2016  individual  1st       42000            60122.0          Bajaj           \n",
       "9  10                 FZ16        35000.0  2015  individual  1st       32000            78712.0         Yamaha           "
      ]
     },
     "execution_count": 73,
     "metadata": {},
     "output_type": "execute_result"
    }
   ],
   "source": [
    "df4.head(10)\n"
   ]
  },
  {
   "cell_type": "code",
   "execution_count": null,
   "id": "ad28ad82",
   "metadata": {},
   "outputs": [],
   "source": []
  },
  {
   "cell_type": "markdown",
   "id": "1b0d7e5e",
   "metadata": {
    "ExecuteTime": {
     "end_time": "2022-07-23T13:20:15.094413Z",
     "start_time": "2022-07-23T13:20:15.082873Z"
    }
   },
   "source": [
    "**2. Qual das fabricantes possui o maior preço médio de suas motos?**"
   ]
  },
  {
   "cell_type": "code",
   "execution_count": 158,
   "id": "3800aa1b",
   "metadata": {
    "ExecuteTime": {
     "end_time": "2022-07-23T14:14:52.986676Z",
     "start_time": "2022-07-23T14:14:52.967114Z"
    }
   },
   "outputs": [
    {
     "data": {
      "text/html": [
       "<div>\n",
       "<style scoped>\n",
       "    .dataframe tbody tr th:only-of-type {\n",
       "        vertical-align: middle;\n",
       "    }\n",
       "\n",
       "    .dataframe tbody tr th {\n",
       "        vertical-align: top;\n",
       "    }\n",
       "\n",
       "    .dataframe thead th {\n",
       "        text-align: right;\n",
       "    }\n",
       "</style>\n",
       "<table border=\"1\" class=\"dataframe\">\n",
       "  <thead>\n",
       "    <tr style=\"text-align: right;\">\n",
       "      <th></th>\n",
       "      <th>id</th>\n",
       "      <th>name</th>\n",
       "      <th>selling_price</th>\n",
       "      <th>year</th>\n",
       "      <th>seller_type</th>\n",
       "      <th>owner</th>\n",
       "      <th>km_driven</th>\n",
       "      <th>ex_showroom_price</th>\n",
       "      <th>company</th>\n",
       "      <th>year_model</th>\n",
       "    </tr>\n",
       "  </thead>\n",
       "  <tbody>\n",
       "    <tr>\n",
       "      <th>124</th>\n",
       "      <td>134</td>\n",
       "      <td>Street Bob</td>\n",
       "      <td>750000.0</td>\n",
       "      <td>2013</td>\n",
       "      <td>individual</td>\n",
       "      <td>2nd</td>\n",
       "      <td>12000</td>\n",
       "      <td>1278000.0</td>\n",
       "      <td>Harley-Davidson</td>\n",
       "      <td></td>\n",
       "    </tr>\n",
       "    <tr>\n",
       "      <th>290</th>\n",
       "      <td>311</td>\n",
       "      <td>Street 750</td>\n",
       "      <td>330000.0</td>\n",
       "      <td>2014</td>\n",
       "      <td>individual</td>\n",
       "      <td>4th</td>\n",
       "      <td>6500</td>\n",
       "      <td>534000.0</td>\n",
       "      <td>Harley-Davidson</td>\n",
       "      <td></td>\n",
       "    </tr>\n",
       "  </tbody>\n",
       "</table>\n",
       "</div>"
      ],
      "text/plain": [
       "      id         name  selling_price  year seller_type owner  km_driven  ex_showroom_price          company year_model\n",
       "124  134   Street Bob       750000.0  2013  individual  2nd       12000          1278000.0  Harley-Davidson           \n",
       "290  311   Street 750       330000.0  2014  individual  4th        6500           534000.0  Harley-Davidson           "
      ]
     },
     "execution_count": 158,
     "metadata": {},
     "output_type": "execute_result"
    }
   ],
   "source": [
    "df4.loc[df4[ 'company'] == 'Harley-Davidson', :]"
   ]
  },
  {
   "cell_type": "code",
   "execution_count": 152,
   "id": "94bd1c32",
   "metadata": {
    "ExecuteTime": {
     "end_time": "2022-07-23T14:02:44.338250Z",
     "start_time": "2022-07-23T14:02:43.872051Z"
    }
   },
   "outputs": [
    {
     "data": {
      "image/png": "[encoded data removed]",
      "text/plain": [
       "<Figure size 1440x720 with 1 Axes>"
      ]
     },
     "metadata": {},
     "output_type": "display_data"
    }
   ],
   "source": [
    "aux  = np.round(df4[['company','selling_price',]].groupby('company').mean().sort_values('selling_price', ascending=False ).reset_index(),2)\n",
    "\n",
    "ax = sns.barplot(x='company', y='selling_price', data=aux)\n",
    "\n",
    "plt.xticks(rotation=45)\n",
    "fmt = 'R$%.f'\n",
    "\n",
    "ax.bar_label(ax.containers[0], fmt=fmt, rotation =30)\n",
    "\n",
    "ax.set(\n",
    "    title= 'Número de motos por Fabricante',\n",
    "    xlabel= 'Fabricante',\n",
    "    ylabel= 'Preço');"
   ]
  },
  {
   "cell_type": "markdown",
   "id": "b93d16c6",
   "metadata": {},
   "source": [
    "**3. Qual o fabricante que possui a moto com o maior quilometragem?**"
   ]
  },
  {
   "cell_type": "code",
   "execution_count": 188,
   "id": "49a6c06b",
   "metadata": {
    "ExecuteTime": {
     "end_time": "2022-07-23T14:54:34.792426Z",
     "start_time": "2022-07-23T14:54:34.775782Z"
    }
   },
   "outputs": [
    {
     "name": "stdout",
     "output_type": "stream",
     "text": [
      "A fabricante com a moto com maior quilometragem é a Yo\n"
     ]
    }
   ],
   "source": [
    "aux1 = df4.loc[df4['km_driven']!= 880000, :]\n",
    "\n",
    "aux = aux1[['company','km_driven']].max()\n",
    "maior_km = aux['company']\n",
    "print(f'A fabricante com a moto com maior quilometragem é a {maior_km}')"
   ]
  },
  {
   "cell_type": "markdown",
   "id": "f42af079",
   "metadata": {},
   "source": [
    "**4. Qual o fabricante que possui a moto mais velha?**"
   ]
  },
  {
   "cell_type": "code",
   "execution_count": 191,
   "id": "89d0e9a2",
   "metadata": {
    "ExecuteTime": {
     "end_time": "2022-07-23T15:03:26.180537Z",
     "start_time": "2022-07-23T15:03:26.169005Z"
    }
   },
   "outputs": [
    {
     "name": "stdout",
     "output_type": "stream",
     "text": [
      "A moto mais velha disponível é da fabricante Activa e é do ano 1988\n"
     ]
    }
   ],
   "source": [
    "aux = df4[['company', 'year']].min()\n",
    "fab = aux['company']\n",
    "mais_velha = aux['year']\n",
    "print(f'A moto mais velha disponível é da fabricante {fab} e é do ano {mais_velha}')"
   ]
  },
  {
   "cell_type": "markdown",
   "id": "399f19bc",
   "metadata": {
    "ExecuteTime": {
     "end_time": "2022-07-23T14:27:29.325069Z",
     "start_time": "2022-07-23T14:27:29.318737Z"
    }
   },
   "source": [
    "**3. Qual o fabricante que possui a moto com o maior quilometragem?**"
   ]
  },
  {
   "cell_type": "markdown",
   "id": "b15af1f2",
   "metadata": {
    "ExecuteTime": {
     "end_time": "2022-07-23T15:03:46.897304Z",
     "start_time": "2022-07-23T15:03:46.883367Z"
    }
   },
   "source": [
    "**4. O fabricante que possui a moto mais cara do Dataset é também o fabricante que possui menos motos cadastradas?**\n"
   ]
  },
  {
   "cell_type": "code",
   "execution_count": 210,
   "id": "3e1fb1d8",
   "metadata": {
    "ExecuteTime": {
     "end_time": "2022-07-23T15:12:46.199664Z",
     "start_time": "2022-07-23T15:12:46.180300Z"
    }
   },
   "outputs": [
    {
     "data": {
      "text/html": [
       "<div>\n",
       "<style scoped>\n",
       "    .dataframe tbody tr th:only-of-type {\n",
       "        vertical-align: middle;\n",
       "    }\n",
       "\n",
       "    .dataframe tbody tr th {\n",
       "        vertical-align: top;\n",
       "    }\n",
       "\n",
       "    .dataframe thead th {\n",
       "        text-align: right;\n",
       "    }\n",
       "</style>\n",
       "<table border=\"1\" class=\"dataframe\">\n",
       "  <thead>\n",
       "    <tr style=\"text-align: right;\">\n",
       "      <th></th>\n",
       "      <th>id</th>\n",
       "    </tr>\n",
       "    <tr>\n",
       "      <th>company</th>\n",
       "      <th></th>\n",
       "    </tr>\n",
       "  </thead>\n",
       "  <tbody>\n",
       "    <tr>\n",
       "      <th>Yo</th>\n",
       "      <td>1</td>\n",
       "    </tr>\n",
       "    <tr>\n",
       "      <th>BMW</th>\n",
       "      <td>1</td>\n",
       "    </tr>\n",
       "    <tr>\n",
       "      <th>Benelli</th>\n",
       "      <td>1</td>\n",
       "    </tr>\n",
       "    <tr>\n",
       "      <th>Hyosung</th>\n",
       "      <td>1</td>\n",
       "    </tr>\n",
       "  </tbody>\n",
       "</table>\n",
       "</div>"
      ],
      "text/plain": [
       "         id\n",
       "company    \n",
       "Yo        1\n",
       "BMW       1\n",
       "Benelli   1\n",
       "Hyosung   1"
      ]
     },
     "execution_count": 210,
     "metadata": {},
     "output_type": "execute_result"
    }
   ],
   "source": [
    "aux = df4[['company','selling_price']].max()\n",
    "mais_cara = aux['selling_price']\n",
    "fab_mais_cara = aux['company']\n",
    "\n",
    "aux2 = df4[['company','id']].groupby('company').count().sort_values('id')\n",
    "aux2.loc[aux2['id'] == 1,:]"
   ]
  },
  {
   "cell_type": "code",
   "execution_count": 211,
   "id": "44604800",
   "metadata": {
    "ExecuteTime": {
     "end_time": "2022-07-23T15:14:14.960186Z",
     "start_time": "2022-07-23T15:14:14.953469Z"
    }
   },
   "outputs": [
    {
     "name": "stdout",
     "output_type": "stream",
     "text": [
      "A fabricante que possui a moto mais cada é a Yo,e o valor é de 760000.0\n"
     ]
    }
   ],
   "source": [
    "print(f'A fabricante que possui a moto mais cada é a {fab_mais_cara},e o valor é de {mais_cara}' )"
   ]
  },
  {
   "cell_type": "markdown",
   "id": "efdebe00",
   "metadata": {},
   "source": [
    "**6. Qual o fabricante que possui a menor variação de valor de venda?**"
   ]
  },
  {
   "cell_type": "code",
   "execution_count": 316,
   "id": "44efef83",
   "metadata": {
    "ExecuteTime": {
     "end_time": "2022-07-23T15:53:11.523840Z",
     "start_time": "2022-07-23T15:53:11.491927Z"
    }
   },
   "outputs": [
    {
     "name": "stdout",
     "output_type": "stream",
     "text": [
      " A fabricante com menor variação entre os preços de venda é a Activa, com uma variação de R$10000.0\n"
     ]
    }
   ],
   "source": [
    "aux = (df4[['selling_price','company']].groupby(['company']).max() - df4[['selling_price','company']].groupby(['company']).min()).reset_index()\n",
    "aux1 = aux.loc[aux['selling_price']>0].min()\n",
    "menor_variacao = aux1['selling_price']\n",
    "fab_menor_variacao = aux1['company']\n",
    "print(f' A fabricante com menor variação entre os preços de venda é a {fab_menor_variacao}, com uma variação de R${menor_variacao}')"
   ]
  },
  {
   "cell_type": "code",
   "execution_count": null,
   "id": "8757fd63",
   "metadata": {},
   "outputs": [],
   "source": [
    "7. Quais motos eu devo comprar? \n",
    "   - Leve em conta que eu desejo motos com no máximo 3 anos de uso; no máximo 40 mil quilometros rodados; que sejam de um único dono; que estejam sendo vendidas por possoas físicas e que tenham o valor pretendido de venda menor que o valor do showroom. Envie um relatório contendo o modelo, preço de venda, quilometro rodado e ano, ordenado por valor de venda de forma decrescente para o meu e-mail."
   ]
  },
  {
   "cell_type": "code",
   "execution_count": 356,
   "id": "001d9969",
   "metadata": {
    "ExecuteTime": {
     "end_time": "2022-07-23T16:22:00.792384Z",
     "start_time": "2022-07-23T16:22:00.765664Z"
    }
   },
   "outputs": [],
   "source": [
    "aux = df4.loc[(df4['km_driven'] <= 40000) & (df4['owner'] == '1st ') & (df4['seller_type'] == 'individual') & (df4['selling_price'] < df4['ex_showroom_price']) ]\n",
    "df_final = aux[['name', 'selling_price','km_driven','year']].sort_values('selling_price', ascending = False).reset_index(drop=True)\n",
    "df_final.to_csv('data/Relatorio_motos.csv', index=False)\n"
   ]
  },
  {
   "cell_type": "code",
   "execution_count": 325,
   "id": "b404dff9",
   "metadata": {
    "ExecuteTime": {
     "end_time": "2022-07-23T16:00:34.626947Z",
     "start_time": "2022-07-23T16:00:34.602749Z"
    },
    "scrolled": true
   },
   "outputs": [
    {
     "data": {
      "text/html": [
       "<div>\n",
       "<style scoped>\n",
       "    .dataframe tbody tr th:only-of-type {\n",
       "        vertical-align: middle;\n",
       "    }\n",
       "\n",
       "    .dataframe tbody tr th {\n",
       "        vertical-align: top;\n",
       "    }\n",
       "\n",
       "    .dataframe thead th {\n",
       "        text-align: right;\n",
       "    }\n",
       "</style>\n",
       "<table border=\"1\" class=\"dataframe\">\n",
       "  <thead>\n",
       "    <tr style=\"text-align: right;\">\n",
       "      <th></th>\n",
       "      <th>id</th>\n",
       "      <th>name</th>\n",
       "      <th>selling_price</th>\n",
       "      <th>year</th>\n",
       "      <th>seller_type</th>\n",
       "      <th>owner</th>\n",
       "      <th>km_driven</th>\n",
       "      <th>ex_showroom_price</th>\n",
       "      <th>company</th>\n",
       "      <th>year_model</th>\n",
       "    </tr>\n",
       "  </thead>\n",
       "  <tbody>\n",
       "    <tr>\n",
       "      <th>0</th>\n",
       "      <td>0</td>\n",
       "      <td>Classic 350</td>\n",
       "      <td>175000.0</td>\n",
       "      <td>2019</td>\n",
       "      <td>individual</td>\n",
       "      <td>1st</td>\n",
       "      <td>350</td>\n",
       "      <td>0.0</td>\n",
       "      <td>Royal Enfield</td>\n",
       "      <td></td>\n",
       "    </tr>\n",
       "    <tr>\n",
       "      <th>1</th>\n",
       "      <td>1</td>\n",
       "      <td>Di</td>\n",
       "      <td>45000.0</td>\n",
       "      <td>2017</td>\n",
       "      <td>individual</td>\n",
       "      <td>1st</td>\n",
       "      <td>5650</td>\n",
       "      <td>0.0</td>\n",
       "      <td>Honda</td>\n",
       "      <td></td>\n",
       "    </tr>\n",
       "    <tr>\n",
       "      <th>2</th>\n",
       "      <td>2</td>\n",
       "      <td>Classic Gunmetal Gr</td>\n",
       "      <td>150000.0</td>\n",
       "      <td>2018</td>\n",
       "      <td>individual</td>\n",
       "      <td>1st</td>\n",
       "      <td>12000</td>\n",
       "      <td>148114.0</td>\n",
       "      <td>Royal Enfield</td>\n",
       "      <td></td>\n",
       "    </tr>\n",
       "    <tr>\n",
       "      <th>3</th>\n",
       "      <td>3</td>\n",
       "      <td>Fazer FI V 2.0</td>\n",
       "      <td>65000.0</td>\n",
       "      <td>2015</td>\n",
       "      <td>individual</td>\n",
       "      <td>1st</td>\n",
       "      <td>23000</td>\n",
       "      <td>89643.0</td>\n",
       "      <td>Yamaha</td>\n",
       "      <td>2016-2018</td>\n",
       "    </tr>\n",
       "    <tr>\n",
       "      <th>4</th>\n",
       "      <td>4</td>\n",
       "      <td>SZ</td>\n",
       "      <td>20000.0</td>\n",
       "      <td>2011</td>\n",
       "      <td>individual</td>\n",
       "      <td>2nd</td>\n",
       "      <td>21000</td>\n",
       "      <td>0.0</td>\n",
       "      <td>Yamaha</td>\n",
       "      <td>2013-2014</td>\n",
       "    </tr>\n",
       "  </tbody>\n",
       "</table>\n",
       "</div>"
      ],
      "text/plain": [
       "   id                 name  selling_price  year seller_type owner  km_driven  ex_showroom_price        company year_model\n",
       "0   0          Classic 350       175000.0  2019  individual  1st         350                0.0  Royal Enfield           \n",
       "1   1                   Di        45000.0  2017  individual  1st        5650                0.0          Honda           \n",
       "2   2  Classic Gunmetal Gr       150000.0  2018  individual  1st       12000           148114.0  Royal Enfield           \n",
       "3   3      Fazer FI V 2.0         65000.0  2015  individual  1st       23000            89643.0         Yamaha  2016-2018\n",
       "4   4                  SZ         20000.0  2011  individual  2nd       21000                0.0         Yamaha  2013-2014"
      ]
     },
     "execution_count": 325,
     "metadata": {},
     "output_type": "execute_result"
    }
   ],
   "source": [
    "df4.head()"
   ]
  },
  {
   "cell_type": "code",
   "execution_count": 386,
   "id": "e630c31b",
   "metadata": {
    "ExecuteTime": {
     "end_time": "2022-07-23T17:10:27.148116Z",
     "start_time": "2022-07-23T17:10:23.599374Z"
    }
   },
   "outputs": [
    {
     "name": "stdout",
     "output_type": "stream",
     "text": [
      "\n",
      "Email enviado com sucesso!\n"
     ]
    }
   ],
   "source": [
    "import smtplib\n",
    "\n",
    "from email.mime.multipart import MIMEMultipart\n",
    "from email.mime.text import MIMEText\n",
    "from email.mime.base import MIMEBase\n",
    "from email import encoders\n",
    "\n",
    "try:\n",
    "    fromaddr = \"caneppellevander@gmail.com\"\n",
    "    toaddr = 'taywornath@gmail.com'\n",
    "    msg = MIMEMultipart()\n",
    "\n",
    "    msg['From'] = fromaddr \n",
    "    msg['To'] = toaddr\n",
    "    msg['Subject'] = \"Relatório Motos - Teste\"\n",
    "\n",
    "    body = \"\\n Primeiro e-mail automático com anexo!\"\n",
    "\n",
    "    msg.attach(MIMEText(body, 'plain'))\n",
    "\n",
    "    filename = 'melhores_opcoes.csv'\n",
    "\n",
    "    attachment = open('data/relatorio_motos.csv','rb')\n",
    "\n",
    "\n",
    "    part = MIMEBase('application', 'octet-stream')\n",
    "    part.set_payload((attachment).read())\n",
    "    encoders.encode_base64(part)\n",
    "    part.add_header('Content-Disposition', \"attachment; filename= %s\" % filename)\n",
    "\n",
    "    msg.attach(part)\n",
    "\n",
    "    attachment.close()\n",
    "\n",
    "    server = smtplib.SMTP('smtp.gmail.com: 587')\n",
    "    server.starttls()\n",
    "    server.login(fromaddr, \"nqoxrbapiaylyuux\")\n",
    "    text = msg.as_string()\n",
    "    server.sendmail(fromaddr, toaddr, text)\n",
    "    server.quit()\n",
    "    print('\\nEmail enviado com sucesso!')\n",
    "except:\n",
    "    print(\"\\nErro ao enviar email\")"
   ]
  },
  {
   "cell_type": "code",
   "execution_count": 382,
   "id": "f81753dd",
   "metadata": {
    "ExecuteTime": {
     "end_time": "2022-07-23T17:02:19.793195Z",
     "start_time": "2022-07-23T17:02:19.710306Z"
    }
   },
   "outputs": [
    {
     "ename": "NameError",
     "evalue": "name 'MIMEBase' is not defined",
     "output_type": "error",
     "traceback": [
      "\u001b[0;31m---------------------------------------------------------------------------\u001b[0m",
      "\u001b[0;31mNameError\u001b[0m                                 Traceback (most recent call last)",
      "Input \u001b[0;32mIn [382]\u001b[0m, in \u001b[0;36m<cell line: 1>\u001b[0;34m()\u001b[0m\n\u001b[0;32m----> 1\u001b[0m \u001b[43menviar_email\u001b[49m\u001b[43m(\u001b[49m\u001b[43m)\u001b[49m\n",
      "Input \u001b[0;32mIn [381]\u001b[0m, in \u001b[0;36menviar_email\u001b[0;34m()\u001b[0m\n\u001b[1;32m     24\u001b[0m msg\u001b[38;5;241m.\u001b[39madd_header(\u001b[38;5;124m'\u001b[39m\u001b[38;5;124mContent-Type\u001b[39m\u001b[38;5;124m'\u001b[39m, \u001b[38;5;124m'\u001b[39m\u001b[38;5;124mtext/html\u001b[39m\u001b[38;5;124m'\u001b[39m)\n\u001b[1;32m     25\u001b[0m msg\u001b[38;5;241m.\u001b[39mset_payload(corpo_email )\n\u001b[0;32m---> 26\u001b[0m part \u001b[38;5;241m=\u001b[39m \u001b[43mMIMEBase\u001b[49m(\u001b[38;5;124m'\u001b[39m\u001b[38;5;124mapplication\u001b[39m\u001b[38;5;124m'\u001b[39m, \u001b[38;5;124m'\u001b[39m\u001b[38;5;124moctet-stream\u001b[39m\u001b[38;5;124m'\u001b[39m)\n\u001b[1;32m     27\u001b[0m part\u001b[38;5;241m.\u001b[39mset_payload((attachment)\u001b[38;5;241m.\u001b[39mread())\n\u001b[1;32m     28\u001b[0m part\u001b[38;5;241m.\u001b[39madd_header(\u001b[38;5;124m'\u001b[39m\u001b[38;5;124mContent-Disposition\u001b[39m\u001b[38;5;124m'\u001b[39m, \u001b[38;5;124m\"\u001b[39m\u001b[38;5;124mattachment; filename= \u001b[39m\u001b[38;5;132;01m%s\u001b[39;00m\u001b[38;5;124m\"\u001b[39m \u001b[38;5;241m%\u001b[39m filename)\n",
      "\u001b[0;31mNameError\u001b[0m: name 'MIMEBase' is not defined"
     ]
    }
   ],
   "source": []
  },
  {
   "cell_type": "code",
   "execution_count": null,
   "id": "5a1e64fb",
   "metadata": {},
   "outputs": [],
   "source": []
  },
  {
   "cell_type": "code",
   "execution_count": null,
   "id": "a04a0a6d",
   "metadata": {},
   "outputs": [],
   "source": []
  },
  {
   "cell_type": "code",
   "execution_count": null,
   "id": "246f947e",
   "metadata": {},
   "outputs": [],
   "source": []
  },
  {
   "cell_type": "markdown",
   "id": "f4793d29",
   "metadata": {},
   "source": []
  },
  {
   "cell_type": "code",
   "execution_count": null,
   "id": "b3a04b11",
   "metadata": {},
   "outputs": [],
   "source": []
  }
 ],
 "metadata": {
  "hide_input": false,
  "kernelspec": {
   "display_name": "Python 3 (ipykernel)",
   "language": "python",
   "name": "python3"
  },
  "language_info": {
   "codemirror_mode": {
    "name": "ipython",
    "version": 3
   },
   "file_extension": ".py",
   "mimetype": "text/x-python",
   "name": "python",
   "nbconvert_exporter": "python",
   "pygments_lexer": "ipython3",
   "version": "3.10.1"
  },
  "latex_envs": {
   "LaTeX_envs_menu_present": true,
   "autoclose": false,
   "autocomplete": true,
   "bibliofile": "biblio.bib",
   "cite_by": "apalike",
   "current_citInitial": 1,
   "eqLabelWithNumbers": true,
   "eqNumInitial": 1,
   "hotkeys": {
    "equation": "Ctrl-E",
    "itemize": "Ctrl-I"
   },
   "labels_anchors": false,
   "latex_user_defs": false,
   "report_style_numbering": false,
   "user_envs_cfg": false
  },
  "vscode": {
   "interpreter": {
    "hash": "d7da943d29e683b94336196b543cb35f0f162d4f5b245b35bc1ef3fd3e73b856"
   }
  }
 },
 "nbformat": 4,
 "nbformat_minor": 5
}
