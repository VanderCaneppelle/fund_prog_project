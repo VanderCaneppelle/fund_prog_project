{
 "cells": [
  {
   "cell_type": "markdown",
   "id": "f66f5ab2",
   "metadata": {},
   "source": [
    "# COMANDOS AUXILIARES"
   ]
  },
  {
   "cell_type": "markdown",
   "id": "87034928",
   "metadata": {},
   "source": [
    "## Funções auxiliares"
   ]
  },
  {
   "cell_type": "code",
   "execution_count": 279,
   "id": "8ca98800",
   "metadata": {
    "ExecuteTime": {
     "end_time": "2022-07-18T20:47:56.809597Z",
     "start_time": "2022-07-18T20:47:56.792734Z"
    }
   },
   "outputs": [],
   "source": [
    "def jupyter_settings():\n",
    "    %matplotlib inline\n",
    "    %pylab inline\n",
    "    plt.style.use( 'bmh' )\n",
    "    plt.rcParams['figure.figsize'] = [20, 10]\n",
    "    plt.rcParams['font.size'] = 24\n",
    "    display( HTML( '<style>.container { width:100% !important; }</style>') )\n",
    "    pd.options.display.max_columns = None\n",
    "    pd.options.display.max_rows = None\n",
    "    pd.set_option( 'display.expand_frame_repr', False )\n",
    "    sns.set()\n",
    "    "
   ]
  },
  {
   "cell_type": "code",
   "execution_count": 280,
   "id": "982a8b4d",
   "metadata": {
    "ExecuteTime": {
     "end_time": "2022-07-18T20:47:56.835682Z",
     "start_time": "2022-07-18T20:47:56.816108Z"
    }
   },
   "outputs": [
    {
     "name": "stdout",
     "output_type": "stream",
     "text": [
      "%pylab is deprecated, use %matplotlib inline and import the required libraries.\n",
      "Populating the interactive namespace from numpy and matplotlib\n"
     ]
    },
    {
     "data": {
      "text/html": [
       "<style>.container { width:100% !important; }</style>"
      ],
      "text/plain": [
       "<IPython.core.display.HTML object>"
      ]
     },
     "metadata": {},
     "output_type": "display_data"
    }
   ],
   "source": [
    "jupyter_settings()"
   ]
  },
  {
   "cell_type": "markdown",
   "id": "6a0edcdf",
   "metadata": {
    "heading_collapsed": true
   },
   "source": [
    "## Inserção de imagens"
   ]
  },
  {
   "cell_type": "code",
   "execution_count": 281,
   "id": "fa4c2e60",
   "metadata": {
    "ExecuteTime": {
     "end_time": "2022-07-18T20:47:56.846557Z",
     "start_time": "2022-07-18T20:47:56.840697Z"
    },
    "hidden": true
   },
   "outputs": [],
   "source": [
    "from IPython.display import Image"
   ]
  },
  {
   "cell_type": "markdown",
   "id": "4596b7c0",
   "metadata": {},
   "source": [
    "## Imports"
   ]
  },
  {
   "cell_type": "code",
   "execution_count": 282,
   "id": "d10145d2",
   "metadata": {
    "ExecuteTime": {
     "end_time": "2022-07-18T20:47:56.856352Z",
     "start_time": "2022-07-18T20:47:56.850943Z"
    }
   },
   "outputs": [],
   "source": [
    "from IPython.core.display import HTML\n",
    "import seaborn as sns\n",
    "import pandas  as pd\n",
    "import numpy   as np\n",
    "import math"
   ]
  },
  {
   "cell_type": "markdown",
   "id": "a7175ea5",
   "metadata": {},
   "source": [
    "# KICK OFF DO PROJETO!"
   ]
  },
  {
   "cell_type": "markdown",
   "id": "dadc7973",
   "metadata": {
    "heading_collapsed": true
   },
   "source": [
    "## Contexto do Problema de Negócio"
   ]
  },
  {
   "cell_type": "markdown",
   "id": "974c21fa",
   "metadata": {
    "hidden": true
   },
   "source": [
    "A Xtreme Groovy Bikes Sales é uma empresa de revenda de motocicletas. Seu modelo de nogócio é revender motocicletas usadas. Com a crescente do valor dos veículos usados, a XGB Sales, como é conhecida, deseja expandir os seus negócios. Você foi contratado como cientista de dados pela empresa XGB Sales para ajudá-los a encotrar as melhores motocicletas para revenda. \n",
    "\n",
    "Para isso, o CEO da empresa fez um estudo de mercado lhe entregou uma base de dados, obtida através desse estudo, para que você consiga auxiliá-lo a encontrar as melhores motocicletas para revenda, aumentando assim o lucro da empresa.\n",
    "\n",
    "Além disso, o CEO lhe fez algumas perguntas a cerca da base de dados que a empresa possui.\n",
    "Lembrando que o contexto, pessoas e perguntas são completamente fictícios e existem somente na minha imaginação."
   ]
  },
  {
   "cell_type": "markdown",
   "id": "03539e7c",
   "metadata": {},
   "source": [
    "## O Desafio"
   ]
  },
  {
   "cell_type": "markdown",
   "id": "2114574c",
   "metadata": {},
   "source": [
    "A empresa XGB Sales lhe contratou como cientista de dados pois ela deseja aumentar o seu lucro comprando e revendendo as melhores motos disponíveis dentro da base de dados que a empresa adquiriu através de um estudo de mercado. \n",
    "\n",
    "Dessa forma, o CEO da XGB Sales lhe fez as seguintes perguntas:\n",
    "\n",
    "1. Quantas motos temos dentro do Dataset?\n",
    "2. Qual é o ano da moto mais antiga da base de dados?\n",
    "3. Qual é o ano da moto mais nova da base de dados?\n",
    "4. Qual é o valor da moto mais cara da base de dados?\n",
    "5. Qual é o valor do hodômotro da moto com a maior quilometragem?\n",
    "6. Qual é o valor do hodômotro da moto com a menor quiilometragem?\n",
    "7. Das motocicletas que estão sendo expostas dentro de um Show Room, qual é o maior valor registrado na base de dados?\n",
    "8. Das motocicletas que estão sendo expostas dentro de um Show Room, qual é o menor valor registrado na base de dados?\n",
    "9. Quantas motocicletas estão sendo vendidades pelos seus donos e quantas estão sendo vendidas por outros revendedores?\n",
    "10. Qual é a média de valores das motos na base de dados?\n",
    "11. Qual é a média de ano das motos cadastradas dentro da base de dados?\n",
    "12. Qual é a média de quilometragem das motos cadastradas dentro da base de dados?\n",
    "13. Existem quantas motos dentro da base de dados que são motos de um único dono?\n",
    "14. As motos com menor quilometragem são as motos mais baratas do Dataset?"
   ]
  },
  {
   "cell_type": "markdown",
   "id": "bf69ae6d",
   "metadata": {},
   "source": [
    "## A Base de Dados"
   ]
  },
  {
   "cell_type": "markdown",
   "id": "5e9f4dbc",
   "metadata": {},
   "source": [
    "O conjunto de dados que representam o contexto está disponível na plataforma do Kaggle. O link para acesso aos dados:\n",
    "\n",
    "[Motorcycle Dataset](https://www.kaggle.com/datasets/nehalbirla/motorcycle-dataset)"
   ]
  },
  {
   "cell_type": "markdown",
   "id": "deb32456",
   "metadata": {
    "heading_collapsed": true
   },
   "source": [
    "## Como Solucionar Esse Desafio"
   ]
  },
  {
   "cell_type": "markdown",
   "id": "3cfbb8e3",
   "metadata": {
    "hidden": true
   },
   "source": [
    "Aqui vão algumas dicas para você começar a resolver esse problema:\n",
    "\n",
    "* **Tenha calma e não tenha medo:** Crie suposições e faça testes, dando um passo de cada vez para, a cada novo passo, estar mais próximo da resposta.\n",
    "\n",
    "* **Responda as perguntas antes de Codificar:** Como você faria, se não tivesse que programar, para responder as perguntas feitas? Pensando antes em como responder, facilitará no momento de codificar o algoritmo para achar a resposta, porque isso faz parte do planejamento da solução!\n",
    "\n",
    "* **Tenha Paciência e Resiliência:** Criar soluções e, principalmente, pensar e planejá-las leva tempo. Assuma uma postura resiliente e não desista! Afinal, você quer se tornar um Cientista de Dados, ganhar ótimos salários e trabalhar em ótimas empresas, certo?\n",
    "\n",
    "* **A Comunidade:** Caso você tenha tentado várias estratégias e não tenha chegado a uma solução ou não tenha avançado, peça ajuda dentro da Comunidade de DS! Estamos todos para nos ajudar nessa jornada que é a Ciência de Dados.\n",
    "\n",
    "* **Crie Visualizações:** Caso a tabela gerada com as informações não seja de fácil entendimento, gere um gráfico/visualização para facilitar a compreensão do CEO.\n",
    "\n",
    "* **Estudem os dados antes de Qualquer coisa:** Façam a leitura do arquivo e estudem o que cada coluna representa. Criem a dicionário explicado cada uma das colunas."
   ]
  },
  {
   "cell_type": "markdown",
   "id": "ee8d1c40",
   "metadata": {},
   "source": [
    "## Solucionando o Desafio"
   ]
  },
  {
   "cell_type": "code",
   "execution_count": 283,
   "id": "604ca4e3",
   "metadata": {
    "ExecuteTime": {
     "end_time": "2022-07-18T20:47:56.870612Z",
     "start_time": "2022-07-18T20:47:56.861162Z"
    }
   },
   "outputs": [],
   "source": [
    "data= pd.read_csv('../fund_prog_project/data/bike.csv',low_memory=False)"
   ]
  },
  {
   "cell_type": "markdown",
   "id": "05993d03",
   "metadata": {},
   "source": [
    "# 1.0 Descrição das colunas"
   ]
  },
  {
   "cell_type": "markdown",
   "id": "361f9a9b",
   "metadata": {},
   "source": [
    "**name**: Modelo/marca da motocicleta\n",
    "\n",
    "**selling_price**: Preço de venda da motocicleta\n",
    "\n",
    "**year**: Ano de compra da motocicleta\n",
    "\n",
    "**seller_type**: refere-se ao tipo de vendedor, individual ou dealer(revendedor)\n",
    "\n",
    "**owner**: Indica se o atual proprietário da nmotocicleta é o primeiro dono ou não.\n",
    "         ('1st owner', '2nd owner', '3rd owner', '4th owner')\n",
    "\n",
    "**km_driven**: Km rodados pelo veículo atéo momento.\n",
    "\n",
    "**ex_showroom_price**: Valor de venda do veículo em showroom (motocicletas com NaN nessa coluna não estão em showroom)\n",
    "\n",
    "\n",
    "\n"
   ]
  },
  {
   "cell_type": "markdown",
   "id": "f332a96c",
   "metadata": {},
   "source": [
    "## 1.1 Data Dimensions"
   ]
  },
  {
   "cell_type": "code",
   "execution_count": 284,
   "id": "8c17786c",
   "metadata": {
    "ExecuteTime": {
     "end_time": "2022-07-18T20:47:56.879422Z",
     "start_time": "2022-07-18T20:47:56.873730Z"
    },
    "hide_input": true
   },
   "outputs": [
    {
     "name": "stdout",
     "output_type": "stream",
     "text": [
      "Number of Rows:1061\n",
      "Number of columns:7\n"
     ]
    }
   ],
   "source": [
    "print(f'Number of Rows:{data.shape[0]}')\n",
    "print(f'Number of columns:{data.shape[1]}')"
   ]
  },
  {
   "cell_type": "code",
   "execution_count": 285,
   "id": "997f90ba",
   "metadata": {
    "ExecuteTime": {
     "end_time": "2022-07-18T20:47:56.891705Z",
     "start_time": "2022-07-18T20:47:56.883423Z"
    }
   },
   "outputs": [
    {
     "data": {
      "text/plain": [
       "name                  object\n",
       "selling_price          int64\n",
       "year                   int64\n",
       "seller_type           object\n",
       "owner                 object\n",
       "km_driven              int64\n",
       "ex_showroom_price    float64\n",
       "dtype: object"
      ]
     },
     "execution_count": 285,
     "metadata": {},
     "output_type": "execute_result"
    }
   ],
   "source": [
    "data.dtypes"
   ]
  },
  {
   "cell_type": "code",
   "execution_count": 286,
   "id": "7a8b245b",
   "metadata": {
    "ExecuteTime": {
     "end_time": "2022-07-18T20:47:56.900034Z",
     "start_time": "2022-07-18T20:47:56.894740Z"
    }
   },
   "outputs": [],
   "source": [
    "#convert selling price - int to float\n",
    "data['selling_price'] = data['selling_price'].astype(float)\n",
    "data['ex_showroom_price'] = data['ex_showroom_price'].astype(float)"
   ]
  },
  {
   "cell_type": "markdown",
   "id": "6e86b8a5",
   "metadata": {},
   "source": [
    "## 1.2 Check NA"
   ]
  },
  {
   "cell_type": "code",
   "execution_count": 287,
   "id": "cdd4c90b",
   "metadata": {
    "ExecuteTime": {
     "end_time": "2022-07-18T20:47:56.913582Z",
     "start_time": "2022-07-18T20:47:56.904943Z"
    }
   },
   "outputs": [
    {
     "data": {
      "text/plain": [
       "name                   0\n",
       "selling_price          0\n",
       "year                   0\n",
       "seller_type            0\n",
       "owner                  0\n",
       "km_driven              0\n",
       "ex_showroom_price    435\n",
       "dtype: int64"
      ]
     },
     "execution_count": 287,
     "metadata": {},
     "output_type": "execute_result"
    }
   ],
   "source": [
    "data.isna().sum()"
   ]
  },
  {
   "cell_type": "markdown",
   "id": "87110f00",
   "metadata": {},
   "source": [
    "## 1.2 Fillup NA"
   ]
  },
  {
   "cell_type": "code",
   "execution_count": 288,
   "id": "59eabcec",
   "metadata": {
    "ExecuteTime": {
     "end_time": "2022-07-18T20:47:56.921589Z",
     "start_time": "2022-07-18T20:47:56.916321Z"
    }
   },
   "outputs": [],
   "source": [
    "data['ex_showroom_price'] = data['ex_showroom_price'].apply( lambda x: 0 if math.isnan(x) else x)"
   ]
  },
  {
   "cell_type": "code",
   "execution_count": 289,
   "id": "812e10c5",
   "metadata": {
    "ExecuteTime": {
     "end_time": "2022-07-18T20:47:56.950805Z",
     "start_time": "2022-07-18T20:47:56.925280Z"
    },
    "scrolled": true
   },
   "outputs": [
    {
     "data": {
      "text/html": [
       "<div>\n",
       "<style scoped>\n",
       "    .dataframe tbody tr th:only-of-type {\n",
       "        vertical-align: middle;\n",
       "    }\n",
       "\n",
       "    .dataframe tbody tr th {\n",
       "        vertical-align: top;\n",
       "    }\n",
       "\n",
       "    .dataframe thead th {\n",
       "        text-align: right;\n",
       "    }\n",
       "</style>\n",
       "<table border=\"1\" class=\"dataframe\">\n",
       "  <thead>\n",
       "    <tr style=\"text-align: right;\">\n",
       "      <th></th>\n",
       "      <th>name</th>\n",
       "      <th>selling_price</th>\n",
       "      <th>year</th>\n",
       "      <th>seller_type</th>\n",
       "      <th>owner</th>\n",
       "      <th>km_driven</th>\n",
       "      <th>ex_showroom_price</th>\n",
       "    </tr>\n",
       "  </thead>\n",
       "  <tbody>\n",
       "    <tr>\n",
       "      <th>0</th>\n",
       "      <td>Royal Enfield Classic 350</td>\n",
       "      <td>175000.0</td>\n",
       "      <td>2019</td>\n",
       "      <td>Individual</td>\n",
       "      <td>1st owner</td>\n",
       "      <td>350</td>\n",
       "      <td>0.0</td>\n",
       "    </tr>\n",
       "    <tr>\n",
       "      <th>1</th>\n",
       "      <td>Honda Dio</td>\n",
       "      <td>45000.0</td>\n",
       "      <td>2017</td>\n",
       "      <td>Individual</td>\n",
       "      <td>1st owner</td>\n",
       "      <td>5650</td>\n",
       "      <td>0.0</td>\n",
       "    </tr>\n",
       "    <tr>\n",
       "      <th>2</th>\n",
       "      <td>Royal Enfield Classic Gunmetal Grey</td>\n",
       "      <td>150000.0</td>\n",
       "      <td>2018</td>\n",
       "      <td>Individual</td>\n",
       "      <td>1st owner</td>\n",
       "      <td>12000</td>\n",
       "      <td>148114.0</td>\n",
       "    </tr>\n",
       "    <tr>\n",
       "      <th>3</th>\n",
       "      <td>Yamaha Fazer FI V 2.0 [2016-2018]</td>\n",
       "      <td>65000.0</td>\n",
       "      <td>2015</td>\n",
       "      <td>Individual</td>\n",
       "      <td>1st owner</td>\n",
       "      <td>23000</td>\n",
       "      <td>89643.0</td>\n",
       "    </tr>\n",
       "    <tr>\n",
       "      <th>4</th>\n",
       "      <td>Yamaha SZ [2013-2014]</td>\n",
       "      <td>20000.0</td>\n",
       "      <td>2011</td>\n",
       "      <td>Individual</td>\n",
       "      <td>2nd owner</td>\n",
       "      <td>21000</td>\n",
       "      <td>0.0</td>\n",
       "    </tr>\n",
       "  </tbody>\n",
       "</table>\n",
       "</div>"
      ],
      "text/plain": [
       "                                  name  selling_price  year seller_type      owner  km_driven  ex_showroom_price\n",
       "0            Royal Enfield Classic 350       175000.0  2019  Individual  1st owner        350                0.0\n",
       "1                            Honda Dio        45000.0  2017  Individual  1st owner       5650                0.0\n",
       "2  Royal Enfield Classic Gunmetal Grey       150000.0  2018  Individual  1st owner      12000           148114.0\n",
       "3    Yamaha Fazer FI V 2.0 [2016-2018]        65000.0  2015  Individual  1st owner      23000            89643.0\n",
       "4                Yamaha SZ [2013-2014]        20000.0  2011  Individual  2nd owner      21000                0.0"
      ]
     },
     "execution_count": 289,
     "metadata": {},
     "output_type": "execute_result"
    }
   ],
   "source": [
    "data.head()"
   ]
  },
  {
   "cell_type": "markdown",
   "id": "92c3885d",
   "metadata": {
    "hide_input": false
   },
   "source": [
    "# 2.0 Feature Engineering"
   ]
  },
  {
   "cell_type": "code",
   "execution_count": 332,
   "id": "0aa951e7",
   "metadata": {
    "ExecuteTime": {
     "end_time": "2022-07-18T20:53:42.954316Z",
     "start_time": "2022-07-18T20:53:42.948635Z"
    }
   },
   "outputs": [],
   "source": [
    "df2= data.copy()"
   ]
  },
  {
   "cell_type": "code",
   "execution_count": 333,
   "id": "2f5671e7",
   "metadata": {
    "ExecuteTime": {
     "end_time": "2022-07-18T20:53:43.227114Z",
     "start_time": "2022-07-18T20:53:43.211909Z"
    },
    "hide_input": false
   },
   "outputs": [],
   "source": [
    "# applying strip in the name\n",
    "df2['name'] = df2['name'].str.strip()\n",
    "\n",
    "# Creating new columns for bikes in show room \n",
    "df2['in_showroom'] = df2['ex_showroom_price'].apply(lambda x:'0' if x == 0.0 else '1')"
   ]
  },
  {
   "cell_type": "code",
   "execution_count": 336,
   "id": "733190a6",
   "metadata": {
    "ExecuteTime": {
     "end_time": "2022-07-18T20:56:22.953765Z",
     "start_time": "2022-07-18T20:56:22.895272Z"
    },
    "hide_input": false
   },
   "outputs": [],
   "source": [
    "#list of available bikes\n",
    "model_list = ['Royal Enfield ', 'Honda','Hero Honda','Bajaj','Jawa','Suzuki','TVS','KTM','Mahindra','Aprilia','Vespa','UM','Harley-Davidson','Kawasaki','BMW','Benelli','Yo','Hyosung','Hero','Yamaha','Activa']\n",
    "\n",
    "# Getting brand\n",
    "# df2['bike_model'] = df2['name'].apply(lambda x: i if x.contains(i) in model_list else x)\n",
    "# \n",
    "\n",
    "df2['bike_brand']  = ''\n",
    "for i in model_list: df2['bike_brand'] = np.where(df2['name'].str.contains(i),i, df2['bike_brand'] )\n",
    "    \n",
    "    \n",
    "# Converting Activa to Honda\n",
    "df2['bike_brand'] = np.where(df2['bike_brand'].str.startswith('Activa'),'Honda', df2['bike_brand'] )\n",
    "\n",
    "#remove word owner\n",
    "df2['owner'] = df2['owner'].str.replace('owner','')\n",
    "\n",
    "# seller_type\n",
    "df2['seller_type'] = df2['seller_type'].str.lower()\n",
    "\n",
    "#name\n",
    "# df2['name'] = df2['name'].str.replace(' ','_')\n",
    "# df2['name'] = df2['name'].str.lower()\n",
    "\n",
    "#Na coluna name ainda da para separar o modelo da bike em uma nova coluna\n",
    "# df2['bike_model'] = df2['name'].str.replace(str(df2['bike_brand']),'')\n"
   ]
  },
  {
   "cell_type": "code",
   "execution_count": 337,
   "id": "c61654d3",
   "metadata": {
    "ExecuteTime": {
     "end_time": "2022-07-18T20:56:25.386536Z",
     "start_time": "2022-07-18T20:56:25.342504Z"
    }
   },
   "outputs": [
    {
     "data": {
      "text/html": [
       "<div>\n",
       "<style scoped>\n",
       "    .dataframe tbody tr th:only-of-type {\n",
       "        vertical-align: middle;\n",
       "    }\n",
       "\n",
       "    .dataframe tbody tr th {\n",
       "        vertical-align: top;\n",
       "    }\n",
       "\n",
       "    .dataframe thead th {\n",
       "        text-align: right;\n",
       "    }\n",
       "</style>\n",
       "<table border=\"1\" class=\"dataframe\">\n",
       "  <thead>\n",
       "    <tr style=\"text-align: right;\">\n",
       "      <th></th>\n",
       "      <th>name</th>\n",
       "      <th>selling_price</th>\n",
       "      <th>year</th>\n",
       "      <th>seller_type</th>\n",
       "      <th>owner</th>\n",
       "      <th>km_driven</th>\n",
       "      <th>ex_showroom_price</th>\n",
       "      <th>in_showroom</th>\n",
       "      <th>bike_brand</th>\n",
       "    </tr>\n",
       "  </thead>\n",
       "  <tbody>\n",
       "    <tr>\n",
       "      <th>232</th>\n",
       "      <td>Honda Shine</td>\n",
       "      <td>30000.0</td>\n",
       "      <td>2010</td>\n",
       "      <td>individual</td>\n",
       "      <td>1st</td>\n",
       "      <td>46782</td>\n",
       "      <td>0.0</td>\n",
       "      <td>0</td>\n",
       "      <td>Honda</td>\n",
       "    </tr>\n",
       "    <tr>\n",
       "      <th>722</th>\n",
       "      <td>Hero Glamour 125</td>\n",
       "      <td>15000.0</td>\n",
       "      <td>2011</td>\n",
       "      <td>individual</td>\n",
       "      <td>1st</td>\n",
       "      <td>75000</td>\n",
       "      <td>61600.0</td>\n",
       "      <td>1</td>\n",
       "      <td>Hero</td>\n",
       "    </tr>\n",
       "    <tr>\n",
       "      <th>254</th>\n",
       "      <td>TVS Scooty Pep Plus</td>\n",
       "      <td>30000.0</td>\n",
       "      <td>2011</td>\n",
       "      <td>individual</td>\n",
       "      <td>1st</td>\n",
       "      <td>20000</td>\n",
       "      <td>0.0</td>\n",
       "      <td>0</td>\n",
       "      <td>TVS</td>\n",
       "    </tr>\n",
       "    <tr>\n",
       "      <th>756</th>\n",
       "      <td>Bajaj Platina 100</td>\n",
       "      <td>40000.0</td>\n",
       "      <td>2018</td>\n",
       "      <td>individual</td>\n",
       "      <td>1st</td>\n",
       "      <td>17500</td>\n",
       "      <td>0.0</td>\n",
       "      <td>0</td>\n",
       "      <td>Bajaj</td>\n",
       "    </tr>\n",
       "    <tr>\n",
       "      <th>299</th>\n",
       "      <td>Bajaj Avenger Street 150 [2018]</td>\n",
       "      <td>40000.0</td>\n",
       "      <td>2016</td>\n",
       "      <td>individual</td>\n",
       "      <td>1st</td>\n",
       "      <td>29689</td>\n",
       "      <td>80435.0</td>\n",
       "      <td>1</td>\n",
       "      <td>Bajaj</td>\n",
       "    </tr>\n",
       "    <tr>\n",
       "      <th>537</th>\n",
       "      <td>Bajaj Pulsar 150</td>\n",
       "      <td>25000.0</td>\n",
       "      <td>2015</td>\n",
       "      <td>individual</td>\n",
       "      <td>2nd</td>\n",
       "      <td>50000</td>\n",
       "      <td>0.0</td>\n",
       "      <td>0</td>\n",
       "      <td>Bajaj</td>\n",
       "    </tr>\n",
       "    <tr>\n",
       "      <th>662</th>\n",
       "      <td>Suzuki Access 125</td>\n",
       "      <td>40000.0</td>\n",
       "      <td>2017</td>\n",
       "      <td>individual</td>\n",
       "      <td>1st</td>\n",
       "      <td>15000</td>\n",
       "      <td>0.0</td>\n",
       "      <td>0</td>\n",
       "      <td>Suzuki</td>\n",
       "    </tr>\n",
       "    <tr>\n",
       "      <th>47</th>\n",
       "      <td>Yamaha FZ16</td>\n",
       "      <td>30000.0</td>\n",
       "      <td>2009</td>\n",
       "      <td>individual</td>\n",
       "      <td>2nd</td>\n",
       "      <td>26000</td>\n",
       "      <td>78712.0</td>\n",
       "      <td>1</td>\n",
       "      <td>Yamaha</td>\n",
       "    </tr>\n",
       "    <tr>\n",
       "      <th>164</th>\n",
       "      <td>Honda CB Hornet 160R</td>\n",
       "      <td>48000.0</td>\n",
       "      <td>2016</td>\n",
       "      <td>individual</td>\n",
       "      <td>2nd</td>\n",
       "      <td>25000</td>\n",
       "      <td>88161.0</td>\n",
       "      <td>1</td>\n",
       "      <td>Honda</td>\n",
       "    </tr>\n",
       "    <tr>\n",
       "      <th>16</th>\n",
       "      <td>Hero Honda Glamour</td>\n",
       "      <td>25000.0</td>\n",
       "      <td>2006</td>\n",
       "      <td>individual</td>\n",
       "      <td>1st</td>\n",
       "      <td>27000</td>\n",
       "      <td>0.0</td>\n",
       "      <td>0</td>\n",
       "      <td>Hero</td>\n",
       "    </tr>\n",
       "    <tr>\n",
       "      <th>836</th>\n",
       "      <td>Honda Activa i [2016-2017]</td>\n",
       "      <td>35000.0</td>\n",
       "      <td>2016</td>\n",
       "      <td>individual</td>\n",
       "      <td>1st</td>\n",
       "      <td>29000</td>\n",
       "      <td>53436.0</td>\n",
       "      <td>1</td>\n",
       "      <td>Honda</td>\n",
       "    </tr>\n",
       "    <tr>\n",
       "      <th>795</th>\n",
       "      <td>Hero Honda Splendor</td>\n",
       "      <td>10000.0</td>\n",
       "      <td>2006</td>\n",
       "      <td>individual</td>\n",
       "      <td>1st</td>\n",
       "      <td>75000</td>\n",
       "      <td>0.0</td>\n",
       "      <td>0</td>\n",
       "      <td>Hero</td>\n",
       "    </tr>\n",
       "    <tr>\n",
       "      <th>991</th>\n",
       "      <td>Yamaha FZ 16</td>\n",
       "      <td>75000.0</td>\n",
       "      <td>2017</td>\n",
       "      <td>individual</td>\n",
       "      <td>1st</td>\n",
       "      <td>18000</td>\n",
       "      <td>82000.0</td>\n",
       "      <td>1</td>\n",
       "      <td>Yamaha</td>\n",
       "    </tr>\n",
       "    <tr>\n",
       "      <th>305</th>\n",
       "      <td>Royal Enfield Thunderbird 350X</td>\n",
       "      <td>140000.0</td>\n",
       "      <td>2018</td>\n",
       "      <td>individual</td>\n",
       "      <td>1st</td>\n",
       "      <td>5505</td>\n",
       "      <td>0.0</td>\n",
       "      <td>0</td>\n",
       "      <td>Royal Enfield</td>\n",
       "    </tr>\n",
       "    <tr>\n",
       "      <th>693</th>\n",
       "      <td>Yamaha FZ S [2012-2016]</td>\n",
       "      <td>40000.0</td>\n",
       "      <td>2011</td>\n",
       "      <td>individual</td>\n",
       "      <td>1st</td>\n",
       "      <td>82000</td>\n",
       "      <td>79432.0</td>\n",
       "      <td>1</td>\n",
       "      <td>Yamaha</td>\n",
       "    </tr>\n",
       "  </tbody>\n",
       "</table>\n",
       "</div>"
      ],
      "text/plain": [
       "                                name  selling_price  year seller_type owner  km_driven  ex_showroom_price in_showroom      bike_brand\n",
       "232                      Honda Shine        30000.0  2010  individual  1st       46782                0.0           0           Honda\n",
       "722                 Hero Glamour 125        15000.0  2011  individual  1st       75000            61600.0           1            Hero\n",
       "254              TVS Scooty Pep Plus        30000.0  2011  individual  1st       20000                0.0           0             TVS\n",
       "756                Bajaj Platina 100        40000.0  2018  individual  1st       17500                0.0           0           Bajaj\n",
       "299  Bajaj Avenger Street 150 [2018]        40000.0  2016  individual  1st       29689            80435.0           1           Bajaj\n",
       "537                 Bajaj Pulsar 150        25000.0  2015  individual  2nd       50000                0.0           0           Bajaj\n",
       "662                Suzuki Access 125        40000.0  2017  individual  1st       15000                0.0           0          Suzuki\n",
       "47                       Yamaha FZ16        30000.0  2009  individual  2nd       26000            78712.0           1          Yamaha\n",
       "164             Honda CB Hornet 160R        48000.0  2016  individual  2nd       25000            88161.0           1           Honda\n",
       "16                Hero Honda Glamour        25000.0  2006  individual  1st       27000                0.0           0            Hero\n",
       "836       Honda Activa i [2016-2017]        35000.0  2016  individual  1st       29000            53436.0           1           Honda\n",
       "795              Hero Honda Splendor        10000.0  2006  individual  1st       75000                0.0           0            Hero\n",
       "991                     Yamaha FZ 16        75000.0  2017  individual  1st       18000            82000.0           1          Yamaha\n",
       "305   Royal Enfield Thunderbird 350X       140000.0  2018  individual  1st        5505                0.0           0  Royal Enfield \n",
       "693          Yamaha FZ S [2012-2016]        40000.0  2011  individual  1st       82000            79432.0           1          Yamaha"
      ]
     },
     "execution_count": 337,
     "metadata": {},
     "output_type": "execute_result"
    }
   ],
   "source": [
    "df2.sample(15)\n"
   ]
  },
  {
   "cell_type": "markdown",
   "id": "dfcb83e4",
   "metadata": {
    "ExecuteTime": {
     "end_time": "2022-07-18T17:48:51.932042Z",
     "start_time": "2022-07-18T17:48:51.911406Z"
    }
   },
   "source": [
    "# 3 Respondendo as perguntas do CEO"
   ]
  },
  {
   "cell_type": "code",
   "execution_count": 294,
   "id": "416ca526",
   "metadata": {
    "ExecuteTime": {
     "end_time": "2022-07-18T20:47:57.067627Z",
     "start_time": "2022-07-18T20:47:57.063171Z"
    }
   },
   "outputs": [],
   "source": [
    "df3 = df2.copy()"
   ]
  },
  {
   "cell_type": "markdown",
   "id": "efb603c5",
   "metadata": {
    "ExecuteTime": {
     "end_time": "2022-07-18T17:51:04.820541Z",
     "start_time": "2022-07-18T17:51:04.802952Z"
    }
   },
   "source": [
    "**1. Quantas motos temos dentro do Dataset?**"
   ]
  },
  {
   "cell_type": "code",
   "execution_count": 295,
   "id": "df5db487",
   "metadata": {
    "ExecuteTime": {
     "end_time": "2022-07-18T20:47:57.075838Z",
     "start_time": "2022-07-18T20:47:57.070903Z"
    },
    "hide_input": true
   },
   "outputs": [
    {
     "name": "stdout",
     "output_type": "stream",
     "text": [
      "Atualmente existem 1061 disponíveis para venda.\n"
     ]
    }
   ],
   "source": [
    "total_motos = df3['name'].count()\n",
    "print(f'Atualmente existem {total_motos} disponíveis para venda.')"
   ]
  },
  {
   "cell_type": "markdown",
   "id": "14dbcb72",
   "metadata": {},
   "source": [
    "**2. Qual é o ano da moto mais antiga da base de dados?**"
   ]
  },
  {
   "cell_type": "code",
   "execution_count": 296,
   "id": "6faade77",
   "metadata": {
    "ExecuteTime": {
     "end_time": "2022-07-18T20:47:57.083808Z",
     "start_time": "2022-07-18T20:47:57.078750Z"
    },
    "hide_input": true,
    "scrolled": true
   },
   "outputs": [
    {
     "name": "stdout",
     "output_type": "stream",
     "text": [
      "A moto mais antiga disponível é de 1988 .\n"
     ]
    }
   ],
   "source": [
    "menor_ano = df3['year'].min()\n",
    "print(f'A moto mais antiga disponível é de {menor_ano} .')"
   ]
  },
  {
   "cell_type": "markdown",
   "id": "705f78b9",
   "metadata": {},
   "source": [
    "**3. Qual é o ano da moto mais nova da base de dados?**\n"
   ]
  },
  {
   "cell_type": "code",
   "execution_count": 297,
   "id": "76aea1de",
   "metadata": {
    "ExecuteTime": {
     "end_time": "2022-07-18T20:47:57.091052Z",
     "start_time": "2022-07-18T20:47:57.086517Z"
    },
    "hide_input": true,
    "scrolled": true
   },
   "outputs": [
    {
     "name": "stdout",
     "output_type": "stream",
     "text": [
      "A moto mais nova disponível é de 2020 .\n"
     ]
    }
   ],
   "source": [
    "maior_ano = df3['year'].max()\n",
    "print(f'A moto mais nova disponível é de {maior_ano} .')"
   ]
  },
  {
   "cell_type": "markdown",
   "id": "33bbd601",
   "metadata": {},
   "source": [
    "**4. Qual é o valor da moto mais cara da base de dados?**"
   ]
  },
  {
   "cell_type": "code",
   "execution_count": 298,
   "id": "7563dcd5",
   "metadata": {
    "ExecuteTime": {
     "end_time": "2022-07-18T20:47:57.099491Z",
     "start_time": "2022-07-18T20:47:57.094144Z"
    },
    "hide_input": true
   },
   "outputs": [
    {
     "name": "stdout",
     "output_type": "stream",
     "text": [
      "A moto mais cara disponível está a venda por R$760,000.00\n"
     ]
    }
   ],
   "source": [
    "maior_valor = df3['selling_price'].max()\n",
    "print('A moto mais cara disponível está a venda por R${:0,.2f}'.format(maior_valor))"
   ]
  },
  {
   "cell_type": "markdown",
   "id": "23a60ca4",
   "metadata": {},
   "source": [
    "**5. Qual é o valor do hodômotro da moto com a maior quilometragem?**"
   ]
  },
  {
   "cell_type": "code",
   "execution_count": 299,
   "id": "f64d9320",
   "metadata": {
    "ExecuteTime": {
     "end_time": "2022-07-18T20:47:57.109068Z",
     "start_time": "2022-07-18T20:47:57.102665Z"
    },
    "hide_input": true
   },
   "outputs": [
    {
     "name": "stdout",
     "output_type": "stream",
     "text": [
      " A moto com maior km tem 880,000.0 quilômetros.\n"
     ]
    }
   ],
   "source": [
    "maior_km = df3['km_driven'].max()\n",
    "print(' A moto com maior km tem {:,.1f}'.format(maior_km) +' quilômetros.')"
   ]
  },
  {
   "cell_type": "markdown",
   "id": "e096816b",
   "metadata": {
    "ExecuteTime": {
     "end_time": "2022-07-18T18:25:24.805053Z",
     "start_time": "2022-07-18T18:25:24.795826Z"
    }
   },
   "source": [
    "**6. Qual é o valor do hodômotro da moto com a menor quiilometragem?**"
   ]
  },
  {
   "cell_type": "code",
   "execution_count": 300,
   "id": "a9e5fa04",
   "metadata": {
    "ExecuteTime": {
     "end_time": "2022-07-18T20:47:57.119258Z",
     "start_time": "2022-07-18T20:47:57.112350Z"
    },
    "hide_input": true
   },
   "outputs": [
    {
     "name": "stdout",
     "output_type": "stream",
     "text": [
      " A moto com menor km tem 350.0 quilômetros.\n"
     ]
    }
   ],
   "source": [
    "menor_km = df3['km_driven'].min()\n",
    "print(' A moto com menor km tem {:,.1f}'.format(menor_km) +' quilômetros.')"
   ]
  },
  {
   "cell_type": "markdown",
   "id": "51f44e0e",
   "metadata": {
    "ExecuteTime": {
     "end_time": "2022-07-18T18:25:24.805053Z",
     "start_time": "2022-07-18T18:25:24.795826Z"
    },
    "hide_input": true
   },
   "source": [
    "**7. Das motocicletas que estão sendo expostas dentro de um Show Room, qual é o maior valor registrado na base de dados?**"
   ]
  },
  {
   "cell_type": "code",
   "execution_count": 301,
   "id": "d405b4e9",
   "metadata": {
    "ExecuteTime": {
     "end_time": "2022-07-18T20:47:57.131332Z",
     "start_time": "2022-07-18T20:47:57.122665Z"
    },
    "hide_input": true
   },
   "outputs": [
    {
     "name": "stdout",
     "output_type": "stream",
     "text": [
      " A moto mais cara exposta em um showroom custa R$760,000.00\n"
     ]
    }
   ],
   "source": [
    "aux = df3[df3['in_showroom']=='1']\n",
    "maior_valor_sr = df3['selling_price'].max()\n",
    "maior_valor_sr\n",
    "print(' A moto mais cara exposta em um showroom custa R${:,.2f}'.format(maior_valor_sr) )"
   ]
  },
  {
   "cell_type": "markdown",
   "id": "9018324d",
   "metadata": {
    "ExecuteTime": {
     "end_time": "2022-07-18T18:34:31.504404Z",
     "start_time": "2022-07-18T18:34:31.460434Z"
    }
   },
   "source": [
    "**8. Das motocicletas que estão sendo expostas dentro de um Show Room, qual é o menor valor registrado na base de dados?**"
   ]
  },
  {
   "cell_type": "code",
   "execution_count": 302,
   "id": "aaa91a2d",
   "metadata": {
    "ExecuteTime": {
     "end_time": "2022-07-18T20:47:57.142563Z",
     "start_time": "2022-07-18T20:47:57.135579Z"
    },
    "hide_input": true
   },
   "outputs": [
    {
     "name": "stdout",
     "output_type": "stream",
     "text": [
      " A moto mais barata exposta em um showroom custa R$5,000.00\n"
     ]
    }
   ],
   "source": [
    "aux = df3[df3['in_showroom']=='1']\n",
    "menor_valor_sr = df3['selling_price'].min()\n",
    "menor_valor_sr\n",
    "print(' A moto mais barata exposta em um showroom custa R${:,.2f}'.format(menor_valor_sr) )"
   ]
  },
  {
   "cell_type": "markdown",
   "id": "049bffb3",
   "metadata": {},
   "source": [
    "**9. Quantas motocicletas estão sendo vendidades pelos seus donos e quantas estão sendo vendidas por outros revendedores?**"
   ]
  },
  {
   "cell_type": "code",
   "execution_count": 303,
   "id": "1fa0cf99",
   "metadata": {
    "ExecuteTime": {
     "end_time": "2022-07-18T20:47:57.157097Z",
     "start_time": "2022-07-18T20:47:57.145565Z"
    },
    "hide_input": true
   },
   "outputs": [
    {
     "data": {
      "text/html": [
       "<div>\n",
       "<style scoped>\n",
       "    .dataframe tbody tr th:only-of-type {\n",
       "        vertical-align: middle;\n",
       "    }\n",
       "\n",
       "    .dataframe tbody tr th {\n",
       "        vertical-align: top;\n",
       "    }\n",
       "\n",
       "    .dataframe thead th {\n",
       "        text-align: right;\n",
       "    }\n",
       "</style>\n",
       "<table border=\"1\" class=\"dataframe\">\n",
       "  <thead>\n",
       "    <tr style=\"text-align: right;\">\n",
       "      <th></th>\n",
       "      <th>name</th>\n",
       "    </tr>\n",
       "    <tr>\n",
       "      <th>seller_type</th>\n",
       "      <th></th>\n",
       "    </tr>\n",
       "  </thead>\n",
       "  <tbody>\n",
       "    <tr>\n",
       "      <th>dealer</th>\n",
       "      <td>6</td>\n",
       "    </tr>\n",
       "    <tr>\n",
       "      <th>individual</th>\n",
       "      <td>1055</td>\n",
       "    </tr>\n",
       "  </tbody>\n",
       "</table>\n",
       "</div>"
      ],
      "text/plain": [
       "             name\n",
       "seller_type      \n",
       "dealer          6\n",
       "individual   1055"
      ]
     },
     "execution_count": 303,
     "metadata": {},
     "output_type": "execute_result"
    }
   ],
   "source": [
    "aux = df3.loc[:,['seller_type','name']].groupby('seller_type').count()\n",
    "aux"
   ]
  },
  {
   "cell_type": "markdown",
   "id": "f2ccd56b",
   "metadata": {},
   "source": [
    "**10. Qual é a média de valores das motos na base de dados?**"
   ]
  },
  {
   "cell_type": "code",
   "execution_count": 304,
   "id": "269d66e3",
   "metadata": {
    "ExecuteTime": {
     "end_time": "2022-07-18T20:47:57.165464Z",
     "start_time": "2022-07-18T20:47:57.159999Z"
    },
    "hide_input": true
   },
   "outputs": [
    {
     "name": "stdout",
     "output_type": "stream",
     "text": [
      "A média de preço das motos disponíveis na base de dados é de R$59,638.15\n"
     ]
    }
   ],
   "source": [
    "media = df3['selling_price'].mean()\n",
    "print('A média de preço das motos disponíveis na base de dados é de R${:,.2f}'.format(media))"
   ]
  },
  {
   "cell_type": "markdown",
   "id": "63012477",
   "metadata": {},
   "source": [
    "**11. Qual é a média de ano das motos cadastradas dentro da base de dados?**"
   ]
  },
  {
   "cell_type": "code",
   "execution_count": 305,
   "id": "99b69e3c",
   "metadata": {
    "ExecuteTime": {
     "end_time": "2022-07-18T20:47:57.175821Z",
     "start_time": "2022-07-18T20:47:57.168891Z"
    },
    "hide_input": true
   },
   "outputs": [
    {
     "name": "stdout",
     "output_type": "stream",
     "text": [
      "A média de ano das motos da base de dados é de 2014\n"
     ]
    }
   ],
   "source": [
    "media_ano = np.round(df3['year'].mean())\n",
    "print('A média de ano das motos da base de dados é de {:.0f}'.format(media_ano))"
   ]
  },
  {
   "cell_type": "markdown",
   "id": "cb7d3fe9",
   "metadata": {},
   "source": [
    "**12. Qual é a média de quilometragem das motos cadastradas dentro da base de dados?**"
   ]
  },
  {
   "cell_type": "code",
   "execution_count": 306,
   "id": "de9a99ed",
   "metadata": {
    "ExecuteTime": {
     "end_time": "2022-07-18T20:47:57.186561Z",
     "start_time": "2022-07-18T20:47:57.179359Z"
    },
    "hide_input": true
   },
   "outputs": [
    {
     "name": "stdout",
     "output_type": "stream",
     "text": [
      "A média de quilometragem das motos da base de dados é de 34,359.83\n"
     ]
    }
   ],
   "source": [
    "media_km = df3['km_driven'].mean()\n",
    "print('A média de quilometragem das motos da base de dados é de {:,.2f}'.format(media_km))"
   ]
  },
  {
   "cell_type": "markdown",
   "id": "7f7eb48b",
   "metadata": {},
   "source": [
    "**13. Existem quantas motos dentro da base de dados que são motos de um único dono?**"
   ]
  },
  {
   "cell_type": "code",
   "execution_count": 307,
   "id": "368df05b",
   "metadata": {
    "ExecuteTime": {
     "end_time": "2022-07-18T20:47:57.206303Z",
     "start_time": "2022-07-18T20:47:57.190671Z"
    },
    "hide_input": false
   },
   "outputs": [
    {
     "data": {
      "text/html": [
       "<div>\n",
       "<style scoped>\n",
       "    .dataframe tbody tr th:only-of-type {\n",
       "        vertical-align: middle;\n",
       "    }\n",
       "\n",
       "    .dataframe tbody tr th {\n",
       "        vertical-align: top;\n",
       "    }\n",
       "\n",
       "    .dataframe thead th {\n",
       "        text-align: right;\n",
       "    }\n",
       "</style>\n",
       "<table border=\"1\" class=\"dataframe\">\n",
       "  <thead>\n",
       "    <tr style=\"text-align: right;\">\n",
       "      <th></th>\n",
       "      <th>owner</th>\n",
       "      <th>name</th>\n",
       "    </tr>\n",
       "  </thead>\n",
       "  <tbody>\n",
       "    <tr>\n",
       "      <th>0</th>\n",
       "      <td>1st</td>\n",
       "      <td>924</td>\n",
       "    </tr>\n",
       "    <tr>\n",
       "      <th>1</th>\n",
       "      <td>2nd</td>\n",
       "      <td>123</td>\n",
       "    </tr>\n",
       "    <tr>\n",
       "      <th>2</th>\n",
       "      <td>3rd</td>\n",
       "      <td>11</td>\n",
       "    </tr>\n",
       "    <tr>\n",
       "      <th>3</th>\n",
       "      <td>4th</td>\n",
       "      <td>3</td>\n",
       "    </tr>\n",
       "  </tbody>\n",
       "</table>\n",
       "</div>"
      ],
      "text/plain": [
       "  owner  name\n",
       "0  1st    924\n",
       "1  2nd    123\n",
       "2  3rd     11\n",
       "3  4th      3"
      ]
     },
     "execution_count": 307,
     "metadata": {},
     "output_type": "execute_result"
    }
   ],
   "source": [
    "aux = df3.loc[:,['owner','name']].groupby('owner').count().reset_index()\n",
    "aux"
   ]
  },
  {
   "cell_type": "code",
   "execution_count": 308,
   "id": "7c827162",
   "metadata": {
    "ExecuteTime": {
     "end_time": "2022-07-18T20:47:57.448940Z",
     "start_time": "2022-07-18T20:47:57.209413Z"
    },
    "hide_input": false
   },
   "outputs": [
    {
     "data": {
      "image/png": "[encoded data removed]",
      "text/plain": [
       "<Figure size 1440x720 with 1 Axes>"
      ]
     },
     "metadata": {},
     "output_type": "display_data"
    }
   ],
   "source": [
    "ax=sns.barplot(x='owner',y='name',data=aux)\n",
    "\n",
    "ax.bar_label(ax.containers[0])\n",
    "\n",
    "ax.set(\n",
    "    title = 'Contagem de motos por número de donos',\n",
    "    xlabel = 'Quantidade de donos',\n",
    "    ylabel = 'Contagem');\n"
   ]
  },
  {
   "cell_type": "markdown",
   "id": "01c4f0b7",
   "metadata": {},
   "source": [
    "**14. As motos com menor quilometragem são as motos mais baratas do Dataset?**"
   ]
  },
  {
   "cell_type": "code",
   "execution_count": 309,
   "id": "1824eb13",
   "metadata": {
    "ExecuteTime": {
     "end_time": "2022-07-18T20:47:57.464116Z",
     "start_time": "2022-07-18T20:47:57.452596Z"
    },
    "hide_input": false
   },
   "outputs": [],
   "source": [
    "aux1 = df3.loc[:,['km_driven','selling_price']].groupby('km_driven').mean().reset_index()\n",
    "\n",
    "# bins= list( np.arange(0,300000,5000))\n",
    "# aux1['km_driven_binned'] = pd.cut(data['km_driven'],bins=bins)\n",
    "\n",
    "# aux2 = aux1[['km_driven_binned','selling_price']].groupby('km_driven_binned').mean().reset_index()"
   ]
  },
  {
   "cell_type": "code",
   "execution_count": 310,
   "id": "650cfcbd",
   "metadata": {
    "ExecuteTime": {
     "end_time": "2022-07-18T20:47:57.940073Z",
     "start_time": "2022-07-18T20:47:57.468601Z"
    },
    "hide_input": false
   },
   "outputs": [
    {
     "data": {
      "image/png": "[encoded data removed]",
      "text/plain": [
       "<Figure size 1440x720 with 1 Axes>"
      ]
     },
     "metadata": {},
     "output_type": "display_data"
    }
   ],
   "source": [
    "# ax=sns.barplot(x='km_driven_binned',y='selling_price',data=aux2)\n",
    "# plt.xticks(rotation=90);\n",
    "\n",
    "ax = sns.scatterplot(data = aux1, x = 'km_driven',  y = 'selling_price',  size = 'selling_price')#     hue = 'GoalsScored' )\n",
    "\n",
    "ax.set(\n",
    "    title = 'Preço x Quilometragem',\n",
    "    xlabel = 'Quilometragem',\n",
    "    ylabel = 'Preço');"
   ]
  },
  {
   "cell_type": "code",
   "execution_count": 311,
   "id": "487d3ca1",
   "metadata": {
    "ExecuteTime": {
     "end_time": "2022-07-18T20:47:57.962537Z",
     "start_time": "2022-07-18T20:47:57.943336Z"
    }
   },
   "outputs": [
    {
     "data": {
      "text/html": [
       "<div>\n",
       "<style scoped>\n",
       "    .dataframe tbody tr th:only-of-type {\n",
       "        vertical-align: middle;\n",
       "    }\n",
       "\n",
       "    .dataframe tbody tr th {\n",
       "        vertical-align: top;\n",
       "    }\n",
       "\n",
       "    .dataframe thead th {\n",
       "        text-align: right;\n",
       "    }\n",
       "</style>\n",
       "<table border=\"1\" class=\"dataframe\">\n",
       "  <thead>\n",
       "    <tr style=\"text-align: right;\">\n",
       "      <th></th>\n",
       "      <th>name</th>\n",
       "      <th>selling_price</th>\n",
       "      <th>year</th>\n",
       "      <th>seller_type</th>\n",
       "      <th>owner</th>\n",
       "      <th>km_driven</th>\n",
       "      <th>ex_showroom_price</th>\n",
       "      <th>in_showroom</th>\n",
       "      <th>bike_brand</th>\n",
       "    </tr>\n",
       "  </thead>\n",
       "  <tbody>\n",
       "    <tr>\n",
       "      <th>0</th>\n",
       "      <td>Royal Enfield Classic 350</td>\n",
       "      <td>175000.0</td>\n",
       "      <td>2019</td>\n",
       "      <td>individual</td>\n",
       "      <td>1st</td>\n",
       "      <td>350</td>\n",
       "      <td>0.0</td>\n",
       "      <td>0</td>\n",
       "      <td>Royal Enfield</td>\n",
       "    </tr>\n",
       "    <tr>\n",
       "      <th>1</th>\n",
       "      <td>Honda Dio</td>\n",
       "      <td>45000.0</td>\n",
       "      <td>2017</td>\n",
       "      <td>individual</td>\n",
       "      <td>1st</td>\n",
       "      <td>5650</td>\n",
       "      <td>0.0</td>\n",
       "      <td>0</td>\n",
       "      <td>Honda</td>\n",
       "    </tr>\n",
       "    <tr>\n",
       "      <th>2</th>\n",
       "      <td>Royal Enfield Classic Gunmetal Grey</td>\n",
       "      <td>150000.0</td>\n",
       "      <td>2018</td>\n",
       "      <td>individual</td>\n",
       "      <td>1st</td>\n",
       "      <td>12000</td>\n",
       "      <td>148114.0</td>\n",
       "      <td>1</td>\n",
       "      <td>Royal Enfield</td>\n",
       "    </tr>\n",
       "    <tr>\n",
       "      <th>3</th>\n",
       "      <td>Yamaha Fazer FI V 2.0 [2016-2018]</td>\n",
       "      <td>65000.0</td>\n",
       "      <td>2015</td>\n",
       "      <td>individual</td>\n",
       "      <td>1st</td>\n",
       "      <td>23000</td>\n",
       "      <td>89643.0</td>\n",
       "      <td>1</td>\n",
       "      <td>Yamaha</td>\n",
       "    </tr>\n",
       "    <tr>\n",
       "      <th>4</th>\n",
       "      <td>Yamaha SZ [2013-2014]</td>\n",
       "      <td>20000.0</td>\n",
       "      <td>2011</td>\n",
       "      <td>individual</td>\n",
       "      <td>2nd</td>\n",
       "      <td>21000</td>\n",
       "      <td>0.0</td>\n",
       "      <td>0</td>\n",
       "      <td>Yamaha</td>\n",
       "    </tr>\n",
       "  </tbody>\n",
       "</table>\n",
       "</div>"
      ],
      "text/plain": [
       "                                  name  selling_price  year seller_type owner  km_driven  ex_showroom_price in_showroom      bike_brand\n",
       "0            Royal Enfield Classic 350       175000.0  2019  individual  1st         350                0.0           0  Royal Enfield \n",
       "1                            Honda Dio        45000.0  2017  individual  1st        5650                0.0           0           Honda\n",
       "2  Royal Enfield Classic Gunmetal Grey       150000.0  2018  individual  1st       12000           148114.0           1  Royal Enfield \n",
       "3    Yamaha Fazer FI V 2.0 [2016-2018]        65000.0  2015  individual  1st       23000            89643.0           1          Yamaha\n",
       "4                Yamaha SZ [2013-2014]        20000.0  2011  individual  2nd       21000                0.0           0          Yamaha"
      ]
     },
     "execution_count": 311,
     "metadata": {},
     "output_type": "execute_result"
    }
   ],
   "source": [
    "df3.head()\n",
    "\n"
   ]
  },
  {
   "cell_type": "code",
   "execution_count": 312,
   "id": "7f53b6cf",
   "metadata": {
    "ExecuteTime": {
     "end_time": "2022-07-18T20:47:57.987138Z",
     "start_time": "2022-07-18T20:47:57.966090Z"
    }
   },
   "outputs": [
    {
     "data": {
      "text/html": [
       "<div>\n",
       "<style scoped>\n",
       "    .dataframe tbody tr th:only-of-type {\n",
       "        vertical-align: middle;\n",
       "    }\n",
       "\n",
       "    .dataframe tbody tr th {\n",
       "        vertical-align: top;\n",
       "    }\n",
       "\n",
       "    .dataframe thead th {\n",
       "        text-align: right;\n",
       "    }\n",
       "</style>\n",
       "<table border=\"1\" class=\"dataframe\">\n",
       "  <thead>\n",
       "    <tr style=\"text-align: right;\">\n",
       "      <th></th>\n",
       "      <th>bike_brand</th>\n",
       "      <th>selling_price</th>\n",
       "    </tr>\n",
       "  </thead>\n",
       "  <tbody>\n",
       "    <tr>\n",
       "      <th>0</th>\n",
       "      <td>Harley-Davidson</td>\n",
       "      <td>540000.000000</td>\n",
       "    </tr>\n",
       "    <tr>\n",
       "      <th>1</th>\n",
       "      <td>BMW</td>\n",
       "      <td>300000.000000</td>\n",
       "    </tr>\n",
       "    <tr>\n",
       "      <th>2</th>\n",
       "      <td>Kawasaki</td>\n",
       "      <td>287500.000000</td>\n",
       "    </tr>\n",
       "    <tr>\n",
       "      <th>3</th>\n",
       "      <td>Jawa</td>\n",
       "      <td>175000.000000</td>\n",
       "    </tr>\n",
       "    <tr>\n",
       "      <th>4</th>\n",
       "      <td>Benelli</td>\n",
       "      <td>160000.000000</td>\n",
       "    </tr>\n",
       "    <tr>\n",
       "      <th>5</th>\n",
       "      <td>UM</td>\n",
       "      <td>156666.666667</td>\n",
       "    </tr>\n",
       "    <tr>\n",
       "      <th>6</th>\n",
       "      <td>KTM</td>\n",
       "      <td>155708.333333</td>\n",
       "    </tr>\n",
       "    <tr>\n",
       "      <th>7</th>\n",
       "      <td>Hyosung</td>\n",
       "      <td>135000.000000</td>\n",
       "    </tr>\n",
       "    <tr>\n",
       "      <th>8</th>\n",
       "      <td>Royal Enfield</td>\n",
       "      <td>128549.541284</td>\n",
       "    </tr>\n",
       "    <tr>\n",
       "      <th>9</th>\n",
       "      <td>Suzuki</td>\n",
       "      <td>73800.000000</td>\n",
       "    </tr>\n",
       "    <tr>\n",
       "      <th>10</th>\n",
       "      <td>Aprilia</td>\n",
       "      <td>70000.000000</td>\n",
       "    </tr>\n",
       "    <tr>\n",
       "      <th>11</th>\n",
       "      <td>Vespa</td>\n",
       "      <td>68250.000000</td>\n",
       "    </tr>\n",
       "    <tr>\n",
       "      <th>12</th>\n",
       "      <td>Yamaha</td>\n",
       "      <td>63656.862745</td>\n",
       "    </tr>\n",
       "    <tr>\n",
       "      <th>13</th>\n",
       "      <td>Mahindra</td>\n",
       "      <td>62833.333333</td>\n",
       "    </tr>\n",
       "    <tr>\n",
       "      <th>14</th>\n",
       "      <td>TVS</td>\n",
       "      <td>46374.014493</td>\n",
       "    </tr>\n",
       "    <tr>\n",
       "      <th>15</th>\n",
       "      <td>Bajaj</td>\n",
       "      <td>44990.380769</td>\n",
       "    </tr>\n",
       "    <tr>\n",
       "      <th>16</th>\n",
       "      <td>Honda</td>\n",
       "      <td>44757.840580</td>\n",
       "    </tr>\n",
       "    <tr>\n",
       "      <th>17</th>\n",
       "      <td>Hero</td>\n",
       "      <td>34603.448276</td>\n",
       "    </tr>\n",
       "    <tr>\n",
       "      <th>18</th>\n",
       "      <td>Yo</td>\n",
       "      <td>20000.000000</td>\n",
       "    </tr>\n",
       "  </tbody>\n",
       "</table>\n",
       "</div>"
      ],
      "text/plain": [
       "         bike_brand  selling_price\n",
       "0   Harley-Davidson  540000.000000\n",
       "1               BMW  300000.000000\n",
       "2          Kawasaki  287500.000000\n",
       "3              Jawa  175000.000000\n",
       "4           Benelli  160000.000000\n",
       "5                UM  156666.666667\n",
       "6               KTM  155708.333333\n",
       "7           Hyosung  135000.000000\n",
       "8    Royal Enfield   128549.541284\n",
       "9            Suzuki   73800.000000\n",
       "10          Aprilia   70000.000000\n",
       "11            Vespa   68250.000000\n",
       "12           Yamaha   63656.862745\n",
       "13         Mahindra   62833.333333\n",
       "14              TVS   46374.014493\n",
       "15            Bajaj   44990.380769\n",
       "16            Honda   44757.840580\n",
       "17             Hero   34603.448276\n",
       "18               Yo   20000.000000"
      ]
     },
     "execution_count": 312,
     "metadata": {},
     "output_type": "execute_result"
    }
   ],
   "source": [
    "aux= df3.loc[:,['bike_brand','selling_price']].groupby('bike_brand').mean().sort_values('selling_price', ascending=False).reset_index()\n",
    "aux"
   ]
  },
  {
   "cell_type": "code",
   "execution_count": 344,
   "id": "172ee0b7",
   "metadata": {
    "ExecuteTime": {
     "end_time": "2022-07-18T21:01:48.491964Z",
     "start_time": "2022-07-18T21:01:48.170455Z"
    }
   },
   "outputs": [
    {
     "data": {
      "image/png": "[encoded data removed]",
      "text/plain": [
       "<Figure size 1440x720 with 1 Axes>"
      ]
     },
     "metadata": {},
     "output_type": "display_data"
    }
   ],
   "source": [
    "ax=sns.barplot(x='bike_brand',y='selling_price', data=aux)\n",
    "plt.xticks(rotation=45)\n",
    "ax.set(\n",
    "    title= 'Média de preço por marca',\n",
    "    xlabel= 'Marca',\n",
    "    ylabel= 'Preço');"
   ]
  },
  {
   "cell_type": "code",
   "execution_count": null,
   "id": "100fb5cc",
   "metadata": {},
   "outputs": [],
   "source": []
  }
 ],
 "metadata": {
  "hide_input": false,
  "kernelspec": {
   "display_name": "Python 3 (ipykernel)",
   "language": "python",
   "name": "python3"
  },
  "language_info": {
   "codemirror_mode": {
    "name": "ipython",
    "version": 3
   },
   "file_extension": ".py",
   "mimetype": "text/x-python",
   "name": "python",
   "nbconvert_exporter": "python",
   "pygments_lexer": "ipython3",
   "version": "3.10.1"
  },
  "latex_envs": {
   "LaTeX_envs_menu_present": true,
   "autoclose": false,
   "autocomplete": true,
   "bibliofile": "biblio.bib",
   "cite_by": "apalike",
   "current_citInitial": 1,
   "eqLabelWithNumbers": true,
   "eqNumInitial": 1,
   "hotkeys": {
    "equation": "Ctrl-E",
    "itemize": "Ctrl-I"
   },
   "labels_anchors": false,
   "latex_user_defs": false,
   "report_style_numbering": false,
   "user_envs_cfg": false
  },
  "vscode": {
   "interpreter": {
    "hash": "d7da943d29e683b94336196b543cb35f0f162d4f5b245b35bc1ef3fd3e73b856"
   }
  }
 },
 "nbformat": 4,
 "nbformat_minor": 5
}
